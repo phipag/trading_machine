{
 "cells": [
  {
   "cell_type": "code",
   "execution_count": null,
   "metadata": {},
   "outputs": [],
   "source": [
    "from tm.trading_rules import SimpleMovingAverage\n",
    "from tm import StockDataProvider\n",
    "import matplotlib.pyplot as plt\n",
    "from IPython.display import set_matplotlib_formats\n",
    "import math\n",
    "import pandas as pd\n",
    "%matplotlib inline\n",
    "set_matplotlib_formats('svg')"
   ]
  },
  {
   "cell_type": "code",
   "execution_count": null,
   "metadata": {},
   "outputs": [],
   "source": [
    "microsoft_data = StockDataProvider(ticker_name='MSFT')"
   ]
  },
  {
   "cell_type": "code",
   "execution_count": null,
   "metadata": {},
   "outputs": [],
   "source": [
    "sma = SimpleMovingAverage(microsoft_data, days=50)"
   ]
  },
  {
   "cell_type": "code",
   "execution_count": null,
   "metadata": {
    "scrolled": false
   },
   "outputs": [],
   "source": [
    "start_day, end_day = ('01-01-2019', '07-01-2019')\n",
    "fig, ax = plt.subplots()\n",
    "ax.plot(microsoft_data.history['Close'].loc[start_day:end_day], label='Microsoft stock prices')\n",
    "ax.plot(sma.calculate().loc[start_day:end_day], label='Simple 50 days moving average')\n",
    "\n",
    "# Buy signals\n",
    "buy_signals = sma.buy_signals().loc[start_day:end_day]\n",
    "buy_points = pd.Series(data=map(lambda index, price: price if buy_signals.loc[index] == True else math.nan, microsoft_data.history['Close'].loc[start_day:end_day].index, microsoft_data.history['Close'].loc[start_day:end_day]),\n",
    "                       index=microsoft_data.history['Close'].loc[start_day:end_day].index)\n",
    "ax.scatter(x=buy_points.index, y=buy_points, color='green', marker='x', label='Buy Signal')\n",
    "\n",
    "# Sell signals\n",
    "sell_signals = sma.sell_signals().loc[start_day:end_day]\n",
    "sell_points = pd.Series(data=map(lambda index, price: price if sell_signals.loc[index] == True else math.nan, microsoft_data.history['Close'].loc[start_day:end_day].index, microsoft_data.history['Close'].loc[start_day:end_day]),\n",
    "                       index=microsoft_data.history['Close'].loc[start_day:end_day].index)\n",
    "ax.scatter(x=sell_points.index, y=sell_points, color='red', marker='x', label='Sell Signal')\n",
    "\n",
    "ax.legend()\n",
    "fig.tight_layout()"
   ]
  },
  {
   "cell_type": "code",
   "execution_count": null,
   "metadata": {},
   "outputs": [],
   "source": [
    "profits = sell_points[~sell_points.isna()].reset_index(drop=True) - buy_points[~buy_points.isna()].reset_index(drop=True)\n",
    "profit_dollar = sum(profits.fillna(0))\n",
    "print('Profit:', profit_dollar, '$')"
   ]
  },
  {
   "cell_type": "code",
   "execution_count": null,
   "metadata": {},
   "outputs": [],
   "source": [
    "profit_percent = profit_dollar / buy_points[~buy_points.isna()].reset_index(drop=True)[0]\n",
    "print('Profit', profit_percent * 100, '%')"
   ]
  }
 ],
 "metadata": {
  "kernelspec": {
   "display_name": "Python 3",
   "language": "python",
   "name": "python3"
  },
  "language_info": {
   "codemirror_mode": {
    "name": "ipython",
    "version": 3
   },
   "file_extension": ".py",
   "mimetype": "text/x-python",
   "name": "python",
   "nbconvert_exporter": "python",
   "pygments_lexer": "ipython3",
   "version": "3.7.7"
  },
  "toc": {
   "base_numbering": 1,
   "nav_menu": {},
   "number_sections": true,
   "sideBar": true,
   "skip_h1_title": false,
   "title_cell": "Table of Contents",
   "title_sidebar": "Contents",
   "toc_cell": false,
   "toc_position": {},
   "toc_section_display": true,
   "toc_window_display": false
  }
 },
 "nbformat": 4,
 "nbformat_minor": 1
}

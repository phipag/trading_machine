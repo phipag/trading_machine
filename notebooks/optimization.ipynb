{
 "cells": [
  {
   "cell_type": "markdown",
   "metadata": {},
   "source": [
    "# Prerequisites"
   ]
  },
  {
   "cell_type": "code",
   "execution_count": null,
   "metadata": {},
   "outputs": [],
   "source": [
    "from tm.optimizers import GeneticOptimizer, calculate_absolute_buy_and_hold_returns, StrategyPerformanceEvaluator\n",
    "from tm.trading_rules import SimpleMovingAverage, ExponentialMovingAverage, STO, MACD, RSI, ROC\n",
    "from tm import StockDataProvider\n",
    "from tm.optimizers.utils import map_chromosome_to_trading_rule_parameters, filter_for_active_rules\n",
    "from tm.backtesting import GeometricBrownianMotion, MonteCarloCrossValidation\n",
    "import matplotlib.pyplot as plt\n",
    "import pandas as pd\n",
    "import numpy as np\n",
    "%matplotlib inline\n",
    "%config InlineBackend.figure_format='retina'"
   ]
  },
  {
   "cell_type": "code",
   "execution_count": null,
   "metadata": {},
   "outputs": [],
   "source": [
    "trading_rules = [SimpleMovingAverage, ExponentialMovingAverage, STO, MACD, RSI, ROC]"
   ]
  },
  {
   "cell_type": "markdown",
   "metadata": {},
   "source": [
    "# Optimization with Genetic Algorithm"
   ]
  },
  {
   "cell_type": "code",
   "execution_count": null,
   "metadata": {},
   "outputs": [],
   "source": [
    "data = StockDataProvider('CSCO', start='2014-11-01', end='2015-03-31')\n",
    "optimizer = GeneticOptimizer(data, trading_rules)"
   ]
  },
  {
   "cell_type": "code",
   "execution_count": null,
   "metadata": {
    "scrolled": false
   },
   "outputs": [],
   "source": [
    "%%time\n",
    "# Returns hall of fame of best hof_size individuals\n",
    "hof = optimizer.run(pop_size=1000, ngen=5, hof_size=100)"
   ]
  },
  {
   "cell_type": "code",
   "execution_count": null,
   "metadata": {},
   "outputs": [],
   "source": [
    "for individual in hof:\n",
    "    print('Chromosome:', individual)\n",
    "    print('Parameter mapping:', map_chromosome_to_trading_rule_parameters(individual, trading_rules))\n",
    "    print('Net profit for time period:', optimizer.toolbox.evaluate(individual))\n",
    "    print('----------------------------------------')"
   ]
  },
  {
   "cell_type": "code",
   "execution_count": null,
   "metadata": {
    "scrolled": true
   },
   "outputs": [],
   "source": [
    "# Plot buy and sell signals of best strategy\n",
    "best_strategy = hof[0]\n",
    "rule_instances = list(map(lambda Rule, params: Rule(data, *params), trading_rules, map_chromosome_to_trading_rule_parameters(best_strategy, trading_rules)))\n",
    "active_rule_instances = filter_for_active_rules(best_strategy, rule_instances)\n",
    "evaluator = StrategyPerformanceEvaluator(active_rule_instances)\n",
    "print('Net profit:', evaluator.calculate_net_profit())\n",
    "buy_signals = evaluator.buy_signals\n",
    "sell_signals = evaluator.sell_signals\n",
    "print('Num of sell signals:', len(sell_signals[sell_signals == True]))\n",
    "print('Num of buy signals:', len(buy_signals[buy_signals == True]))"
   ]
  },
  {
   "cell_type": "code",
   "execution_count": null,
   "metadata": {},
   "outputs": [],
   "source": [
    "# Performance of buy and hold\n",
    "calculate_absolute_buy_and_hold_returns(data)"
   ]
  },
  {
   "cell_type": "code",
   "execution_count": null,
   "metadata": {},
   "outputs": [],
   "source": [
    "fig, ax = plt.subplots(figsize=(16, 8))\n",
    "ax.plot(data.history['Close'], label='Stock prices')\n",
    "\n",
    "buy_points = pd.Series(data=map(lambda index, price: price if buy_signals.loc[index] == True else np.nan, data.history['Close'].index, data.history['Close']),\n",
    "                       index=data.history['Close'].index)\n",
    "ax.scatter(x=buy_points.index, y=buy_points, color='green', marker='^', label='Buy signal')\n",
    "sell_points = pd.Series(data=map(lambda index, price: price if sell_signals.loc[index] == True else np.nan, data.history['Close'].index, data.history['Close']),\n",
    "                       index=data.history['Close'].index)\n",
    "ax.scatter(x=sell_points.index, y=sell_points, color='red', marker='v', label='Sell signal')\n",
    "\n",
    "ax.set_xlabel('Date')\n",
    "ax.set_ylabel('Stock price')\n",
    "ax.legend()\n",
    "fig.tight_layout()"
   ]
  }
 ],
 "metadata": {
  "kernelspec": {
   "display_name": "Python 3",
   "language": "python",
   "name": "python3"
  },
  "language_info": {
   "codemirror_mode": {
    "name": "ipython",
    "version": 3
   },
   "file_extension": ".py",
   "mimetype": "text/x-python",
   "name": "python",
   "nbconvert_exporter": "python",
   "pygments_lexer": "ipython3",
   "version": "3.7.7"
  },
  "toc": {
   "base_numbering": 1,
   "nav_menu": {},
   "number_sections": true,
   "sideBar": true,
   "skip_h1_title": false,
   "title_cell": "Table of Contents",
   "title_sidebar": "Contents",
   "toc_cell": false,
   "toc_position": {},
   "toc_section_display": true,
   "toc_window_display": false
  }
 },
 "nbformat": 4,
 "nbformat_minor": 1
}

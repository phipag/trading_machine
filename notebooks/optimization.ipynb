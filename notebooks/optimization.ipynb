{
 "cells": [
  {
   "cell_type": "code",
   "execution_count": 1,
   "metadata": {},
   "outputs": [],
   "source": [
    "from tm.optimizers import GeneticOptimizer, calculate_absolute_buy_and_hold_returns\n",
    "from tm.trading_rules import SimpleMovingAverage, ExponentialMovingAverage\n",
    "from tm import StockDataProvider"
   ]
  },
  {
   "cell_type": "code",
   "execution_count": 2,
   "metadata": {},
   "outputs": [],
   "source": [
    "data = StockDataProvider('msft', start='2019-01-01', end='2019-12-31')\n",
    "g = GeneticOptimizer(data, [SimpleMovingAverage, ExponentialMovingAverage])"
   ]
  },
  {
   "cell_type": "code",
   "execution_count": 3,
   "metadata": {
    "scrolled": false
   },
   "outputs": [
    {
     "name": "stdout",
     "output_type": "stream",
     "text": [
      "-- Generation 1 --\n",
      "  Min -4.230000000000473\n",
      "  Max 149.51999999999998\n",
      "  Avg 13.689399999999996\n",
      "  Std 28.6911216750641\n",
      "-- Generation 2 --\n",
      "  Min 0.0\n",
      "  Max 149.51999999999998\n",
      "  Avg 29.548666666666655\n",
      "  Std 37.21345098512393\n",
      "-- Generation 3 --\n",
      "  Min -1.8499999999999943\n",
      "  Max 149.57000000000016\n",
      "  Avg 53.819266666666664\n",
      "  Std 43.52854624414751\n",
      "-- Generation 4 --\n",
      "  Min -6.270000000000437\n",
      "  Max 149.57000000000016\n",
      "  Avg 71.26169999999999\n",
      "  Std 47.05810499913906\n",
      "-- Generation 5 --\n",
      "  Min -1.740000000000009\n",
      "  Max 149.57000000000016\n",
      "  Avg 86.21669999999999\n",
      "  Std 52.54904950085524\n",
      "CPU times: user 7.87 s, sys: 36.3 ms, total: 7.91 s\n",
      "Wall time: 7.9 s\n"
     ]
    }
   ],
   "source": [
    "%%time\n",
    "g.run()"
   ]
  },
  {
   "cell_type": "code",
   "execution_count": 4,
   "metadata": {},
   "outputs": [
    {
     "data": {
      "text/plain": [
       "57.17999999999999"
      ]
     },
     "execution_count": 4,
     "metadata": {},
     "output_type": "execute_result"
    }
   ],
   "source": [
    "# Performance of buy and hold\n",
    "calculate_absolute_buy_and_hold_returns(data)"
   ]
  },
  {
   "cell_type": "code",
   "execution_count": 5,
   "metadata": {},
   "outputs": [
    {
     "data": {
      "text/plain": [
       "[[255], [254]]"
      ]
     },
     "execution_count": 5,
     "metadata": {},
     "output_type": "execute_result"
    }
   ],
   "source": [
    "# See how the mapping from bit encoded chromosome to trading rule parameters works :-)\n",
    "from tm.optimizers.utils import map_chromosome_to_trading_rule_parameters\n",
    "map_chromosome_to_trading_rule_parameters([1, 1, 1, 1, 1, 1, 1, 1, 0, 1, 1, 1, 1, 1, 1, 1, 0, 0], [SimpleMovingAverage, ExponentialMovingAverage])"
   ]
  }
 ],
 "metadata": {
  "kernelspec": {
   "display_name": "Python 3",
   "language": "python",
   "name": "python3"
  },
  "language_info": {
   "codemirror_mode": {
    "name": "ipython",
    "version": 3
   },
   "file_extension": ".py",
   "mimetype": "text/x-python",
   "name": "python",
   "nbconvert_exporter": "python",
   "pygments_lexer": "ipython3",
   "version": "3.7.7"
  },
  "toc": {
   "base_numbering": 1,
   "nav_menu": {},
   "number_sections": true,
   "sideBar": true,
   "skip_h1_title": false,
   "title_cell": "Table of Contents",
   "title_sidebar": "Contents",
   "toc_cell": false,
   "toc_position": {},
   "toc_section_display": true,
   "toc_window_display": false
  }
 },
 "nbformat": 4,
 "nbformat_minor": 1
}

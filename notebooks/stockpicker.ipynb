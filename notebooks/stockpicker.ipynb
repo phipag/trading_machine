{
 "cells": [
  {
   "cell_type": "code",
   "execution_count": 1,
   "metadata": {},
   "outputs": [],
   "source": [
    "from tm import StockDataProvider\n",
    "from tm.stock_picking import MarketCap\n",
    "from tm.stock_picking import PriceToBook\n",
    "import yfinance as yf"
   ]
  },
  {
   "cell_type": "code",
   "execution_count": 2,
   "metadata": {},
   "outputs": [
    {
     "data": {
      "text/plain": [
       "{'zip': '98052',\n",
       " 'sector': 'Technology',\n",
       " 'fullTimeEmployees': 144000,\n",
       " 'longBusinessSummary': 'Microsoft Corporation develops, licenses, and supports software, services, devices, and solutions worldwide. Its Productivity and Business Processes segment offers Office, Exchange, SharePoint, Microsoft Teams, Office 365 Security and Compliance, and Skype for Business, as well as related Client Access Licenses (CAL); Skype, Outlook.com, and OneDrive; LinkedIn that includes Talent and marketing solutions, and subscriptions; and Dynamics 365, a set of cloud-based and on-premises business solutions for small and medium businesses, large organizations, and divisions of enterprises. Its Intelligent Cloud segment licenses SQL and Windows Servers, Visual Studio, System Center, and related CALs; GitHub that provides a collaboration platform and code hosting service for developers; and Azure, a cloud platform. It also provides support services and Microsoft consulting services to assist customers in developing, deploying, and managing Microsoft server and desktop solutions; and training and certification to developers and IT professionals on various Microsoft products. Its More Personal Computing segment offers Windows OEM licensing and other non-volume licensing of the Windows operating system; Windows Commercial, such as volume licensing of the Windows operating system, Windows cloud services, and other Windows commercial offerings; patent licensing; Windows Internet of Things; and MSN advertising. It also provides Microsoft Surface, PC accessories, and other intelligent devices; Gaming, including Xbox hardware, and Xbox software and services; video games and third-party video game royalties; and Search, including Bing and Microsoft advertising. It sells its products through distributors and resellers; and directly through digital marketplaces, online stores, and retail stores. It has strategic partnerships with Humana Inc., Nokia, Telkomsel, Swiss Re, Kubota Corporation, and FedEx Corp. The company was founded in 1975 and is headquartered in Redmond, Washington.',\n",
       " 'city': 'Redmond',\n",
       " 'phone': '425-882-8080',\n",
       " 'state': 'WA',\n",
       " 'country': 'United States',\n",
       " 'companyOfficers': [],\n",
       " 'website': 'http://www.microsoft.com',\n",
       " 'maxAge': 1,\n",
       " 'address1': 'One Microsoft Way',\n",
       " 'fax': '425-706-7329',\n",
       " 'industry': 'Software—Infrastructure',\n",
       " 'previousClose': 204.7,\n",
       " 'regularMarketOpen': 205.68,\n",
       " 'twoHundredDayAverage': 171.98563,\n",
       " 'trailingAnnualDividendYield': 0.009721544,\n",
       " 'payoutRatio': 0.3233,\n",
       " 'volume24Hr': None,\n",
       " 'regularMarketDayHigh': 207.99,\n",
       " 'navPrice': None,\n",
       " 'averageDailyVolume10Day': 34500225,\n",
       " 'totalAssets': None,\n",
       " 'regularMarketPreviousClose': 204.7,\n",
       " 'fiftyDayAverage': 189.62,\n",
       " 'trailingAnnualDividendRate': 1.99,\n",
       " 'open': 205.68,\n",
       " 'toCurrency': None,\n",
       " 'averageVolume10days': 34500225,\n",
       " 'expireDate': None,\n",
       " 'yield': None,\n",
       " 'algorithm': None,\n",
       " 'dividendRate': 2.04,\n",
       " 'exDividendDate': 1597795200,\n",
       " 'beta': 0.925537,\n",
       " 'circulatingSupply': None,\n",
       " 'startDate': None,\n",
       " 'regularMarketDayLow': 205.11,\n",
       " 'priceHint': 2,\n",
       " 'currency': 'USD',\n",
       " 'trailingPE': 34.436855,\n",
       " 'regularMarketVolume': 12580338,\n",
       " 'lastMarket': None,\n",
       " 'maxSupply': None,\n",
       " 'openInterest': None,\n",
       " 'marketCap': 1567421235200,\n",
       " 'volumeAllCurrencies': None,\n",
       " 'strikePrice': None,\n",
       " 'averageVolume': 38292382,\n",
       " 'priceToSalesTrailing12Months': 11.300883,\n",
       " 'dayLow': 205.11,\n",
       " 'ask': 206.67,\n",
       " 'ytdReturn': None,\n",
       " 'askSize': 800,\n",
       " 'volume': 12580338,\n",
       " 'fiftyTwoWeekHigh': 207.99,\n",
       " 'forwardPE': 33.176567,\n",
       " 'fromCurrency': None,\n",
       " 'fiveYearAvgDividendYield': 1.89,\n",
       " 'fiftyTwoWeekLow': 130.78,\n",
       " 'bid': 206.58,\n",
       " 'tradeable': False,\n",
       " 'dividendYield': 0.01,\n",
       " 'bidSize': 800,\n",
       " 'dayHigh': 207.99,\n",
       " 'exchange': 'NMS',\n",
       " 'shortName': 'Microsoft Corporation',\n",
       " 'longName': 'Microsoft Corporation',\n",
       " 'exchangeTimezoneName': 'America/New_York',\n",
       " 'exchangeTimezoneShortName': 'EDT',\n",
       " 'isEsgPopulated': False,\n",
       " 'gmtOffSetMilliseconds': '-14400000',\n",
       " 'quoteType': 'EQUITY',\n",
       " 'symbol': 'MSFT',\n",
       " 'messageBoardId': 'finmb_21835',\n",
       " 'market': 'us_market',\n",
       " 'annualHoldingsTurnover': None,\n",
       " 'enterpriseToRevenue': 10.806,\n",
       " 'beta3Year': None,\n",
       " 'profitMargins': 0.33356997,\n",
       " 'enterpriseToEbitda': 23.384,\n",
       " '52WeekChange': 0.49350655,\n",
       " 'morningStarRiskRating': None,\n",
       " 'forwardEps': 6.23,\n",
       " 'revenueQuarterlyGrowth': None,\n",
       " 'sharesOutstanding': 7583439872,\n",
       " 'fundInceptionDate': None,\n",
       " 'annualReportExpenseRatio': None,\n",
       " 'bookValue': 15.086,\n",
       " 'sharesShort': 42930465,\n",
       " 'sharesPercentSharesOut': 0.0057,\n",
       " 'fundFamily': None,\n",
       " 'lastFiscalYearEnd': 1561852800,\n",
       " 'heldPercentInstitutions': 0.74093,\n",
       " 'netIncomeToCommon': 46265999360,\n",
       " 'trailingEps': 6.002,\n",
       " 'lastDividendValue': None,\n",
       " 'SandP52WeekChange': 0.041950822,\n",
       " 'priceToBook': 13.700782,\n",
       " 'heldPercentInsiders': 0.014249999,\n",
       " 'nextFiscalYearEnd': 1625011200,\n",
       " 'mostRecentQuarter': 1585612800,\n",
       " 'shortRatio': 1.24,\n",
       " 'sharesShortPreviousMonthDate': 1589500800,\n",
       " 'floatShares': 7472267013,\n",
       " 'enterpriseValue': 1498713161728,\n",
       " 'threeYearAverageReturn': None,\n",
       " 'lastSplitDate': 1045526400,\n",
       " 'lastSplitFactor': '2:1',\n",
       " 'legalType': None,\n",
       " 'morningStarOverallRating': None,\n",
       " 'earningsQuarterlyGrowth': 0.221,\n",
       " 'dateShortInterest': 1592179200,\n",
       " 'pegRatio': 2.35,\n",
       " 'lastCapGain': None,\n",
       " 'shortPercentOfFloat': 0.0057,\n",
       " 'sharesShortPriorMonth': 44236712,\n",
       " 'category': None,\n",
       " 'fiveYearAverageReturn': None,\n",
       " 'regularMarketPrice': 205.68,\n",
       " 'logo_url': 'https://logo.clearbit.com/microsoft.com'}"
      ]
     },
     "execution_count": 2,
     "metadata": {},
     "output_type": "execute_result"
    }
   ],
   "source": [
    "microsoft = yf.Ticker(\"MSFT\")\n",
    "microsoft.info"
   ]
  },
  {
   "cell_type": "code",
   "execution_count": 3,
   "metadata": {},
   "outputs": [],
   "source": [
    "msft = StockDataProvider(ticker_name='MSFT')"
   ]
  },
  {
   "cell_type": "code",
   "execution_count": 4,
   "metadata": {},
   "outputs": [
    {
     "data": {
      "text/plain": [
       "1567686656000"
      ]
     },
     "execution_count": 4,
     "metadata": {},
     "output_type": "execute_result"
    }
   ],
   "source": [
    "MarketCap(msft).calculate"
   ]
  },
  {
   "cell_type": "code",
   "execution_count": 5,
   "metadata": {},
   "outputs": [
    {
     "data": {
      "text/plain": [
       "13.703102"
      ]
     },
     "execution_count": 5,
     "metadata": {},
     "output_type": "execute_result"
    }
   ],
   "source": [
    "PriceToBook(msft).calculate"
   ]
  },
  {
   "cell_type": "code",
   "execution_count": null,
   "metadata": {},
   "outputs": [],
   "source": []
  }
 ],
 "metadata": {
  "kernelspec": {
   "display_name": "Python 3",
   "language": "python",
   "name": "python3"
  },
  "language_info": {
   "codemirror_mode": {
    "name": "ipython",
    "version": 3
   },
   "file_extension": ".py",
   "mimetype": "text/x-python",
   "name": "python",
   "nbconvert_exporter": "python",
   "pygments_lexer": "ipython3",
   "version": "3.7.4"
  }
 },
 "nbformat": 4,
 "nbformat_minor": 2
}

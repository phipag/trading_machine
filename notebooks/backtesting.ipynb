{
 "cells": [
  {
   "cell_type": "markdown",
   "metadata": {},
   "source": [
    "# Prerequisites"
   ]
  },
  {
   "cell_type": "code",
   "execution_count": null,
   "metadata": {},
   "outputs": [],
   "source": [
    "import numpy as np\n",
    "import pandas as pd\n",
    "from tm import StockDataProvider\n",
    "from tm.trading_rules import SimpleMovingAverage, ExponentialMovingAverage, STO, MACD, RSI, ROC, BollingerBaender\n",
    "from tm.optimizers import GeneticOptimizer, StrategyPerformanceEvaluator, map_chromosome_to_trading_rule_parameters, filter_for_active_rules, calculate_absolute_buy_and_hold_returns\n",
    "from tm.backtesting import GeometricBrownianMotion, MonteCarloCrossValidation\n",
    "import matplotlib.pyplot as plt\n",
    "%matplotlib inline\n",
    "%config InlineBackend.figure_format='retina'"
   ]
  },
  {
   "cell_type": "markdown",
   "metadata": {},
   "source": [
    "# Stock Price Simulation with Geometric Brownian Motion"
   ]
  },
  {
   "cell_type": "code",
   "execution_count": null,
   "metadata": {},
   "outputs": [],
   "source": [
    "# Use the 100 days training period of Burbach et al.\n",
    "data = StockDataProvider('SAP', start='2014-11-01', end='2015-03-31')"
   ]
  },
  {
   "cell_type": "code",
   "execution_count": null,
   "metadata": {},
   "outputs": [],
   "source": [
    "gbm = GeometricBrownianMotion(data)\n",
    "simulations_df = gbm.simulate(num_simulations=100, time_steps=84)"
   ]
  },
  {
   "cell_type": "code",
   "execution_count": null,
   "metadata": {},
   "outputs": [],
   "source": [
    "real_stock_prices = StockDataProvider('SAP', start='2015-04-01', end='2015-07-30').history['Close']\n",
    "fig, ax = plt.subplots(nrows=1, ncols=1, figsize=(16, 10))\n",
    "data.history['Close'].plot(ax=ax, label='Daily stock prices used for simulation', color='blue')\n",
    "simulations_df.plot(ax=ax, style=':', legend=False)\n",
    "real_stock_prices.plot(ax=ax, label='Real stock prices', lw=5, color='blue')\n",
    "\n",
    "ax.set_xlabel('Date')\n",
    "ax.set_ylabel('Stock price')\n",
    "ax.set_title('SAP stock price Monte Carlo Simulation using Geometric Brownian Motion stochastic process');"
   ]
  },
  {
   "cell_type": "markdown",
   "metadata": {},
   "source": [
    "# Optimization and Backtesting"
   ]
  },
  {
   "cell_type": "code",
   "execution_count": null,
   "metadata": {},
   "outputs": [],
   "source": [
    "trading_rules = [SimpleMovingAverage, ExponentialMovingAverage, STO, MACD, RSI, ROC, BollingerBaender]"
   ]
  },
  {
   "cell_type": "markdown",
   "metadata": {},
   "source": [
    "Run the optimization with the Genetic Algorithm"
   ]
  },
  {
   "cell_type": "code",
   "execution_count": null,
   "metadata": {},
   "outputs": [],
   "source": [
    "optimizer = GeneticOptimizer(data, trading_rules, random_seed=42)"
   ]
  },
  {
   "cell_type": "code",
   "execution_count": null,
   "metadata": {},
   "outputs": [],
   "source": [
    "%%time\n",
    "hof = optimizer.run(pop_size=1000, ngen=3, hof_size=100)\n",
    "print('Net profit of buy and hold:', calculate_absolute_buy_and_hold_returns(data))"
   ]
  },
  {
   "cell_type": "markdown",
   "metadata": {},
   "source": [
    "Use 100-fold crossvalidation on artificially generated stock prices with geometric brownian motion"
   ]
  },
  {
   "cell_type": "code",
   "execution_count": null,
   "metadata": {},
   "outputs": [],
   "source": [
    "crossvalidator = MonteCarloCrossValidation(hof, gbm, trading_rules)"
   ]
  },
  {
   "cell_type": "code",
   "execution_count": null,
   "metadata": {},
   "outputs": [],
   "source": [
    "%%time\n",
    "# Best individual is the bitvector representing the best strategy after crossvalidation\n",
    "best_individual = crossvalidator.run(num_iterations=100, time_steps=84)\n",
    "print(hof[0])"
   ]
  },
  {
   "cell_type": "markdown",
   "metadata": {},
   "source": [
    "Apply the best found strategy on the real data and compare the result with buy and hold"
   ]
  },
  {
   "cell_type": "code",
   "execution_count": null,
   "metadata": {},
   "outputs": [],
   "source": [
    "real_data = StockDataProvider('SAP', start='2015-04-01', end='2015-07-30')\n",
    "rule_instances = list(map(lambda Rule, params: Rule(real_data, *params), trading_rules, map_chromosome_to_trading_rule_parameters(best_individual, trading_rules)))\n",
    "active_rule_instances = filter_for_active_rules(best_individual, rule_instances)\n",
    "evaluator = StrategyPerformanceEvaluator(active_rule_instances)\n",
    "net_profit, last_sell = evaluator.calculate_net_profit()\n",
    "print('Active rules:', list(map(lambda rule: rule.__class__.__name__, active_rule_instances)))\n",
    "print('Active rules parameters:', list(map(lambda param: param[1], filter(lambda param: trading_rules[param[0]] in map(lambda rule: rule.__class__, active_rule_instances), enumerate(map_chromosome_to_trading_rule_parameters(best_individual, trading_rules))))))\n",
    "print('Net profit of strategy: {:f}'.format(net_profit))\n",
    "print('Net profit of buy and hold: {:f}'.format(calculate_absolute_buy_and_hold_returns(real_data, early_out=last_sell)))\n",
    "print('Percentage profit of strategy: {:f}%'.format(net_profit / real_data.history['Close'].iloc[0] * 100))\n",
    "print('Percentage profit of buy and hold: {:f}%'.format(calculate_absolute_buy_and_hold_returns(real_data, early_out=last_sell) / real_data.history['Close'].iloc[0] * 100))\n",
    "print('Number of buy signals:', len(evaluator.buy_signals[evaluator.buy_signals == True]))\n",
    "print('Number of sell signals:', len(evaluator.sell_signals[evaluator.sell_signals == True]))"
   ]
  },
  {
   "cell_type": "markdown",
   "metadata": {},
   "source": [
    "Print sell signals of Bollinger Bänder stop loss."
   ]
  },
  {
   "cell_type": "code",
   "execution_count": null,
   "metadata": {},
   "outputs": [],
   "source": [
    "bb = rule_instances[-1]\n",
    "bb_sell_signals = bb.sell_signals()\n",
    "bb_sell_signals[bb_sell_signals == True]"
   ]
  },
  {
   "cell_type": "code",
   "execution_count": null,
   "metadata": {},
   "outputs": [],
   "source": [
    "fig, ax = plt.subplots(figsize=(16, 8))\n",
    "ax.plot(real_data.history['Close'], label='Stock prices')\n",
    "\n",
    "buy_points = pd.Series(data=map(lambda index, price: price if evaluator.buy_signals.loc[index] == True else np.nan, real_data.history['Close'].index, real_data.history['Close']),\n",
    "                       index=real_data.history['Close'].index)\n",
    "ax.scatter(x=buy_points.index, y=buy_points, color='green', marker='^', label='Buy signal')\n",
    "sell_points = pd.Series(data=map(lambda index, price: price if evaluator.sell_signals.loc[index] == True else np.nan, real_data.history['Close'].index, real_data.history['Close']),\n",
    "                       index=real_data.history['Close'].index)\n",
    "ax.scatter(x=sell_points.index, y=sell_points, color='red', marker='v', label='Sell signal')\n",
    "\n",
    "ax.set_xlabel('Date')\n",
    "ax.set_ylabel('Stock price')\n",
    "ax.legend()\n",
    "fig.tight_layout()"
   ]
  }
 ],
 "metadata": {
  "kernelspec": {
   "display_name": "Python 3",
   "language": "python",
   "name": "python3"
  },
  "language_info": {
   "codemirror_mode": {
    "name": "ipython",
    "version": 3
   },
   "file_extension": ".py",
   "mimetype": "text/x-python",
   "name": "python",
   "nbconvert_exporter": "python",
   "pygments_lexer": "ipython3",
   "version": "3.7.7"
  },
  "toc": {
   "base_numbering": 1,
   "nav_menu": {},
   "number_sections": true,
   "sideBar": true,
   "skip_h1_title": false,
   "title_cell": "Table of Contents",
   "title_sidebar": "Contents",
   "toc_cell": false,
   "toc_position": {},
   "toc_section_display": true,
   "toc_window_display": false
  }
 },
 "nbformat": 4,
 "nbformat_minor": 1
}

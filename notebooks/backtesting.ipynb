{
 "cells": [
  {
   "cell_type": "markdown",
   "metadata": {},
   "source": [
    "# Prerequisites"
   ]
  },
  {
   "cell_type": "code",
   "execution_count": null,
   "metadata": {},
   "outputs": [],
   "source": [
    "import numpy as np\n",
    "import pandas as pd\n",
    "from tm import StockDataProvider\n",
    "from tm.backtesting import GeometricBrownianMotion, FeedForwardCrossvalidation\n",
    "import matplotlib.pyplot as plt\n",
    "%matplotlib inline\n",
    "%config InlineBackend.figure_format='retina'"
   ]
  },
  {
   "cell_type": "markdown",
   "metadata": {},
   "source": [
    "# Stock Price Simulation with Geometric Brownian Motion"
   ]
  },
  {
   "cell_type": "code",
   "execution_count": null,
   "metadata": {},
   "outputs": [],
   "source": [
    "data = StockDataProvider('BMW.F', start='2008-01-01', end='2008-12-31')"
   ]
  },
  {
   "cell_type": "code",
   "execution_count": null,
   "metadata": {},
   "outputs": [],
   "source": [
    "gbm = GeometricBrownianMotion(data)\n",
    "simulations_df = gbm.simulate(num_simulations=100, time_steps=252)"
   ]
  },
  {
   "cell_type": "code",
   "execution_count": null,
   "metadata": {},
   "outputs": [],
   "source": [
    "real_stock_prices = StockDataProvider('BMW.F', start='2009-01-01', end='2009-12-31').history['Close']\n",
    "fig, ax = plt.subplots(nrows=1, ncols=1, figsize=(16, 10))\n",
    "data.history['Close'].plot(ax=ax, label='Daily stock prices used for simulation', color='blue')\n",
    "simulations_df.plot(ax=ax, style=':', legend=False)\n",
    "real_stock_prices.plot(ax=ax, label='Real stock prices', lw=5, color='blue')\n",
    "ax.set_title('MSFT stock price Monte Carlo Simulation using Geometric Brownian Motion stochastic process');"
   ]
  }
 ],
 "metadata": {
  "kernelspec": {
   "display_name": "Python 3",
   "language": "python",
   "name": "python3"
  },
  "language_info": {
   "codemirror_mode": {
    "name": "ipython",
    "version": 3
   },
   "file_extension": ".py",
   "mimetype": "text/x-python",
   "name": "python",
   "nbconvert_exporter": "python",
   "pygments_lexer": "ipython3",
   "version": "3.7.7"
  },
  "toc": {
   "base_numbering": 1,
   "nav_menu": {},
   "number_sections": true,
   "sideBar": true,
   "skip_h1_title": false,
   "title_cell": "Table of Contents",
   "title_sidebar": "Contents",
   "toc_cell": false,
   "toc_position": {},
   "toc_section_display": true,
   "toc_window_display": false
  }
 },
 "nbformat": 4,
 "nbformat_minor": 1
}

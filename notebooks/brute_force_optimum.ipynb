{
 "cells": [
  {
   "cell_type": "code",
   "execution_count": null,
   "metadata": {},
   "outputs": [],
   "source": [
    "from tm.trading_rules import SimpleMovingAverage\n",
    "from tm import StockDataProvider\n",
    "import matplotlib.pyplot as plt\n",
    "from IPython.display import set_matplotlib_formats\n",
    "import math\n",
    "import pandas as pd\n",
    "%matplotlib inline\n",
    "set_matplotlib_formats('svg')"
   ]
  },
  {
   "cell_type": "code",
   "execution_count": null,
   "metadata": {},
   "outputs": [],
   "source": [
    "def optimalNumberDays(stock_data_provider):\n",
    "    start_day, end_day = ('01-01-1990', '31-12-2019')\n",
    "    max_profit = 0\n",
    "    optimum_days = 0\n",
    "    for i in range(10, 500):\n",
    "        sma = SimpleMovingAverage(microsoft_data, days=i)\n",
    "        buy_signals = sma.buy_signals().loc[start_day:end_day]\n",
    "        buy_points = pd.Series(data=map(lambda index, price: price if buy_signals.loc[index] == True else math.nan, microsoft_data.history['Close'].loc[start_day:end_day].index, microsoft_data.history['Close'].loc[start_day:end_day]),\n",
    "                       index=microsoft_data.history['Close'].loc[start_day:end_day].index)\n",
    "        sell_signals = sma.sell_signals().loc[start_day:end_day]\n",
    "        sell_points = pd.Series(data=map(lambda index, price: price if sell_signals.loc[index] == True else math.nan, microsoft_data.history['Close'].loc[start_day:end_day].index, microsoft_data.history['Close'].loc[start_day:end_day]),\n",
    "                       index=microsoft_data.history['Close'].loc[start_day:end_day].index)\n",
    "\n",
    "        profits = sell_points[~sell_points.isna()].reset_index(drop=True) - buy_points[~buy_points.isna()].reset_index(drop=True)\n",
    "        profit_dollar = sum(profits.fillna(0))\n",
    "        if(profit_dollar > max_profit):\n",
    "            max_profit = profit_dollar\n",
    "            optimum_days = i\n",
    "     \n",
    "    print('Best profit: ', max_profit, '$')\n",
    "    print('Optimum number of days: ', optimum_days)\n"
   ]
  },
  {
   "cell_type": "code",
   "execution_count": null,
   "metadata": {},
   "outputs": [],
   "source": [
    "microsoft_data = StockDataProvider(ticker_name='MSFT')"
   ]
  },
  {
   "cell_type": "code",
   "execution_count": null,
   "metadata": {},
   "outputs": [],
   "source": [
    "optimalNumberDays(microsoft_data)"
   ]
  },
  {
   "cell_type": "code",
   "execution_count": null,
   "metadata": {},
   "outputs": [],
   "source": [
    "microsoft_data.history['Close'].loc['31-12-2019']\n",
    "\n"
   ]
  },
  {
   "cell_type": "code",
   "execution_count": null,
   "metadata": {},
   "outputs": [],
   "source": [
    "microsoft_data.history['Close'].loc['01-01-1990']"
   ]
  },
  {
   "cell_type": "code",
   "execution_count": null,
   "metadata": {},
   "outputs": [],
   "source": [
    "microsoft_data.history"
   ]
  },
  {
   "cell_type": "code",
   "execution_count": null,
   "metadata": {},
   "outputs": [],
   "source": []
  }
 ],
 "metadata": {
  "kernelspec": {
   "display_name": "Python 3",
   "language": "python",
   "name": "python3"
  },
  "language_info": {
   "codemirror_mode": {
    "name": "ipython",
    "version": 3
   },
   "file_extension": ".py",
   "mimetype": "text/x-python",
   "name": "python",
   "nbconvert_exporter": "python",
   "pygments_lexer": "ipython3",
   "version": "3.7.6"
  },
  "toc": {
   "base_numbering": 1,
   "nav_menu": {},
   "number_sections": true,
   "sideBar": true,
   "skip_h1_title": false,
   "title_cell": "Table of Contents",
   "title_sidebar": "Contents",
   "toc_cell": false,
   "toc_position": {},
   "toc_section_display": true,
   "toc_window_display": false
  }
 },
 "nbformat": 4,
 "nbformat_minor": 4
}

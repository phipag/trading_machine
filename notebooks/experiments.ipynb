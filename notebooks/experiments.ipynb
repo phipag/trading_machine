{
 "cells": [
  {
   "cell_type": "markdown",
   "metadata": {},
   "source": [
    "# Prerequisites"
   ]
  },
  {
   "cell_type": "code",
   "execution_count": 2,
   "metadata": {},
   "outputs": [],
   "source": [
    "import numpy as np\n",
    "import pandas as pd\n",
    "from tm import StockDataProvider\n",
    "from tm.trading_rules import SimpleMovingAverage, ExponentialMovingAverage, STO, MACD, RSI, ROC\n",
    "from tm.optimizers import GeneticOptimizer, StrategyPerformanceEvaluator, map_chromosome_to_trading_rule_parameters, filter_for_active_rules, calculate_absolute_buy_and_hold_returns\n",
    "from tm.backtesting import GeometricBrownianMotion, MonteCarloCrossValidation\n",
    "import matplotlib.pyplot as plt\n",
    "%matplotlib inline\n",
    "%config InlineBackend.figure_format='retina'"
   ]
  },
  {
   "cell_type": "markdown",
   "metadata": {},
   "source": [
    "Define the trading rule basis for the strategy."
   ]
  },
  {
   "cell_type": "code",
   "execution_count": 3,
   "metadata": {},
   "outputs": [],
   "source": [
    "trading_rules = [SimpleMovingAverage, ExponentialMovingAverage, STO, MACD, RSI, ROC]"
   ]
  },
  {
   "cell_type": "markdown",
   "metadata": {},
   "source": [
    "Define a function which finds the best strategy by running the genetic algorithm and applying backtesting."
   ]
  },
  {
   "cell_type": "code",
   "execution_count": 4,
   "metadata": {},
   "outputs": [],
   "source": [
    "# Returns best strategy as bitvector\n",
    "def find_best_strategy(ticker_name, start, end, ngen=5):\n",
    "    data = StockDataProvider(ticker_name, start=start, end=end)\n",
    "    optimizer = GeneticOptimizer(data, trading_rules, random_seed=42)\n",
    "    print('Running genetic algorithm ...')\n",
    "    hof = optimizer.run(pop_size=1000, ngen=ngen, hof_size=100)\n",
    "    print('Net profit of buy and hold:', calculate_absolute_buy_and_hold_returns(data))\n",
    "    gbm = GeometricBrownianMotion(data)\n",
    "    crossvalidator = MonteCarloCrossValidation(hof, gbm, trading_rules)\n",
    "    print('Running backtesting ...')\n",
    "    best_individual = crossvalidator.run(num_iterations=100, time_steps=85)\n",
    "    del optimizer\n",
    "    return best_individual"
   ]
  },
  {
   "cell_type": "markdown",
   "metadata": {},
   "source": [
    "Define a function which prints the results for the testing period."
   ]
  },
  {
   "cell_type": "code",
   "execution_count": null,
   "metadata": {},
   "outputs": [],
   "source": [
    "def print_test_results(individual, ticker_name, start, end):\n",
    "    real_data = StockDataProvider(ticker_name, start=start, end=end)\n",
    "    rule_instances = list(map(lambda Rule, params: Rule(real_data, *params), trading_rules, map_chromosome_to_trading_rule_parameters(individual, trading_rules)))\n",
    "    active_rule_instances = filter_for_active_rules(individual, rule_instances)\n",
    "    evaluator = StrategyPerformanceEvaluator(active_rule_instances)\n",
    "    net_profit = evaluator.calculate_net_profit()\n",
    "    net_profit_bh = calculate_absolute_buy_and_hold_returns(real_data)\n",
    "    percentage_profit = net_profit / real_data.history['Close'].iloc[0] * 100\n",
    "    percentage_profit_bh = net_profit_bh / real_data.history['Close'].iloc[0] * 100\n",
    "    print('Active rules:', list(map(lambda rule: rule.__class__.__name__, active_rule_instances)))\n",
    "    print('Active rules\\' parameters:', list(map(lambda param: param[1], filter(lambda param: trading_rules[param[0]] in map(lambda rule: rule.__class__, active_rule_instances), enumerate(map_chromosome_to_trading_rule_parameters(individual, trading_rules))))))\n",
    "    print('Net profit of strategy: {:f}'.format(net_profit))\n",
    "    print('Net profit of buy and hold: {:f}'.format(net_profit_bh))\n",
    "    print('Percentage profit of strategy: {:f}%'.format(percentage_profit))\n",
    "    print('Percentage profit of buy and hold: {:f}%'.format(percentage_profit_bh))\n",
    "    print('Number of buy signals:', len(evaluator.buy_signals[evaluator.buy_signals == True]))\n",
    "    print('Number of sell signals:', len(evaluator.sell_signals[evaluator.sell_signals == True]))\n",
    "    return evaluator, percentage_profit, percentage_profit_bh"
   ]
  },
  {
   "cell_type": "markdown",
   "metadata": {},
   "source": [
    "Define a function which can plot a strategy."
   ]
  },
  {
   "cell_type": "code",
   "execution_count": null,
   "metadata": {},
   "outputs": [],
   "source": [
    "def plot_strategy(evaluator, ticker_name, start, end):\n",
    "    data = StockDataProvider(ticker_name, start=start, end=end)\n",
    "    \n",
    "    fig, ax = plt.subplots(figsize=(16, 8))\n",
    "    \n",
    "    ax.plot(data.history['Close'], label='Stock prices')\n",
    "\n",
    "    if len(evaluator.buy_signals[evaluator.buy_signals == True]) > 0:\n",
    "        buy_points = pd.Series(data=map(lambda index, price: price if evaluator.buy_signals.loc[index] == True else np.nan, data.history['Close'].index, data.history['Close']),\n",
    "                               index=data.history['Close'].index)\n",
    "        ax.scatter(x=buy_points.index, y=buy_points, color='green', marker='^', label='Buy signal')\n",
    "    \n",
    "    if len(evaluator.sell_signals[evaluator.sell_signals == True]) > 0:\n",
    "        sell_points = pd.Series(data=map(lambda index, price: price if evaluator.sell_signals.loc[index] == True else np.nan, data.history['Close'].index, data.history['Close']),\n",
    "                               index=data.history['Close'].index)\n",
    "        ax.scatter(x=sell_points.index, y=sell_points, color='red', marker='v', label='Sell signal')\n",
    "\n",
    "    ax.set_xlabel('Date')\n",
    "    ax.set_ylabel('Stock price')\n",
    "    ax.legend()\n",
    "    fig.tight_layout()"
   ]
  },
  {
   "cell_type": "markdown",
   "metadata": {},
   "source": [
    "# Experiments"
   ]
  },
  {
   "cell_type": "code",
   "execution_count": null,
   "metadata": {},
   "outputs": [],
   "source": [
    "results = {'EXS1.DE': [],\n",
    "           'ADS.DE': [],\n",
    "           'ALV.DE': [],\n",
    "           'BAS.DE': [],\n",
    "           'DBK.DE': [],\n",
    "           'DTE.DE': [],\n",
    "           'SAP.DE': [],\n",
    "           'DJI': [],\n",
    "           'CSCO': [],\n",
    "           'DD': [],\n",
    "           'JPM': [],\n",
    "           'MSFT': [],\n",
    "           'NKE': [],\n",
    "           'UNH': []}"
   ]
  },
  {
   "cell_type": "markdown",
   "metadata": {},
   "source": [
    "## DAX"
   ]
  },
  {
   "cell_type": "code",
   "execution_count": 6,
   "metadata": {},
   "outputs": [
    {
     "name": "stdout",
     "output_type": "stream",
     "text": [
      "Running genetic algorithm ...\n"
     ]
    },
    {
     "name": "stderr",
     "output_type": "stream",
     "text": [
      "C:\\Users\\Jonathan\\Anaconda3\\lib\\site-packages\\deap-1.3.1-py3.7-win-amd64.egg\\deap\\creator.py:141: RuntimeWarning: A class named 'FitnessMax' has already been created and it will be overwritten. Consider deleting previous creation of that class or rename it.\n",
      "  RuntimeWarning)\n",
      "C:\\Users\\Jonathan\\Anaconda3\\lib\\site-packages\\deap-1.3.1-py3.7-win-amd64.egg\\deap\\creator.py:141: RuntimeWarning: A class named 'Individual' has already been created and it will be overwritten. Consider deleting previous creation of that class or rename it.\n",
      "  RuntimeWarning)\n"
     ]
    },
    {
     "name": "stdout",
     "output_type": "stream",
     "text": [
      "gen\tnevals\tmin     \tmax    \tmean    \tstd    \n",
      "0  \t1000  \t-115.186\t25.2634\t-23.1293\t50.9981\n",
      "1  \t583   \t-110.166\t25.2634\t5.76885 \t30.2291\n",
      "2  \t589   \t-110.392\t27.0993\t13.545  \t24.1657\n",
      "3  \t596   \t-113.937\t27.2517\t17.231  \t21.0143\n",
      "4  \t600   \t-109.918\t27.2517\t19.7877 \t15.5901\n",
      "5  \t624   \t-110.699\t27.418 \t18.167  \t22.9382\n",
      "Net profit of buy and hold: 23.655000000000005\n",
      "Running backtesting ...\n",
      "Best individual: [0, 0, 1, 0, 0, 1, 1, 1, 1, 1, 0, 0, 1, 0, 0, 1, 0, 1, 1, 1, 0, 0, 0, 1, 0, 0, 1, 1, 1, 1, 1, 1, 0, 1, 1, 0, 0, 0, 0, 0, 1, 0, 1, 0, 1, 1, 0, 1, 1, 1, 1, 0, 1, 0, 0, 1, 0, 1, 0, 0, 0, 1, 1, 1, 1, 0, 1, 1, 0, 1, 0, 0, 0, 1, 0, 1]\n",
      "Best average net profit: 18.097198925006055\n",
      "Wall time: 7min 49s\n"
     ]
    }
   ],
   "source": [
    "%%time\n",
    "best_individual = find_best_strategy(ticker_name='EXS1.DE', start='2014-11-05', end='2015-03-31', ngen=5)"
   ]
  },
  {
   "cell_type": "code",
   "execution_count": null,
   "metadata": {
    "scrolled": true
   },
   "outputs": [],
   "source": [
    "evaluator, percentage_profit, percentage_profit_bh = print_test_results(best_individual, ticker_name='EXS1.DE', start='2015-04-01', end='2015-07-30')\n",
    "results['EXS1.DE'].append([percentage_profit, percentage_profit_bh])"
   ]
  },
  {
   "cell_type": "code",
   "execution_count": null,
   "metadata": {},
   "outputs": [],
   "source": [
    "plot_strategy(evaluator, ticker_name='EXS1.DE', start='2015-04-01', end='2015-07-30')"
   ]
  },
  {
   "cell_type": "code",
   "execution_count": null,
   "metadata": {},
   "outputs": [],
   "source": [
    "%%time\n",
    "best_individual = find_best_strategy(ticker_name='EXS1.DE', start='2015-05-07', end='2015-09-27', ngen=5)"
   ]
  },
  {
   "cell_type": "code",
   "execution_count": null,
   "metadata": {
    "scrolled": true
   },
   "outputs": [],
   "source": [
    "evaluator, percentage_profit, percentage_profit_bh = print_test_results(best_individual, ticker_name='EXS1.DE', start='2015-09-28', end='2016-01-26')\n",
    "results['EXS1.DE'].append([percentage_profit, percentage_profit_bh])"
   ]
  },
  {
   "cell_type": "code",
   "execution_count": null,
   "metadata": {},
   "outputs": [],
   "source": [
    "plot_strategy(evaluator, ticker_name='EXS1.DE', start='2015-09-28', end='2016-01-26')"
   ]
  },
  {
   "cell_type": "code",
   "execution_count": null,
   "metadata": {},
   "outputs": [],
   "source": [
    "%%time\n",
    "best_individual = find_best_strategy(ticker_name='EXS1.DE', start='2015-10-31', end='2016-03-25', ngen=5)"
   ]
  },
  {
   "cell_type": "code",
   "execution_count": null,
   "metadata": {
    "scrolled": true
   },
   "outputs": [],
   "source": [
    "evaluator, percentage_profit, percentage_profit_bh = print_test_results(best_individual, ticker_name='EXS1.DE', start='2016-03-26', end='2016-07-24')\n",
    "results['EXS1.DE'].append([percentage_profit, percentage_profit_bh])"
   ]
  },
  {
   "cell_type": "code",
   "execution_count": null,
   "metadata": {},
   "outputs": [],
   "source": [
    "plot_strategy(evaluator, ticker_name='EXS1.DE', start='2016-03-26', end='2016-07-24')"
   ]
  },
  {
   "cell_type": "code",
   "execution_count": null,
   "metadata": {},
   "outputs": [],
   "source": [
    "%%time\n",
    "best_individual = find_best_strategy(ticker_name='EXS1.DE', start='2016-04-30', end='2016-09-21', ngen=5)"
   ]
  },
  {
   "cell_type": "code",
   "execution_count": null,
   "metadata": {
    "scrolled": true
   },
   "outputs": [],
   "source": [
    "evaluator, percentage_profit, percentage_profit_bh = print_test_results(best_individual, ticker_name='EXS1.DE', start='2016-09-22', end='2017-01-20')\n",
    "results['EXS1.DE'].append([percentage_profit, percentage_profit_bh])"
   ]
  },
  {
   "cell_type": "code",
   "execution_count": null,
   "metadata": {},
   "outputs": [],
   "source": [
    "plot_strategy(evaluator, ticker_name='EXS1.DE', start='2016-09-22', end='2017-01-20')"
   ]
  },
  {
   "cell_type": "code",
   "execution_count": null,
   "metadata": {},
   "outputs": [],
   "source": [
    "%%time\n",
    "best_individual = find_best_strategy(ticker_name='EXS1.DE', start='2016-10-25', end='2017-03-20', ngen=5)"
   ]
  },
  {
   "cell_type": "code",
   "execution_count": null,
   "metadata": {
    "scrolled": true
   },
   "outputs": [],
   "source": [
    "evaluator, percentage_profit, percentage_profit_bh = print_test_results(best_individual, ticker_name='EXS1.DE', start='2017-03-21', end='2017-07-19')\n",
    "results['EXS1.DE'].append([percentage_profit, percentage_profit_bh])"
   ]
  },
  {
   "cell_type": "code",
   "execution_count": null,
   "metadata": {},
   "outputs": [],
   "source": [
    "plot_strategy(evaluator, ticker_name='EXS1.DE', start='2017-03-21', end='2017-07-19')"
   ]
  },
  {
   "cell_type": "markdown",
   "metadata": {},
   "source": [
    "## Adidas"
   ]
  },
  {
   "cell_type": "code",
   "execution_count": 7,
   "metadata": {},
   "outputs": [
    {
     "name": "stderr",
     "output_type": "stream",
     "text": [
      "C:\\Users\\Jonathan\\Anaconda3\\lib\\site-packages\\deap-1.3.1-py3.7-win-amd64.egg\\deap\\creator.py:141: RuntimeWarning: A class named 'FitnessMax' has already been created and it will be overwritten. Consider deleting previous creation of that class or rename it.\n",
      "  RuntimeWarning)\n",
      "C:\\Users\\Jonathan\\Anaconda3\\lib\\site-packages\\deap-1.3.1-py3.7-win-amd64.egg\\deap\\creator.py:141: RuntimeWarning: A class named 'Individual' has already been created and it will be overwritten. Consider deleting previous creation of that class or rename it.\n",
      "  RuntimeWarning)\n"
     ]
    },
    {
     "name": "stdout",
     "output_type": "stream",
     "text": [
      "Running genetic algorithm ...\n",
      "gen\tnevals\tmin     \tmax    \tmean   \tstd    \n",
      "0  \t1000  \t-64.7321\t21.1204\t7.93255\t9.56094\n",
      "1  \t583   \t-59.8479\t21.1204\t11.9679\t6.42473\n",
      "2  \t589   \t-65.0411\t21.1204\t13.9905\t5.65471\n",
      "3  \t596   \t-59.9513\t21.5717\t15.0601\t5.25186\n",
      "4  \t600   \t-48.5503\t21.5717\t16.2693\t4.62869\n",
      "5  \t624   \t-63.043 \t21.5717\t17.2976\t5.08048\n",
      "Net profit of buy and hold: 15.016725000000003\n",
      "Running backtesting ...\n",
      "Best individual: [1, 1, 1, 1, 1, 1, 1, 1, 1, 0, 0, 0, 1, 0, 1, 0, 0, 1, 1, 1, 1, 1, 0, 1, 0, 1, 0, 1, 0, 1, 1, 0, 1, 0, 1, 0, 1, 1, 1, 0, 1, 1, 1, 1, 0, 0, 0, 1, 1, 0, 0, 0, 1, 0, 0, 1, 1, 1, 0, 0, 0, 0, 1, 1, 0, 1, 0, 1, 0, 1, 0, 0, 1, 0, 0, 0]\n",
      "Best average net profit: 7.6983744363052855\n",
      "Wall time: 7min 52s\n"
     ]
    }
   ],
   "source": [
    "%%time\n",
    "best_individual = find_best_strategy(ticker_name='ADS.DE', start='2014-11-05', end='2015-03-31', ngen=5)"
   ]
  },
  {
   "cell_type": "code",
   "execution_count": null,
   "metadata": {
    "scrolled": true
   },
   "outputs": [],
   "source": [
    "evaluator, percentage_profit, percentage_profit_bh = print_test_results(best_individual, ticker_name='ADS.DE', start='2015-04-01', end='2015-07-30')\n",
    "results['ADS.DE'].append([percentage_profit, percentage_profit_bh])"
   ]
  },
  {
   "cell_type": "code",
   "execution_count": null,
   "metadata": {},
   "outputs": [],
   "source": [
    "plot_strategy(evaluator, ticker_name='ADS.DE', start='2015-04-01', end='2015-07-30')"
   ]
  },
  {
   "cell_type": "code",
   "execution_count": null,
   "metadata": {},
   "outputs": [],
   "source": [
    "%%time\n",
    "best_individual = find_best_strategy(ticker_name='ADS.DE', start='2015-05-07', end='2015-09-27', ngen=5)"
   ]
  },
  {
   "cell_type": "code",
   "execution_count": null,
   "metadata": {
    "scrolled": true
   },
   "outputs": [],
   "source": [
    "evaluator, percentage_profit, percentage_profit_bh = print_test_results(best_individual, ticker_name='ADS.DE', start='2015-09-28', end='2016-01-26')\n",
    "results['ADS.DE'].append([percentage_profit, percentage_profit_bh])"
   ]
  },
  {
   "cell_type": "code",
   "execution_count": null,
   "metadata": {},
   "outputs": [],
   "source": [
    "plot_strategy(evaluator, ticker_name='ADS.DE', start='2015-09-28', end='2016-01-26')"
   ]
  },
  {
   "cell_type": "code",
   "execution_count": null,
   "metadata": {},
   "outputs": [],
   "source": [
    "%%time\n",
    "best_individual = find_best_strategy(ticker_name='ADS.DE', start='2015-10-31', end='2016-03-25', ngen=5)"
   ]
  },
  {
   "cell_type": "code",
   "execution_count": null,
   "metadata": {
    "scrolled": true
   },
   "outputs": [],
   "source": [
    "evaluator, percentage_profit, percentage_profit_bh = print_test_results(best_individual, ticker_name='ADS.DE', start='2016-03-26', end='2016-07-24')\n",
    "results['ADS.DE'].append([percentage_profit, percentage_profit_bh])"
   ]
  },
  {
   "cell_type": "code",
   "execution_count": null,
   "metadata": {},
   "outputs": [],
   "source": [
    "plot_strategy(evaluator, ticker_name='ADS.DE', start='2016-03-26', end='2016-07-24')"
   ]
  },
  {
   "cell_type": "code",
   "execution_count": null,
   "metadata": {},
   "outputs": [],
   "source": [
    "%%time\n",
    "best_individual = find_best_strategy(ticker_name='ADS.DE', start='2016-04-30', end='2016-09-21', ngen=5)"
   ]
  },
  {
   "cell_type": "code",
   "execution_count": null,
   "metadata": {
    "scrolled": true
   },
   "outputs": [],
   "source": [
    "evaluator, percentage_profit, percentage_profit_bh = print_test_results(best_individual, ticker_name='ADS.DE', start='2016-09-22', end='2017-01-20')\n",
    "results['ADS.DE'].append([percentage_profit, percentage_profit_bh])"
   ]
  },
  {
   "cell_type": "code",
   "execution_count": null,
   "metadata": {},
   "outputs": [],
   "source": [
    "plot_strategy(evaluator, ticker_name='ADS.DE', start='2016-09-22', end='2017-01-20')"
   ]
  },
  {
   "cell_type": "code",
   "execution_count": null,
   "metadata": {},
   "outputs": [],
   "source": [
    "%%time\n",
    "best_individual = find_best_strategy(ticker_name='ADS.DE', start='2016-10-25', end='2017-03-20', ngen=5)"
   ]
  },
  {
   "cell_type": "code",
   "execution_count": null,
   "metadata": {
    "scrolled": true
   },
   "outputs": [],
   "source": [
    "evaluator, percentage_profit, percentage_profit_bh = print_test_results(best_individual, ticker_name='ADS.DE', start='2017-03-21', end='2017-07-19')\n",
    "results['ADS.DE'].append([percentage_profit, percentage_profit_bh])"
   ]
  },
  {
   "cell_type": "code",
   "execution_count": null,
   "metadata": {},
   "outputs": [],
   "source": [
    "plot_strategy(evaluator, ticker_name='ADS.DE', start='2017-03-21', end='2017-07-19')"
   ]
  },
  {
   "cell_type": "markdown",
   "metadata": {},
   "source": [
    "## Allianz"
   ]
  },
  {
   "cell_type": "code",
   "execution_count": 8,
   "metadata": {},
   "outputs": [
    {
     "name": "stderr",
     "output_type": "stream",
     "text": [
      "C:\\Users\\Jonathan\\Anaconda3\\lib\\site-packages\\deap-1.3.1-py3.7-win-amd64.egg\\deap\\creator.py:141: RuntimeWarning: A class named 'FitnessMax' has already been created and it will be overwritten. Consider deleting previous creation of that class or rename it.\n",
      "  RuntimeWarning)\n",
      "C:\\Users\\Jonathan\\Anaconda3\\lib\\site-packages\\deap-1.3.1-py3.7-win-amd64.egg\\deap\\creator.py:141: RuntimeWarning: A class named 'Individual' has already been created and it will be overwritten. Consider deleting previous creation of that class or rename it.\n",
      "  RuntimeWarning)\n"
     ]
    },
    {
     "name": "stdout",
     "output_type": "stream",
     "text": [
      "Running genetic algorithm ...\n",
      "gen\tnevals\tmin    \tmax    \tmean    \tstd    \n",
      "0  \t1000  \t-125.65\t23.8824\t-9.68521\t46.0219\n",
      "1  \t583   \t-120.758\t23.8824\t10.7798 \t21.7268\n",
      "2  \t589   \t-120.593\t24.9006\t16.2579 \t16.5536\n",
      "3  \t596   \t-118.337\t24.9006\t18.3021 \t15.4589\n",
      "4  \t600   \t-117.84 \t24.9287\t20.1534 \t9.72352\n",
      "5  \t624   \t-123.191\t24.9006\t20.0142 \t13.1844\n",
      "Net profit of buy and hold: 24.875375000000002\n",
      "Running backtesting ...\n",
      "Best individual: [1, 1, 1, 0, 1, 0, 1, 1, 1, 0, 1, 0, 1, 0, 1, 0, 0, 1, 1, 0, 1, 1, 0, 1, 1, 1, 0, 1, 1, 0, 1, 1, 1, 1, 1, 1, 0, 1, 0, 0, 0, 1, 0, 0, 0, 1, 1, 0, 1, 0, 0, 0, 0, 0, 1, 0, 1, 0, 1, 1, 1, 0, 1, 1, 0, 1, 1, 0, 0, 0, 0, 1, 1, 1, 1, 0]\n",
      "Best average net profit: 18.47640204584431\n",
      "Wall time: 8min 15s\n"
     ]
    }
   ],
   "source": [
    "%%time\n",
    "best_individual = find_best_strategy(ticker_name='ALV.DE', start='2014-11-05', end='2015-03-31', ngen=5)"
   ]
  },
  {
   "cell_type": "code",
   "execution_count": null,
   "metadata": {
    "scrolled": true
   },
   "outputs": [],
   "source": [
    "evaluator, percentage_profit, percentage_profit_bh = print_test_results(best_individual, ticker_name='ALV.DE', start='2015-04-01', end='2015-07-30')\n",
    "results['ALV.DE'].append([percentage_profit, percentage_profit_bh])"
   ]
  },
  {
   "cell_type": "code",
   "execution_count": null,
   "metadata": {},
   "outputs": [],
   "source": [
    "plot_strategy(evaluator, ticker_name='ALV.DE', start='2015-04-01', end='2015-07-30')"
   ]
  },
  {
   "cell_type": "code",
   "execution_count": null,
   "metadata": {},
   "outputs": [],
   "source": [
    "%%time\n",
    "best_individual = find_best_strategy(ticker_name='ALV.DE', start='2015-05-07', end='2015-09-27', ngen=5)"
   ]
  },
  {
   "cell_type": "code",
   "execution_count": null,
   "metadata": {
    "scrolled": true
   },
   "outputs": [],
   "source": [
    "evaluator, percentage_profit, percentage_profit_bh = print_test_results(best_individual, ticker_name='ALV.DE', start='2015-09-28', end='2016-01-26')\n",
    "results['ALV.DE'].append([percentage_profit, percentage_profit_bh])"
   ]
  },
  {
   "cell_type": "code",
   "execution_count": null,
   "metadata": {},
   "outputs": [],
   "source": [
    "plot_strategy(evaluator, ticker_name='ALV.DE', start='2015-09-28', end='2016-01-26')"
   ]
  },
  {
   "cell_type": "code",
   "execution_count": null,
   "metadata": {},
   "outputs": [],
   "source": [
    "%%time\n",
    "best_individual = find_best_strategy(ticker_name='ALV.DE', start='2015-10-31', end='2016-03-25', ngen=5)"
   ]
  },
  {
   "cell_type": "code",
   "execution_count": null,
   "metadata": {
    "scrolled": true
   },
   "outputs": [],
   "source": [
    "evaluator, percentage_profit, percentage_profit_bh = print_test_results(best_individual, ticker_name='ALV.DE', start='2016-03-26', end='2016-07-24')\n",
    "results['ALV.DE'].append([percentage_profit, percentage_profit_bh])"
   ]
  },
  {
   "cell_type": "code",
   "execution_count": null,
   "metadata": {},
   "outputs": [],
   "source": [
    "plot_strategy(evaluator, ticker_name='ALV.DE', start='2016-03-26', end='2016-07-24')"
   ]
  },
  {
   "cell_type": "code",
   "execution_count": null,
   "metadata": {},
   "outputs": [],
   "source": [
    "%%time\n",
    "best_individual = find_best_strategy(ticker_name='ALV.DE', start='2016-04-30', end='2016-09-21', ngen=5)"
   ]
  },
  {
   "cell_type": "code",
   "execution_count": null,
   "metadata": {
    "scrolled": true
   },
   "outputs": [],
   "source": [
    "evaluator, percentage_profit, percentage_profit_bh = print_test_results(best_individual, ticker_name='ALV.DE', start='2016-09-22', end='2017-01-20')\n",
    "results['ALV.DE'].append([percentage_profit, percentage_profit_bh])"
   ]
  },
  {
   "cell_type": "code",
   "execution_count": null,
   "metadata": {},
   "outputs": [],
   "source": [
    "plot_strategy(evaluator, ticker_name='ALV.DE', start='2016-09-22', end='2017-01-20')"
   ]
  },
  {
   "cell_type": "code",
   "execution_count": null,
   "metadata": {},
   "outputs": [],
   "source": [
    "%%time\n",
    "best_individual = find_best_strategy(ticker_name='ALV.DE', start='2016-10-25', end='2017-03-20', ngen=5)"
   ]
  },
  {
   "cell_type": "code",
   "execution_count": null,
   "metadata": {
    "scrolled": true
   },
   "outputs": [],
   "source": [
    "evaluator, percentage_profit, percentage_profit_bh = print_test_results(best_individual, ticker_name='ALV.DE', start='2017-03-21', end='2017-07-19')\n",
    "results['ALV.DE'].append([percentage_profit, percentage_profit_bh])"
   ]
  },
  {
   "cell_type": "code",
   "execution_count": null,
   "metadata": {},
   "outputs": [],
   "source": [
    "plot_strategy(evaluator, ticker_name='ALV.DE', start='2017-03-21', end='2017-07-19')"
   ]
  },
  {
   "cell_type": "markdown",
   "metadata": {},
   "source": [
    "## BASF"
   ]
  },
  {
   "cell_type": "code",
   "execution_count": 9,
   "metadata": {},
   "outputs": [
    {
     "name": "stderr",
     "output_type": "stream",
     "text": [
      "C:\\Users\\Jonathan\\Anaconda3\\lib\\site-packages\\deap-1.3.1-py3.7-win-amd64.egg\\deap\\creator.py:141: RuntimeWarning: A class named 'FitnessMax' has already been created and it will be overwritten. Consider deleting previous creation of that class or rename it.\n",
      "  RuntimeWarning)\n",
      "C:\\Users\\Jonathan\\Anaconda3\\lib\\site-packages\\deap-1.3.1-py3.7-win-amd64.egg\\deap\\creator.py:141: RuntimeWarning: A class named 'Individual' has already been created and it will be overwritten. Consider deleting previous creation of that class or rename it.\n",
      "  RuntimeWarning)\n"
     ]
    },
    {
     "name": "stdout",
     "output_type": "stream",
     "text": [
      "Running genetic algorithm ...\n",
      "gen\tnevals\tmin     \tmax    \tmean   \tstd    \n",
      "0  \t1000  \t-77.0245\t19.3883\t1.04307\t21.7866\n",
      "1  \t583   \t-71.5517\t22.5203\t10.8129\t9.7314 \n",
      "2  \t589   \t-63.878 \t22.5203\t13.7616\t7.85241\n",
      "3  \t596   \t-70.906 \t21.9335\t14.3675\t9.92067\n",
      "4  \t600   \t-68.4068\t21.9335\t14.961 \t10.145 \n",
      "5  \t624   \t-73.0566\t21.9335\t13.218 \t16.0407\n",
      "Net profit of buy and hold: 17.373325\n",
      "Running backtesting ...\n",
      "Best individual: [1, 0, 0, 1, 0, 1, 0, 0, 0, 1, 1, 0, 0, 0, 0, 1, 0, 1, 0, 1, 0, 1, 1, 1, 0, 1, 0, 1, 1, 0, 1, 1, 0, 1, 1, 1, 1, 0, 1, 1, 1, 0, 0, 1, 0, 0, 1, 1, 0, 0, 1, 0, 0, 1, 0, 0, 1, 0, 0, 0, 1, 0, 1, 1, 0, 1, 0, 0, 0, 1, 0, 0, 0, 1, 1, 0]\n",
      "Best average net profit: 8.428810952608835\n",
      "Wall time: 6min 51s\n"
     ]
    }
   ],
   "source": [
    "%%time\n",
    "best_individual = find_best_strategy(ticker_name='BAS.DE', start='2014-11-05', end='2015-03-31', ngen=5)"
   ]
  },
  {
   "cell_type": "code",
   "execution_count": null,
   "metadata": {
    "scrolled": true
   },
   "outputs": [],
   "source": [
    "evaluator, percentage_profit, percentage_profit_bh = print_test_results(best_individual, ticker_name='BAS.DE', start='2015-04-01', end='2015-07-30')\n",
    "results['BAS.DE'].append([percentage_profit, percentage_profit_bh])"
   ]
  },
  {
   "cell_type": "code",
   "execution_count": null,
   "metadata": {},
   "outputs": [],
   "source": [
    "plot_strategy(evaluator, ticker_name='BAS.DE', start='2015-04-01', end='2015-07-30')"
   ]
  },
  {
   "cell_type": "code",
   "execution_count": null,
   "metadata": {},
   "outputs": [],
   "source": [
    "%%time\n",
    "best_individual = find_best_strategy(ticker_name='BAS.DE', start='2015-05-07', end='2015-09-27', ngen=5)"
   ]
  },
  {
   "cell_type": "code",
   "execution_count": null,
   "metadata": {
    "scrolled": true
   },
   "outputs": [],
   "source": [
    "evaluator, percentage_profit, percentage_profit_bh = print_test_results(best_individual, ticker_name='BAS.DE', start='2015-09-28', end='2016-01-26')\n",
    "results['BAS.DE'].append([percentage_profit, percentage_profit_bh])"
   ]
  },
  {
   "cell_type": "code",
   "execution_count": null,
   "metadata": {},
   "outputs": [],
   "source": [
    "plot_strategy(evaluator, ticker_name='BAS.DE', start='2015-09-28', end='2016-01-26')"
   ]
  },
  {
   "cell_type": "code",
   "execution_count": null,
   "metadata": {},
   "outputs": [],
   "source": [
    "%%time\n",
    "best_individual = find_best_strategy(ticker_name='BAS.DE', start='2015-10-31', end='2016-03-25', ngen=5)"
   ]
  },
  {
   "cell_type": "code",
   "execution_count": null,
   "metadata": {
    "scrolled": true
   },
   "outputs": [],
   "source": [
    "evaluator, percentage_profit, percentage_profit_bh = print_test_results(best_individual, ticker_name='BAS.DE', start='2016-03-26', end='2016-07-24')\n",
    "results['BAS.DE'].append([percentage_profit, percentage_profit_bh])"
   ]
  },
  {
   "cell_type": "code",
   "execution_count": null,
   "metadata": {},
   "outputs": [],
   "source": [
    "plot_strategy(evaluator, ticker_name='BAS.DE', start='2016-03-26', end='2016-07-24')"
   ]
  },
  {
   "cell_type": "code",
   "execution_count": null,
   "metadata": {},
   "outputs": [],
   "source": [
    "%%time\n",
    "best_individual = find_best_strategy(ticker_name='BAS.DE', start='2016-04-30', end='2016-09-21', ngen=5)"
   ]
  },
  {
   "cell_type": "code",
   "execution_count": null,
   "metadata": {
    "scrolled": true
   },
   "outputs": [],
   "source": [
    "evaluator, percentage_profit, percentage_profit_bh = print_test_results(best_individual, ticker_name='BAS.DE', start='2016-09-22', end='2017-01-20')\n",
    "results['BAS.DE'].append([percentage_profit, percentage_profit_bh])"
   ]
  },
  {
   "cell_type": "code",
   "execution_count": null,
   "metadata": {},
   "outputs": [],
   "source": [
    "plot_strategy(evaluator, ticker_name='BAS.DE', start='2016-09-22', end='2017-01-20')"
   ]
  },
  {
   "cell_type": "code",
   "execution_count": null,
   "metadata": {},
   "outputs": [],
   "source": [
    "%%time\n",
    "best_individual = find_best_strategy(ticker_name='BAS.DE', start='2016-10-25', end='2017-03-20', ngen=5)"
   ]
  },
  {
   "cell_type": "code",
   "execution_count": null,
   "metadata": {
    "scrolled": true
   },
   "outputs": [],
   "source": [
    "evaluator, percentage_profit, percentage_profit_bh = print_test_results(best_individual, ticker_name='BAS.DE', start='2017-03-21', end='2017-07-19')\n",
    "results['BAS.DE'].append([percentage_profit, percentage_profit_bh])"
   ]
  },
  {
   "cell_type": "code",
   "execution_count": null,
   "metadata": {},
   "outputs": [],
   "source": [
    "plot_strategy(evaluator, ticker_name='BAS.DE', start='2017-03-21', end='2017-07-19')"
   ]
  },
  {
   "cell_type": "markdown",
   "metadata": {},
   "source": [
    "## Deutsche Bank"
   ]
  },
  {
   "cell_type": "code",
   "execution_count": 10,
   "metadata": {},
   "outputs": [
    {
     "name": "stderr",
     "output_type": "stream",
     "text": [
      "C:\\Users\\Jonathan\\Anaconda3\\lib\\site-packages\\deap-1.3.1-py3.7-win-amd64.egg\\deap\\creator.py:141: RuntimeWarning: A class named 'FitnessMax' has already been created and it will be overwritten. Consider deleting previous creation of that class or rename it.\n",
      "  RuntimeWarning)\n",
      "C:\\Users\\Jonathan\\Anaconda3\\lib\\site-packages\\deap-1.3.1-py3.7-win-amd64.egg\\deap\\creator.py:141: RuntimeWarning: A class named 'Individual' has already been created and it will be overwritten. Consider deleting previous creation of that class or rename it.\n",
      "  RuntimeWarning)\n"
     ]
    },
    {
     "name": "stdout",
     "output_type": "stream",
     "text": [
      "Running genetic algorithm ...\n",
      "gen\tnevals\tmin     \tmax    \tmean    \tstd    \n",
      "0  \t1000  \t-31.4787\t7.38938\t-4.11838\t12.7531\n",
      "1  \t583   \t-29.2112\t7.16883\t2.95294 \t6.33082\n",
      "2  \t589   \t-30.1919\t7.30423\t4.80228 \t4.68458\n",
      "3  \t596   \t-29.1048\t7.54977\t5.57224 \t4.24519\n",
      "4  \t600   \t-30.1919\t7.54977\t5.87581 \t4.44416\n",
      "5  \t624   \t-29.7908\t7.54977\t5.80664 \t5.25233\n",
      "Net profit of buy and hold: 6.260949999999999\n",
      "Running backtesting ...\n",
      "Best individual: [0, 0, 0, 0, 0, 1, 1, 1, 0, 1, 1, 1, 1, 1, 0, 0, 0, 1, 0, 1, 0, 1, 1, 0, 0, 1, 1, 0, 0, 1, 0, 0, 0, 0, 1, 1, 1, 0, 1, 1, 0, 0, 0, 1, 0, 1, 0, 1, 0, 0, 0, 0, 1, 0, 1, 1, 0, 0, 1, 0, 1, 1, 1, 1, 0, 0, 0, 1, 0, 0, 1, 0, 0, 1, 1, 1]\n",
      "Best average net profit: 5.111292371973835\n",
      "Wall time: 8min 54s\n"
     ]
    }
   ],
   "source": [
    "%%time\n",
    "best_individual = find_best_strategy(ticker_name='DBK.DE', start='2014-11-05', end='2015-03-31', ngen=5)"
   ]
  },
  {
   "cell_type": "code",
   "execution_count": null,
   "metadata": {
    "scrolled": true
   },
   "outputs": [],
   "source": [
    "evaluator, percentage_profit, percentage_profit_bh = print_test_results(best_individual, ticker_name='DBK.DE', start='2015-04-01', end='2015-07-30')\n",
    "results['DBK.DE'].append([percentage_profit, percentage_profit_bh])"
   ]
  },
  {
   "cell_type": "code",
   "execution_count": null,
   "metadata": {},
   "outputs": [],
   "source": [
    "plot_strategy(evaluator, ticker_name='DBK.DE', start='2015-04-01', end='2015-07-30')"
   ]
  },
  {
   "cell_type": "code",
   "execution_count": null,
   "metadata": {},
   "outputs": [],
   "source": [
    "%%time\n",
    "best_individual = find_best_strategy(ticker_name='DBK.DE', start='2015-05-07', end='2015-09-27', ngen=5)"
   ]
  },
  {
   "cell_type": "code",
   "execution_count": null,
   "metadata": {
    "scrolled": true
   },
   "outputs": [],
   "source": [
    "evaluator, percentage_profit, percentage_profit_bh = print_test_results(best_individual, ticker_name='DBK.DE', start='2015-09-28', end='2016-01-26')\n",
    "results['DBK.DE'].append([percentage_profit, percentage_profit_bh])"
   ]
  },
  {
   "cell_type": "code",
   "execution_count": null,
   "metadata": {},
   "outputs": [],
   "source": [
    "plot_strategy(evaluator, ticker_name='DBK.DE', start='2015-09-28', end='2016-01-26')"
   ]
  },
  {
   "cell_type": "code",
   "execution_count": null,
   "metadata": {},
   "outputs": [],
   "source": [
    "%%time\n",
    "best_individual = find_best_strategy(ticker_name='DBK.DE', start='2015-10-31', end='2016-03-25', ngen=5)"
   ]
  },
  {
   "cell_type": "code",
   "execution_count": null,
   "metadata": {
    "scrolled": true
   },
   "outputs": [],
   "source": [
    "evaluator, percentage_profit, percentage_profit_bh = print_test_results(best_individual, ticker_name='DBK.DE', start='2016-03-26', end='2016-07-24')\n",
    "results['DBK.DE'].append([percentage_profit, percentage_profit_bh])"
   ]
  },
  {
   "cell_type": "code",
   "execution_count": null,
   "metadata": {},
   "outputs": [],
   "source": [
    "plot_strategy(evaluator, ticker_name='DBK.DE', start='2016-03-26', end='2016-07-24')"
   ]
  },
  {
   "cell_type": "code",
   "execution_count": null,
   "metadata": {},
   "outputs": [],
   "source": [
    "%%time\n",
    "best_individual = find_best_strategy(ticker_name='DBK.DE', start='2016-04-30', end='2016-09-21', ngen=5)"
   ]
  },
  {
   "cell_type": "code",
   "execution_count": null,
   "metadata": {
    "scrolled": true
   },
   "outputs": [],
   "source": [
    "evaluator, percentage_profit, percentage_profit_bh = print_test_results(best_individual, ticker_name='DBK.DE', start='2016-09-22', end='2017-01-20')\n",
    "results['DBK.DE'].append([percentage_profit, percentage_profit_bh])"
   ]
  },
  {
   "cell_type": "code",
   "execution_count": null,
   "metadata": {},
   "outputs": [],
   "source": [
    "plot_strategy(evaluator, ticker_name='DBK.DE', start='2016-09-22', end='2017-01-20')"
   ]
  },
  {
   "cell_type": "code",
   "execution_count": null,
   "metadata": {},
   "outputs": [],
   "source": [
    "%%time\n",
    "best_individual = find_best_strategy(ticker_name='DBK.DE', start='2016-10-25', end='2017-03-20', ngen=5)"
   ]
  },
  {
   "cell_type": "code",
   "execution_count": null,
   "metadata": {
    "scrolled": true
   },
   "outputs": [],
   "source": [
    "evaluator, percentage_profit, percentage_profit_bh = print_test_results(best_individual, ticker_name='DBK.DE', start='2017-03-21', end='2017-07-19')\n",
    "results['DBK.DE'].append([percentage_profit, percentage_profit_bh])"
   ]
  },
  {
   "cell_type": "code",
   "execution_count": null,
   "metadata": {},
   "outputs": [],
   "source": [
    "plot_strategy(evaluator, ticker_name='DBK.DE', start='2017-03-21', end='2017-07-19')"
   ]
  },
  {
   "cell_type": "markdown",
   "metadata": {},
   "source": [
    "## Deutsche Telekom"
   ]
  },
  {
   "cell_type": "code",
   "execution_count": 11,
   "metadata": {},
   "outputs": [
    {
     "name": "stderr",
     "output_type": "stream",
     "text": [
      "C:\\Users\\Jonathan\\Anaconda3\\lib\\site-packages\\deap-1.3.1-py3.7-win-amd64.egg\\deap\\creator.py:141: RuntimeWarning: A class named 'FitnessMax' has already been created and it will be overwritten. Consider deleting previous creation of that class or rename it.\n",
      "  RuntimeWarning)\n",
      "C:\\Users\\Jonathan\\Anaconda3\\lib\\site-packages\\deap-1.3.1-py3.7-win-amd64.egg\\deap\\creator.py:141: RuntimeWarning: A class named 'Individual' has already been created and it will be overwritten. Consider deleting previous creation of that class or rename it.\n",
      "  RuntimeWarning)\n"
     ]
    },
    {
     "name": "stdout",
     "output_type": "stream",
     "text": [
      "Running genetic algorithm ...\n",
      "gen\tnevals\tmin   \tmax    \tmean    \tstd    \n",
      "0  \t1000  \t-12.76\t4.13692\t-1.52999\t5.57376\n",
      "1  \t583   \t-12.2756\t4.13692\t1.7754  \t2.83098\n",
      "2  \t589   \t-12.0579\t4.13692\t2.58618 \t2.39765\n",
      "3  \t596   \t-11.0441\t4.13692\t3.17297 \t1.72363\n",
      "4  \t600   \t-11.7157\t4.13692\t3.34095 \t1.71612\n",
      "5  \t624   \t-11.6869\t4.13692\t3.51683 \t1.6528 \n",
      "Net profit of buy and hold: 3.53025\n",
      "Running backtesting ...\n",
      "Best individual: [1, 1, 0, 0, 1, 0, 1, 0, 1, 0, 1, 1, 1, 1, 1, 0, 0, 0, 0, 0, 1, 1, 0, 1, 0, 0, 1, 0, 1, 0, 0, 1, 0, 1, 0, 1, 0, 0, 1, 0, 1, 1, 1, 1, 0, 0, 1, 1, 1, 1, 0, 0, 0, 1, 0, 1, 0, 0, 1, 0, 1, 0, 1, 0, 0, 0, 0, 0, 1, 1, 1, 0, 1, 1, 1, 0]\n",
      "Best average net profit: 2.4470977477703313\n",
      "Wall time: 8min 20s\n"
     ]
    }
   ],
   "source": [
    "%%time\n",
    "best_individual = find_best_strategy(ticker_name='DTE.DE', start='2014-11-05', end='2015-03-31', ngen=5)"
   ]
  },
  {
   "cell_type": "code",
   "execution_count": null,
   "metadata": {
    "scrolled": true
   },
   "outputs": [],
   "source": [
    "evaluator, percentage_profit, percentage_profit_bh = print_test_results(best_individual, ticker_name='DTE.DE', start='2015-04-01', end='2015-07-30')\n",
    "results['DTE.DE'].append([percentage_profit, percentage_profit_bh])"
   ]
  },
  {
   "cell_type": "code",
   "execution_count": null,
   "metadata": {},
   "outputs": [],
   "source": [
    "plot_strategy(evaluator, ticker_name='DTE.DE', start='2015-04-01', end='2015-07-30')"
   ]
  },
  {
   "cell_type": "code",
   "execution_count": null,
   "metadata": {},
   "outputs": [],
   "source": [
    "%%time\n",
    "best_individual = find_best_strategy(ticker_name='DTE.DE', start='2015-05-07', end='2015-09-27', ngen=5)"
   ]
  },
  {
   "cell_type": "code",
   "execution_count": null,
   "metadata": {
    "scrolled": true
   },
   "outputs": [],
   "source": [
    "evaluator, percentage_profit, percentage_profit_bh = print_test_results(best_individual, ticker_name='DTE.DE', start='2015-09-28', end='2016-01-26')\n",
    "results['DTE.DE'].append([percentage_profit, percentage_profit_bh])"
   ]
  },
  {
   "cell_type": "code",
   "execution_count": null,
   "metadata": {},
   "outputs": [],
   "source": [
    "plot_strategy(evaluator, ticker_name='DTE.DE', start='2015-09-28', end='2016-01-26')"
   ]
  },
  {
   "cell_type": "code",
   "execution_count": null,
   "metadata": {},
   "outputs": [],
   "source": [
    "%%time\n",
    "best_individual = find_best_strategy(ticker_name='DTE.DE', start='2015-10-31', end='2016-03-25', ngen=5)"
   ]
  },
  {
   "cell_type": "code",
   "execution_count": null,
   "metadata": {
    "scrolled": true
   },
   "outputs": [],
   "source": [
    "evaluator, percentage_profit, percentage_profit_bh = print_test_results(best_individual, ticker_name='DTE.DE', start='2016-03-26', end='2016-07-24')\n",
    "results['DTE.DE'].append([percentage_profit, percentage_profit_bh])"
   ]
  },
  {
   "cell_type": "code",
   "execution_count": null,
   "metadata": {},
   "outputs": [],
   "source": [
    "plot_strategy(evaluator, ticker_name='DTE.DE', start='2016-03-26', end='2016-07-24')"
   ]
  },
  {
   "cell_type": "code",
   "execution_count": null,
   "metadata": {},
   "outputs": [],
   "source": [
    "%%time\n",
    "best_individual = find_best_strategy(ticker_name='DTE.DE', start='2016-04-30', end='2016-09-21', ngen=5)"
   ]
  },
  {
   "cell_type": "code",
   "execution_count": null,
   "metadata": {
    "scrolled": true
   },
   "outputs": [],
   "source": [
    "evaluator, percentage_profit, percentage_profit_bh = print_test_results(best_individual, ticker_name='DTE.DE', start='2016-09-22', end='2017-01-20')\n",
    "results['DTE.DE'].append([percentage_profit, percentage_profit_bh])"
   ]
  },
  {
   "cell_type": "code",
   "execution_count": null,
   "metadata": {},
   "outputs": [],
   "source": [
    "plot_strategy(evaluator, ticker_name='DTE.DE', start='2016-09-22', end='2017-01-20')"
   ]
  },
  {
   "cell_type": "code",
   "execution_count": null,
   "metadata": {},
   "outputs": [],
   "source": [
    "%%time\n",
    "best_individual = find_best_strategy(ticker_name='DTE.DE', start='2016-10-25', end='2017-03-20', ngen=5)"
   ]
  },
  {
   "cell_type": "code",
   "execution_count": null,
   "metadata": {
    "scrolled": true
   },
   "outputs": [],
   "source": [
    "evaluator, percentage_profit, percentage_profit_bh = print_test_results(best_individual, ticker_name='DTE.DE', start='2017-03-21', end='2017-07-19')\n",
    "results['DTE.DE'].append([percentage_profit, percentage_profit_bh])"
   ]
  },
  {
   "cell_type": "code",
   "execution_count": null,
   "metadata": {},
   "outputs": [],
   "source": [
    "plot_strategy(evaluator, ticker_name='DTE.DE', start='2017-03-21', end='2017-07-19')"
   ]
  },
  {
   "cell_type": "markdown",
   "metadata": {},
   "source": [
    "## SAP"
   ]
  },
  {
   "cell_type": "code",
   "execution_count": 12,
   "metadata": {},
   "outputs": [
    {
     "name": "stderr",
     "output_type": "stream",
     "text": [
      "C:\\Users\\Jonathan\\Anaconda3\\lib\\site-packages\\deap-1.3.1-py3.7-win-amd64.egg\\deap\\creator.py:141: RuntimeWarning: A class named 'FitnessMax' has already been created and it will be overwritten. Consider deleting previous creation of that class or rename it.\n",
      "  RuntimeWarning)\n",
      "C:\\Users\\Jonathan\\Anaconda3\\lib\\site-packages\\deap-1.3.1-py3.7-win-amd64.egg\\deap\\creator.py:141: RuntimeWarning: A class named 'Individual' has already been created and it will be overwritten. Consider deleting previous creation of that class or rename it.\n",
      "  RuntimeWarning)\n"
     ]
    },
    {
     "name": "stdout",
     "output_type": "stream",
     "text": [
      "Running genetic algorithm ...\n",
      "gen\tnevals\tmin     \tmax    \tmean    \tstd    \n",
      "0  \t1000  \t-66.4764\t11.7965\t-7.05599\t23.5441\n",
      "1  \t583   \t-66.245 \t11.9351\t4.33623 \t9.48753\n",
      "2  \t589   \t-64.0441\t11.9351\t7.33205 \t8.64112\n",
      "3  \t596   \t-65.8959\t12.3746\t8.90186 \t9.1388 \n",
      "4  \t600   \t-64.3921\t12.6269\t10.1129 \t6.10793\n",
      "5  \t624   \t-64.6708\t12.6269\t9.84516 \t9.28874\n",
      "Net profit of buy and hold: 11.86665\n",
      "Running backtesting ...\n",
      "Best individual: [0, 1, 1, 1, 0, 1, 0, 0, 0, 1, 1, 0, 0, 0, 0, 1, 0, 1, 0, 1, 0, 1, 1, 1, 0, 0, 1, 0, 0, 1, 1, 1, 1, 0, 0, 1, 1, 0, 1, 1, 1, 1, 1, 1, 1, 1, 0, 0, 0, 0, 1, 1, 0, 0, 0, 1, 1, 0, 0, 0, 0, 1, 1, 0, 0, 1, 0, 1, 0, 1, 1, 0, 0, 1, 1, 0]\n",
      "Best average net profit: 9.789801019766188\n",
      "Wall time: 8min 27s\n"
     ]
    }
   ],
   "source": [
    "%%time\n",
    "best_individual = find_best_strategy(ticker_name='SAP.DE', start='2014-11-05', end='2015-03-31', ngen=5)"
   ]
  },
  {
   "cell_type": "code",
   "execution_count": null,
   "metadata": {
    "scrolled": true
   },
   "outputs": [],
   "source": [
    "evaluator, percentage_profit, percentage_profit_bh = print_test_results(best_individual, ticker_name='SAP.DE', start='2015-04-01', end='2015-07-30')\n",
    "results['SAP.DE'].append([percentage_profit, percentage_profit_bh])"
   ]
  },
  {
   "cell_type": "code",
   "execution_count": null,
   "metadata": {},
   "outputs": [],
   "source": [
    "plot_strategy(evaluator, ticker_name='SAP.DE', start='2015-04-01', end='2015-07-30')"
   ]
  },
  {
   "cell_type": "code",
   "execution_count": null,
   "metadata": {},
   "outputs": [],
   "source": [
    "%%time\n",
    "best_individual = find_best_strategy(ticker_name='SAP.DE', start='2015-05-07', end='2015-09-27', ngen=5)"
   ]
  },
  {
   "cell_type": "code",
   "execution_count": null,
   "metadata": {
    "scrolled": true
   },
   "outputs": [],
   "source": [
    "evaluator, percentage_profit, percentage_profit_bh = print_test_results(best_individual, ticker_name='SAP.DE', start='2015-09-28', end='2016-01-26')\n",
    "results['SAP.DE'].append([percentage_profit, percentage_profit_bh])"
   ]
  },
  {
   "cell_type": "code",
   "execution_count": null,
   "metadata": {},
   "outputs": [],
   "source": [
    "plot_strategy(evaluator, ticker_name='SAP.DE', start='2015-09-28', end='2016-01-26')"
   ]
  },
  {
   "cell_type": "code",
   "execution_count": null,
   "metadata": {},
   "outputs": [],
   "source": [
    "%%time\n",
    "best_individual = find_best_strategy(ticker_name='SAP.DE', start='2015-10-31', end='2016-03-25', ngen=5)"
   ]
  },
  {
   "cell_type": "code",
   "execution_count": null,
   "metadata": {
    "scrolled": true
   },
   "outputs": [],
   "source": [
    "evaluator, percentage_profit, percentage_profit_bh = print_test_results(best_individual, ticker_name='SAP.DE', start='2016-03-26', end='2016-07-24')\n",
    "results['SAP.DE'].append([percentage_profit, percentage_profit_bh])"
   ]
  },
  {
   "cell_type": "code",
   "execution_count": null,
   "metadata": {},
   "outputs": [],
   "source": [
    "plot_strategy(evaluator, ticker_name='SAP.DE', start='2016-03-26', end='2016-07-24')"
   ]
  },
  {
   "cell_type": "code",
   "execution_count": null,
   "metadata": {},
   "outputs": [],
   "source": [
    "%%time\n",
    "best_individual = find_best_strategy(ticker_name='SAP.DE', start='2016-04-30', end='2016-09-21', ngen=5)"
   ]
  },
  {
   "cell_type": "code",
   "execution_count": null,
   "metadata": {
    "scrolled": true
   },
   "outputs": [],
   "source": [
    "evaluator, percentage_profit, percentage_profit_bh = print_test_results(best_individual, ticker_name='SAP.DE', start='2016-09-22', end='2017-01-20')\n",
    "results['SAP.DE'].append([percentage_profit, percentage_profit_bh])"
   ]
  },
  {
   "cell_type": "code",
   "execution_count": null,
   "metadata": {},
   "outputs": [],
   "source": [
    "plot_strategy(evaluator, ticker_name='SAP.DE', start='2016-09-22', end='2017-01-20')"
   ]
  },
  {
   "cell_type": "code",
   "execution_count": null,
   "metadata": {},
   "outputs": [],
   "source": [
    "%%time\n",
    "best_individual = find_best_strategy(ticker_name='SAP.DE', start='2016-10-25', end='2017-03-20', ngen=5)"
   ]
  },
  {
   "cell_type": "code",
   "execution_count": null,
   "metadata": {
    "scrolled": true
   },
   "outputs": [],
   "source": [
    "evaluator, percentage_profit, percentage_profit_bh = print_test_results(best_individual, ticker_name='SAP.DE', start='2017-03-21', end='2017-07-19')\n",
    "results['SAP.DE'].append([percentage_profit, percentage_profit_bh])"
   ]
  },
  {
   "cell_type": "code",
   "execution_count": null,
   "metadata": {},
   "outputs": [],
   "source": [
    "plot_strategy(evaluator, ticker_name='SAP.DE', start='2017-03-21', end='2017-07-19')"
   ]
  },
  {
   "cell_type": "markdown",
   "metadata": {},
   "source": [
    "## Dow Jones Index"
   ]
  },
  {
   "cell_type": "code",
   "execution_count": 5,
   "metadata": {},
   "outputs": [
    {
     "name": "stdout",
     "output_type": "stream",
     "text": [
      "Running genetic algorithm ...\n",
      "gen\tnevals\tmin     \tmax    \tmean    \tstd   \n",
      "0  \t1000  \t-21296.1\t1176.94\t-11214.5\t9395.8\n",
      "1  \t583   \t-20774.9\t1268.14\t-4647.74\t7970.39\n",
      "2  \t589   \t-20516  \t1268.14\t-1254.47\t4950.01\n",
      "3  \t596   \t-20701.4\t1268.14\t-832.34 \t4681.59\n",
      "4  \t600   \t-20435.3\t1335.93\t-746.339\t4809.54\n",
      "5  \t624   \t-20281  \t1416.73\t-479.207\t4579.01\n",
      "Net profit of buy and hold: 504.09975\n",
      "Running backtesting ...\n",
      "Best individual: [1, 1, 0, 0, 1, 0, 1, 1, 1, 0, 1, 1, 1, 1, 0, 0, 1, 0, 1, 1, 0, 0, 0, 0, 0, 0, 1, 0, 1, 1, 1, 0, 0, 1, 1, 1, 0, 0, 0, 1, 0, 0, 1, 0, 1, 0, 1, 0, 1, 0, 1, 1, 0, 0, 0, 0, 1, 0, 1, 1, 0, 1, 1, 0, 1, 1, 0, 1, 1, 1, 0, 0, 1, 0, 1, 0]\n",
      "Best average net profit: -422.62888881572076\n",
      "Wall time: 10min 21s\n"
     ]
    }
   ],
   "source": [
    "%%time\n",
    "best_individual = find_best_strategy(ticker_name='DJI', start='2014-11-05', end='2015-03-31', ngen=5)"
   ]
  },
  {
   "cell_type": "code",
   "execution_count": null,
   "metadata": {
    "scrolled": true
   },
   "outputs": [],
   "source": [
    "evaluator, percentage_profit, percentage_profit_bh = print_test_results(best_individual, ticker_name='DJI', start='2015-04-01', end='2015-07-30')\n",
    "results['DJI'].append([percentage_profit, percentage_profit_bh])"
   ]
  },
  {
   "cell_type": "code",
   "execution_count": null,
   "metadata": {},
   "outputs": [],
   "source": [
    "plot_strategy(evaluator, ticker_name='DJI', start='2015-04-01', end='2015-07-30')"
   ]
  },
  {
   "cell_type": "code",
   "execution_count": null,
   "metadata": {},
   "outputs": [],
   "source": [
    "%%time\n",
    "best_individual = find_best_strategy(ticker_name='DJI', start='2015-05-07', end='2015-09-27', ngen=5)"
   ]
  },
  {
   "cell_type": "code",
   "execution_count": null,
   "metadata": {
    "scrolled": true
   },
   "outputs": [],
   "source": [
    "evaluator, percentage_profit, percentage_profit_bh = print_test_results(best_individual, ticker_name='DJI', start='2015-09-28', end='2016-01-26')\n",
    "results['DJI'].append([percentage_profit, percentage_profit_bh])"
   ]
  },
  {
   "cell_type": "code",
   "execution_count": null,
   "metadata": {},
   "outputs": [],
   "source": [
    "plot_strategy(evaluator, ticker_name='DJI', start='2015-09-28', end='2016-01-26')"
   ]
  },
  {
   "cell_type": "code",
   "execution_count": null,
   "metadata": {},
   "outputs": [],
   "source": [
    "%%time\n",
    "best_individual = find_best_strategy(ticker_name='DJI', start='2015-10-31', end='2016-03-25', ngen=5)"
   ]
  },
  {
   "cell_type": "code",
   "execution_count": null,
   "metadata": {
    "scrolled": true
   },
   "outputs": [],
   "source": [
    "evaluator, percentage_profit, percentage_profit_bh = print_test_results(best_individual, ticker_name='DJI', start='2016-03-26', end='2016-07-24')\n",
    "results['DJI'].append([percentage_profit, percentage_profit_bh])"
   ]
  },
  {
   "cell_type": "code",
   "execution_count": null,
   "metadata": {},
   "outputs": [],
   "source": [
    "plot_strategy(evaluator, ticker_name='DJI', start='2016-03-26', end='2016-07-24')"
   ]
  },
  {
   "cell_type": "code",
   "execution_count": null,
   "metadata": {},
   "outputs": [],
   "source": [
    "%%time\n",
    "best_individual = find_best_strategy(ticker_name='DJI', start='2016-04-30', end='2016-09-21', ngen=5)"
   ]
  },
  {
   "cell_type": "code",
   "execution_count": null,
   "metadata": {
    "scrolled": true
   },
   "outputs": [],
   "source": [
    "evaluator, percentage_profit, percentage_profit_bh = print_test_results(best_individual, ticker_name='DJI', start='2016-09-22', end='2017-01-20')\n",
    "results['DJI'].append([percentage_profit, percentage_profit_bh])"
   ]
  },
  {
   "cell_type": "code",
   "execution_count": null,
   "metadata": {},
   "outputs": [],
   "source": [
    "plot_strategy(evaluator, ticker_name='DJI', start='2016-09-22', end='2017-01-20')"
   ]
  },
  {
   "cell_type": "code",
   "execution_count": null,
   "metadata": {},
   "outputs": [],
   "source": [
    "%%time\n",
    "best_individual = find_best_strategy(ticker_name='DJI', start='2016-10-25', end='2017-03-20', ngen=5)"
   ]
  },
  {
   "cell_type": "code",
   "execution_count": null,
   "metadata": {
    "scrolled": true
   },
   "outputs": [],
   "source": [
    "evaluator, percentage_profit, percentage_profit_bh = print_test_results(best_individual, ticker_name='DJI', start='2017-03-21', end='2017-07-19')\n",
    "results['DJI'].append([percentage_profit, percentage_profit_bh])"
   ]
  },
  {
   "cell_type": "code",
   "execution_count": null,
   "metadata": {},
   "outputs": [],
   "source": [
    "plot_strategy(evaluator, ticker_name='DJI', start='2017-03-21', end='2017-07-19')"
   ]
  },
  {
   "cell_type": "markdown",
   "metadata": {},
   "source": [
    "## Cisco"
   ]
  },
  {
   "cell_type": "code",
   "execution_count": 13,
   "metadata": {},
   "outputs": [
    {
     "name": "stderr",
     "output_type": "stream",
     "text": [
      "C:\\Users\\Jonathan\\Anaconda3\\lib\\site-packages\\deap-1.3.1-py3.7-win-amd64.egg\\deap\\creator.py:141: RuntimeWarning: A class named 'FitnessMax' has already been created and it will be overwritten. Consider deleting previous creation of that class or rename it.\n",
      "  RuntimeWarning)\n",
      "C:\\Users\\Jonathan\\Anaconda3\\lib\\site-packages\\deap-1.3.1-py3.7-win-amd64.egg\\deap\\creator.py:141: RuntimeWarning: A class named 'Individual' has already been created and it will be overwritten. Consider deleting previous creation of that class or rename it.\n",
      "  RuntimeWarning)\n"
     ]
    },
    {
     "name": "stdout",
     "output_type": "stream",
     "text": [
      "Running genetic algorithm ...\n",
      "gen\tnevals\tmin     \tmax    \tmean    \tstd    \n",
      "0  \t1000  \t-27.2333\t3.42215\t-3.37432\t7.55707\n",
      "1  \t583   \t-27.3809\t3.87963\t-0.105589\t3.09822\n",
      "2  \t589   \t-27.0575\t4.29708\t0.88527  \t2.98244\n",
      "3  \t596   \t-25.9853\t4.29708\t1.68359  \t2.22495\n",
      "4  \t600   \t-25.6   \t4.6056 \t2.07771  \t2.60936\n",
      "5  \t624   \t-26.7515\t4.57898\t2.59989  \t2.3379 \n",
      "Net profit of buy and hold: 2.3601250000000022\n",
      "Running backtesting ...\n",
      "Best individual: [1, 1, 0, 1, 1, 0, 1, 1, 0, 0, 1, 0, 0, 1, 1, 1, 1, 1, 1, 1, 1, 1, 1, 1, 0, 0, 0, 1, 1, 0, 0, 0, 0, 1, 1, 1, 0, 0, 1, 0, 1, 1, 0, 1, 1, 0, 0, 0, 1, 0, 0, 0, 1, 0, 1, 0, 1, 1, 0, 0, 0, 0, 1, 1, 0, 0, 1, 0, 0, 0, 0, 1, 1, 0, 0, 0]\n",
      "Best average net profit: 0.17176941144842778\n",
      "Wall time: 8min 1s\n"
     ]
    }
   ],
   "source": [
    "%%time\n",
    "best_individual = find_best_strategy(ticker_name='CSCO', start='2014-11-05', end='2015-03-31', ngen=5)"
   ]
  },
  {
   "cell_type": "code",
   "execution_count": null,
   "metadata": {
    "scrolled": true
   },
   "outputs": [],
   "source": [
    "evaluator, percentage_profit, percentage_profit_bh = print_test_results(best_individual, ticker_name='CSCO', start='2015-04-01', end='2015-07-30')\n",
    "results['CSCO'].append([percentage_profit, percentage_profit_bh])"
   ]
  },
  {
   "cell_type": "code",
   "execution_count": null,
   "metadata": {},
   "outputs": [],
   "source": [
    "plot_strategy(evaluator, ticker_name='CSCO', start='2015-04-01', end='2015-07-30')"
   ]
  },
  {
   "cell_type": "code",
   "execution_count": null,
   "metadata": {},
   "outputs": [],
   "source": [
    "%%time\n",
    "best_individual = find_best_strategy(ticker_name='CSCO', start='2015-05-07', end='2015-09-27', ngen=5)"
   ]
  },
  {
   "cell_type": "code",
   "execution_count": null,
   "metadata": {
    "scrolled": true
   },
   "outputs": [],
   "source": [
    "evaluator, percentage_profit, percentage_profit_bh = print_test_results(best_individual, ticker_name='CSCO', start='2015-09-28', end='2016-01-26')\n",
    "results['CSCO'].append([percentage_profit, percentage_profit_bh])"
   ]
  },
  {
   "cell_type": "code",
   "execution_count": null,
   "metadata": {},
   "outputs": [],
   "source": [
    "plot_strategy(evaluator, ticker_name='CSCO', start='2015-09-28', end='2016-01-26')"
   ]
  },
  {
   "cell_type": "code",
   "execution_count": null,
   "metadata": {},
   "outputs": [],
   "source": [
    "%%time\n",
    "best_individual = find_best_strategy(ticker_name='CSCO', start='2015-10-31', end='2016-03-25', ngen=5)"
   ]
  },
  {
   "cell_type": "code",
   "execution_count": null,
   "metadata": {
    "scrolled": true
   },
   "outputs": [],
   "source": [
    "evaluator, percentage_profit, percentage_profit_bh = print_test_results(best_individual, ticker_name='CSCO', start='2016-03-26', end='2016-07-24')\n",
    "results['CSCO'].append([percentage_profit, percentage_profit_bh])"
   ]
  },
  {
   "cell_type": "code",
   "execution_count": null,
   "metadata": {},
   "outputs": [],
   "source": [
    "plot_strategy(evaluator, ticker_name='CSCO', start='2016-03-26', end='2016-07-24')"
   ]
  },
  {
   "cell_type": "code",
   "execution_count": null,
   "metadata": {},
   "outputs": [],
   "source": [
    "%%time\n",
    "best_individual = find_best_strategy(ticker_name='CSCO', start='2016-04-30', end='2016-09-21', ngen=5)"
   ]
  },
  {
   "cell_type": "code",
   "execution_count": null,
   "metadata": {
    "scrolled": true
   },
   "outputs": [],
   "source": [
    "evaluator, percentage_profit, percentage_profit_bh = print_test_results(best_individual, ticker_name='CSCO', start='2016-09-22', end='2017-01-20')\n",
    "results['CSCO'].append([percentage_profit, percentage_profit_bh])"
   ]
  },
  {
   "cell_type": "code",
   "execution_count": null,
   "metadata": {},
   "outputs": [],
   "source": [
    "plot_strategy(evaluator, ticker_name='CSCO', start='2016-09-22', end='2017-01-20')"
   ]
  },
  {
   "cell_type": "code",
   "execution_count": null,
   "metadata": {},
   "outputs": [],
   "source": [
    "%%time\n",
    "best_individual = find_best_strategy(ticker_name='CSCO', start='2016-10-25', end='2017-03-20', ngen=5)"
   ]
  },
  {
   "cell_type": "code",
   "execution_count": null,
   "metadata": {
    "scrolled": true
   },
   "outputs": [],
   "source": [
    "evaluator, percentage_profit, percentage_profit_bh = print_test_results(best_individual, ticker_name='CSCO', start='2017-03-21', end='2017-07-19')\n",
    "results['CSCO'].append([percentage_profit, percentage_profit_bh])"
   ]
  },
  {
   "cell_type": "code",
   "execution_count": null,
   "metadata": {},
   "outputs": [],
   "source": [
    "plot_strategy(evaluator, ticker_name='CSCO', start='2017-03-21', end='2017-07-19')"
   ]
  },
  {
   "cell_type": "markdown",
   "metadata": {},
   "source": [
    "## DowDuPont"
   ]
  },
  {
   "cell_type": "code",
   "execution_count": 14,
   "metadata": {},
   "outputs": [
    {
     "name": "stderr",
     "output_type": "stream",
     "text": [
      "C:\\Users\\Jonathan\\Anaconda3\\lib\\site-packages\\deap-1.3.1-py3.7-win-amd64.egg\\deap\\creator.py:141: RuntimeWarning: A class named 'FitnessMax' has already been created and it will be overwritten. Consider deleting previous creation of that class or rename it.\n",
      "  RuntimeWarning)\n",
      "C:\\Users\\Jonathan\\Anaconda3\\lib\\site-packages\\deap-1.3.1-py3.7-win-amd64.egg\\deap\\creator.py:141: RuntimeWarning: A class named 'Individual' has already been created and it will be overwritten. Consider deleting previous creation of that class or rename it.\n",
      "  RuntimeWarning)\n"
     ]
    },
    {
     "name": "stdout",
     "output_type": "stream",
     "text": [
      "Running genetic algorithm ...\n",
      "gen\tnevals\tmin     \tmax    \tmean    \tstd    \n",
      "0  \t1000  \t-66.6761\t8.79597\t-3.02145\t12.2461\n",
      "1  \t583   \t-57.4131\t8.52337\t1.10563 \t6.21409\n",
      "2  \t589   \t-57.852 \t8.70962\t2.59996 \t6.3312 \n",
      "3  \t596   \t-58.1327\t9.97855\t4.13264 \t5.32181\n",
      "4  \t600   \t-56.4622\t10.5383\t5.39373 \t5.122  \n",
      "5  \t624   \t-56.5588\t11.2757\t6.5043  \t3.87982\n",
      "Net profit of buy and hold: 1.984049999999998\n",
      "Running backtesting ...\n",
      "Best individual: [1, 0, 0, 0, 0, 0, 0, 0, 1, 0, 0, 1, 0, 0, 1, 1, 1, 0, 0, 0, 0, 1, 0, 0, 1, 0, 1, 0, 1, 0, 1, 0, 0, 1, 0, 1, 0, 1, 0, 1, 1, 1, 1, 0, 0, 0, 0, 1, 1, 1, 1, 0, 1, 1, 1, 0, 0, 1, 1, 0, 1, 0, 1, 1, 1, 0, 1, 0, 1, 1, 0, 0, 1, 1, 1, 1]\n",
      "Best average net profit: -4.903473345476557\n",
      "Wall time: 7min 36s\n"
     ]
    }
   ],
   "source": [
    "%%time\n",
    "best_individual = find_best_strategy(ticker_name='DD', start='2014-11-05', end='2015-03-31', ngen=5)"
   ]
  },
  {
   "cell_type": "code",
   "execution_count": null,
   "metadata": {
    "scrolled": true
   },
   "outputs": [],
   "source": [
    "evaluator, percentage_profit, percentage_profit_bh = print_test_results(best_individual, ticker_name='DD', start='2015-04-01', end='2015-07-30')\n",
    "results['DD'].append([percentage_profit, percentage_profit_bh])"
   ]
  },
  {
   "cell_type": "code",
   "execution_count": null,
   "metadata": {},
   "outputs": [],
   "source": [
    "plot_strategy(evaluator, ticker_name='DD', start='2015-04-01', end='2015-07-30')"
   ]
  },
  {
   "cell_type": "code",
   "execution_count": null,
   "metadata": {},
   "outputs": [],
   "source": [
    "%%time\n",
    "best_individual = find_best_strategy(ticker_name='DD', start='2015-05-07', end='2015-09-27', ngen=5)"
   ]
  },
  {
   "cell_type": "code",
   "execution_count": null,
   "metadata": {
    "scrolled": true
   },
   "outputs": [],
   "source": [
    "evaluator, percentage_profit, percentage_profit_bh = print_test_results(best_individual, ticker_name='DD', start='2015-09-28', end='2016-01-26')\n",
    "results['DD'].append([percentage_profit, percentage_profit_bh])"
   ]
  },
  {
   "cell_type": "code",
   "execution_count": null,
   "metadata": {},
   "outputs": [],
   "source": [
    "plot_strategy(evaluator, ticker_name='DD', start='2015-09-28', end='2016-01-26')"
   ]
  },
  {
   "cell_type": "code",
   "execution_count": null,
   "metadata": {},
   "outputs": [],
   "source": [
    "%%time\n",
    "best_individual = find_best_strategy(ticker_name='DD', start='2015-10-31', end='2016-03-25', ngen=5)"
   ]
  },
  {
   "cell_type": "code",
   "execution_count": null,
   "metadata": {
    "scrolled": true
   },
   "outputs": [],
   "source": [
    "evaluator, percentage_profit, percentage_profit_bh = print_test_results(best_individual, ticker_name='DD', start='2016-03-26', end='2016-07-24')\n",
    "results['DD'].append([percentage_profit, percentage_profit_bh])"
   ]
  },
  {
   "cell_type": "code",
   "execution_count": null,
   "metadata": {},
   "outputs": [],
   "source": [
    "plot_strategy(evaluator, ticker_name='DD', start='2016-03-26', end='2016-07-24')"
   ]
  },
  {
   "cell_type": "code",
   "execution_count": null,
   "metadata": {},
   "outputs": [],
   "source": [
    "%%time\n",
    "best_individual = find_best_strategy(ticker_name='DD', start='2016-04-30', end='2016-09-21', ngen=5)"
   ]
  },
  {
   "cell_type": "code",
   "execution_count": null,
   "metadata": {
    "scrolled": true
   },
   "outputs": [],
   "source": [
    "evaluator, percentage_profit, percentage_profit_bh = print_test_results(best_individual, ticker_name='DD', start='2016-09-22', end='2017-01-20')\n",
    "results['DD'].append([percentage_profit, percentage_profit_bh])"
   ]
  },
  {
   "cell_type": "code",
   "execution_count": null,
   "metadata": {},
   "outputs": [],
   "source": [
    "plot_strategy(evaluator, ticker_name='DD', start='2016-09-22', end='2017-01-20')"
   ]
  },
  {
   "cell_type": "code",
   "execution_count": null,
   "metadata": {},
   "outputs": [],
   "source": [
    "%%time\n",
    "best_individual = find_best_strategy(ticker_name='DD', start='2016-10-25', end='2017-03-20', ngen=5)"
   ]
  },
  {
   "cell_type": "code",
   "execution_count": null,
   "metadata": {
    "scrolled": true
   },
   "outputs": [],
   "source": [
    "evaluator, percentage_profit, percentage_profit_bh = print_test_results(best_individual, ticker_name='DD', start='2017-03-21', end='2017-07-19')\n",
    "results['DD'].append([percentage_profit, percentage_profit_bh])"
   ]
  },
  {
   "cell_type": "code",
   "execution_count": null,
   "metadata": {},
   "outputs": [],
   "source": [
    "plot_strategy(evaluator, ticker_name='DD', start='2017-03-21', end='2017-07-19')"
   ]
  },
  {
   "cell_type": "markdown",
   "metadata": {},
   "source": [
    "## JPMorgan Chase"
   ]
  },
  {
   "cell_type": "code",
   "execution_count": 15,
   "metadata": {},
   "outputs": [
    {
     "name": "stderr",
     "output_type": "stream",
     "text": [
      "C:\\Users\\Jonathan\\Anaconda3\\lib\\site-packages\\deap-1.3.1-py3.7-win-amd64.egg\\deap\\creator.py:141: RuntimeWarning: A class named 'FitnessMax' has already been created and it will be overwritten. Consider deleting previous creation of that class or rename it.\n",
      "  RuntimeWarning)\n",
      "C:\\Users\\Jonathan\\Anaconda3\\lib\\site-packages\\deap-1.3.1-py3.7-win-amd64.egg\\deap\\creator.py:141: RuntimeWarning: A class named 'Individual' has already been created and it will be overwritten. Consider deleting previous creation of that class or rename it.\n",
      "  RuntimeWarning)\n"
     ]
    },
    {
     "name": "stdout",
     "output_type": "stream",
     "text": [
      "Running genetic algorithm ...\n",
      "gen\tnevals\tmin     \tmax    \tmean    \tstd    \n",
      "0  \t1000  \t-64.8561\t4.85235\t-29.5092\t27.3119\n",
      "1  \t583   \t-58.9731\t4.85235\t-10.392 \t21.1482\n",
      "2  \t589   \t-59.5864\t6.61972\t-2.50853\t13.3604\n",
      "3  \t596   \t-56.7556\t6.61972\t-0.170918\t11.0186\n",
      "4  \t600   \t-58.5323\t6.61972\t1.18592  \t10.4578\n",
      "5  \t624   \t-57.1273\t7.15035\t1.76917  \t11.3068\n",
      "Net profit of buy and hold: 0.6819499999999977\n",
      "Running backtesting ...\n",
      "Best individual: [1, 0, 0, 1, 0, 0, 0, 0, 0, 1, 1, 0, 1, 0, 0, 1, 0, 1, 0, 1, 0, 1, 0, 1, 0, 0, 1, 0, 1, 0, 0, 1, 0, 1, 0, 0, 1, 1, 0, 1, 0, 0, 0, 0, 1, 0, 0, 1, 1, 0, 0, 0, 0, 1, 0, 1, 1, 1, 0, 0, 1, 0, 1, 1, 1, 0, 0, 1, 0, 0, 0, 0, 1, 0, 1, 0]\n",
      "Best average net profit: 0.20663458037902832\n",
      "Wall time: 6min 47s\n"
     ]
    }
   ],
   "source": [
    "%%time\n",
    "best_individual = find_best_strategy(ticker_name='JPM', start='2014-11-05', end='2015-03-31', ngen=5)"
   ]
  },
  {
   "cell_type": "code",
   "execution_count": null,
   "metadata": {
    "scrolled": true
   },
   "outputs": [],
   "source": [
    "evaluator, percentage_profit, percentage_profit_bh = print_test_results(best_individual, ticker_name='JPM', start='2015-04-01', end='2015-07-30')\n",
    "results['JPM'].append([percentage_profit, percentage_profit_bh])"
   ]
  },
  {
   "cell_type": "code",
   "execution_count": null,
   "metadata": {},
   "outputs": [],
   "source": [
    "plot_strategy(evaluator, ticker_name='JPM', start='2015-04-01', end='2015-07-30')"
   ]
  },
  {
   "cell_type": "code",
   "execution_count": null,
   "metadata": {},
   "outputs": [],
   "source": [
    "%%time\n",
    "best_individual = find_best_strategy(ticker_name='JPM', start='2015-05-07', end='2015-09-27', ngen=5)"
   ]
  },
  {
   "cell_type": "code",
   "execution_count": null,
   "metadata": {
    "scrolled": true
   },
   "outputs": [],
   "source": [
    "evaluator, percentage_profit, percentage_profit_bh = print_test_results(best_individual, ticker_name='JPM', start='2015-09-28', end='2016-01-26')\n",
    "results['JPM'].append([percentage_profit, percentage_profit_bh])"
   ]
  },
  {
   "cell_type": "code",
   "execution_count": null,
   "metadata": {},
   "outputs": [],
   "source": [
    "plot_strategy(evaluator, ticker_name='JPM', start='2015-09-28', end='2016-01-26')"
   ]
  },
  {
   "cell_type": "code",
   "execution_count": null,
   "metadata": {},
   "outputs": [],
   "source": [
    "%%time\n",
    "best_individual = find_best_strategy(ticker_name='JPM', start='2015-10-31', end='2016-03-25', ngen=5)"
   ]
  },
  {
   "cell_type": "code",
   "execution_count": null,
   "metadata": {
    "scrolled": true
   },
   "outputs": [],
   "source": [
    "evaluator, percentage_profit, percentage_profit_bh = print_test_results(best_individual, ticker_name='JPM', start='2016-03-26', end='2016-07-24')\n",
    "results['JPM'].append([percentage_profit, percentage_profit_bh])"
   ]
  },
  {
   "cell_type": "code",
   "execution_count": null,
   "metadata": {},
   "outputs": [],
   "source": [
    "plot_strategy(evaluator, ticker_name='JPM', start='2016-03-26', end='2016-07-24')"
   ]
  },
  {
   "cell_type": "code",
   "execution_count": null,
   "metadata": {},
   "outputs": [],
   "source": [
    "%%time\n",
    "best_individual = find_best_strategy(ticker_name='JPM', start='2016-04-30', end='2016-09-21', ngen=5)"
   ]
  },
  {
   "cell_type": "code",
   "execution_count": null,
   "metadata": {
    "scrolled": true
   },
   "outputs": [],
   "source": [
    "evaluator, percentage_profit, percentage_profit_bh = print_test_results(best_individual, ticker_name='JPM', start='2016-09-22', end='2017-01-20')\n",
    "results['JPM'].append([percentage_profit, percentage_profit_bh])"
   ]
  },
  {
   "cell_type": "code",
   "execution_count": null,
   "metadata": {},
   "outputs": [],
   "source": [
    "plot_strategy(evaluator, ticker_name='JPM', start='2016-09-22', end='2017-01-20')"
   ]
  },
  {
   "cell_type": "code",
   "execution_count": null,
   "metadata": {},
   "outputs": [],
   "source": [
    "%%time\n",
    "best_individual = find_best_strategy(ticker_name='JPM', start='2016-10-25', end='2017-03-20', ngen=5)"
   ]
  },
  {
   "cell_type": "code",
   "execution_count": null,
   "metadata": {
    "scrolled": true
   },
   "outputs": [],
   "source": [
    "evaluator, percentage_profit, percentage_profit_bh = print_test_results(best_individual, ticker_name='JPM', start='2017-03-21', end='2017-07-19')\n",
    "results['JPM'].append([percentage_profit, percentage_profit_bh])"
   ]
  },
  {
   "cell_type": "code",
   "execution_count": null,
   "metadata": {},
   "outputs": [],
   "source": [
    "plot_strategy(evaluator, ticker_name='JPM', start='2017-03-21', end='2017-07-19')"
   ]
  },
  {
   "cell_type": "markdown",
   "metadata": {},
   "source": [
    "## Microsoft"
   ]
  },
  {
   "cell_type": "code",
   "execution_count": 16,
   "metadata": {},
   "outputs": [
    {
     "name": "stderr",
     "output_type": "stream",
     "text": [
      "C:\\Users\\Jonathan\\Anaconda3\\lib\\site-packages\\deap-1.3.1-py3.7-win-amd64.egg\\deap\\creator.py:141: RuntimeWarning: A class named 'FitnessMax' has already been created and it will be overwritten. Consider deleting previous creation of that class or rename it.\n",
      "  RuntimeWarning)\n",
      "C:\\Users\\Jonathan\\Anaconda3\\lib\\site-packages\\deap-1.3.1-py3.7-win-amd64.egg\\deap\\creator.py:141: RuntimeWarning: A class named 'Individual' has already been created and it will be overwritten. Consider deleting previous creation of that class or rename it.\n",
      "  RuntimeWarning)\n"
     ]
    },
    {
     "name": "stdout",
     "output_type": "stream",
     "text": [
      "Running genetic algorithm ...\n",
      "gen\tnevals\tmin     \tmax    \tmean    \tstd    \n",
      "0  \t1000  \t-42.8191\t4.14907\t-5.35359\t4.42281\n",
      "1  \t583   \t-41.0078\t4.8484 \t-2.81925\t3.28415\n",
      "2  \t589   \t-38.9878\t5.0219 \t-1.09405\t3.17311\n",
      "3  \t596   \t-38.9137\t6.40558\t0.0181348\t3.32848\n",
      "4  \t600   \t-37.2673\t6.40558\t1.07238  \t2.91617\n",
      "5  \t624   \t-38.4181\t6.4949 \t2.1141   \t2.99154\n",
      "Net profit of buy and hold: -5.557099999999999\n",
      "Running backtesting ...\n",
      "Best individual: [1, 0, 0, 0, 1, 0, 0, 0, 0, 1, 1, 1, 0, 0, 0, 0, 0, 1, 1, 1, 1, 0, 1, 1, 0, 1, 0, 0, 1, 1, 1, 1, 1, 1, 1, 0, 0, 1, 1, 0, 0, 0, 1, 1, 1, 0, 1, 1, 1, 0, 1, 1, 0, 1, 0, 0, 0, 1, 1, 1, 0, 1, 1, 0, 1, 1, 0, 1, 0, 1, 0, 0, 0, 1, 0, 0]\n",
      "Best average net profit: -1.1130238119740947\n",
      "Wall time: 8min 24s\n"
     ]
    }
   ],
   "source": [
    "%%time\n",
    "best_individual = find_best_strategy(ticker_name='MSFT', start='2014-11-05', end='2015-03-31', ngen=5)"
   ]
  },
  {
   "cell_type": "code",
   "execution_count": null,
   "metadata": {
    "scrolled": true
   },
   "outputs": [],
   "source": [
    "evaluator, percentage_profit, percentage_profit_bh = print_test_results(best_individual, ticker_name='MSFT', start='2015-04-01', end='2015-07-30')\n",
    "results['MSFT'].append([percentage_profit, percentage_profit_bh])"
   ]
  },
  {
   "cell_type": "code",
   "execution_count": null,
   "metadata": {},
   "outputs": [],
   "source": [
    "plot_strategy(evaluator, ticker_name='MSFT', start='2015-04-01', end='2015-07-30')"
   ]
  },
  {
   "cell_type": "code",
   "execution_count": null,
   "metadata": {},
   "outputs": [],
   "source": [
    "%%time\n",
    "best_individual = find_best_strategy(ticker_name='MSFT', start='2015-05-07', end='2015-09-27', ngen=5)"
   ]
  },
  {
   "cell_type": "code",
   "execution_count": null,
   "metadata": {
    "scrolled": true
   },
   "outputs": [],
   "source": [
    "evaluator, percentage_profit, percentage_profit_bh = print_test_results(best_individual, ticker_name='MSFT', start='2015-09-28', end='2016-01-26')\n",
    "results['MSFT'].append([percentage_profit, percentage_profit_bh])"
   ]
  },
  {
   "cell_type": "code",
   "execution_count": null,
   "metadata": {},
   "outputs": [],
   "source": [
    "plot_strategy(evaluator, ticker_name='MSFT', start='2015-09-28', end='2016-01-26')"
   ]
  },
  {
   "cell_type": "code",
   "execution_count": null,
   "metadata": {},
   "outputs": [],
   "source": [
    "%%time\n",
    "best_individual = find_best_strategy(ticker_name='MSFT', start='2015-10-31', end='2016-03-25', ngen=5)"
   ]
  },
  {
   "cell_type": "code",
   "execution_count": null,
   "metadata": {
    "scrolled": true
   },
   "outputs": [],
   "source": [
    "evaluator, percentage_profit, percentage_profit_bh = print_test_results(best_individual, ticker_name='MSFT', start='2016-03-26', end='2016-07-24')\n",
    "results['MSFT'].append([percentage_profit, percentage_profit_bh])"
   ]
  },
  {
   "cell_type": "code",
   "execution_count": null,
   "metadata": {},
   "outputs": [],
   "source": [
    "plot_strategy(evaluator, ticker_name='MSFT', start='2016-03-26', end='2016-07-24')"
   ]
  },
  {
   "cell_type": "code",
   "execution_count": null,
   "metadata": {},
   "outputs": [],
   "source": [
    "%%time\n",
    "best_individual = find_best_strategy(ticker_name='MSFT', start='2016-04-30', end='2016-09-21', ngen=5)"
   ]
  },
  {
   "cell_type": "code",
   "execution_count": null,
   "metadata": {
    "scrolled": true
   },
   "outputs": [],
   "source": [
    "evaluator, percentage_profit, percentage_profit_bh = print_test_results(best_individual, ticker_name='MSFT', start='2016-09-22', end='2017-01-20')\n",
    "results['MSFT'].append([percentage_profit, percentage_profit_bh])"
   ]
  },
  {
   "cell_type": "code",
   "execution_count": null,
   "metadata": {},
   "outputs": [],
   "source": [
    "plot_strategy(evaluator, ticker_name='MSFT', start='2016-09-22', end='2017-01-20')"
   ]
  },
  {
   "cell_type": "code",
   "execution_count": null,
   "metadata": {},
   "outputs": [],
   "source": [
    "%%time\n",
    "best_individual = find_best_strategy(ticker_name='MSFT', start='2016-10-25', end='2017-03-20', ngen=5)"
   ]
  },
  {
   "cell_type": "code",
   "execution_count": null,
   "metadata": {
    "scrolled": true
   },
   "outputs": [],
   "source": [
    "evaluator, percentage_profit, percentage_profit_bh = print_test_results(best_individual, ticker_name='MSFT', start='2017-03-21', end='2017-07-19')\n",
    "results['MSFT'].append([percentage_profit, percentage_profit_bh])"
   ]
  },
  {
   "cell_type": "code",
   "execution_count": null,
   "metadata": {},
   "outputs": [],
   "source": [
    "plot_strategy(evaluator, ticker_name='MSFT', start='2017-03-21', end='2017-07-19')"
   ]
  },
  {
   "cell_type": "markdown",
   "metadata": {},
   "source": [
    "## Nike"
   ]
  },
  {
   "cell_type": "code",
   "execution_count": 17,
   "metadata": {},
   "outputs": [
    {
     "name": "stderr",
     "output_type": "stream",
     "text": [
      "C:\\Users\\Jonathan\\Anaconda3\\lib\\site-packages\\deap-1.3.1-py3.7-win-amd64.egg\\deap\\creator.py:141: RuntimeWarning: A class named 'FitnessMax' has already been created and it will be overwritten. Consider deleting previous creation of that class or rename it.\n",
      "  RuntimeWarning)\n",
      "C:\\Users\\Jonathan\\Anaconda3\\lib\\site-packages\\deap-1.3.1-py3.7-win-amd64.egg\\deap\\creator.py:141: RuntimeWarning: A class named 'Individual' has already been created and it will be overwritten. Consider deleting previous creation of that class or rename it.\n",
      "  RuntimeWarning)\n"
     ]
    },
    {
     "name": "stdout",
     "output_type": "stream",
     "text": [
      "Running genetic algorithm ...\n",
      "gen\tnevals\tmin     \tmax   \tmean    \tstd    \n",
      "0  \t1000  \t-54.1323\t5.1097\t-5.67382\t14.9025\n",
      "1  \t583   \t-53.6134\t6.98415\t0.252615\t5.64543\n",
      "2  \t589   \t-53.6134\t6.98415\t1.46728 \t5.25846\n",
      "3  \t596   \t-54.9266\t5.43745\t1.68592 \t6.19162\n",
      "4  \t600   \t-53.5904\t6.46683\t2.11797 \t5.69406\n",
      "5  \t624   \t-53.2068\t7.1762 \t2.21497 \t6.23271\n",
      "Net profit of buy and hold: 3.504725000000004\n",
      "Running backtesting ...\n",
      "Best individual: [1, 1, 0, 0, 1, 1, 0, 0, 1, 0, 1, 1, 1, 0, 0, 0, 1, 0, 1, 0, 1, 1, 0, 0, 0, 1, 0, 1, 0, 1, 1, 1, 0, 1, 1, 0, 1, 0, 0, 0, 1, 1, 1, 0, 0, 0, 1, 1, 0, 1, 0, 1, 1, 1, 0, 0, 1, 1, 0, 0, 1, 1, 1, 1, 0, 0, 0, 0, 1, 1, 0, 1, 0, 0, 0, 0]\n",
      "Best average net profit: 0.5724479945495122\n",
      "Wall time: 7min 47s\n"
     ]
    }
   ],
   "source": [
    "%%time\n",
    "best_individual = find_best_strategy(ticker_name='NKE', start='2014-11-05', end='2015-03-31', ngen=5)"
   ]
  },
  {
   "cell_type": "code",
   "execution_count": null,
   "metadata": {
    "scrolled": true
   },
   "outputs": [],
   "source": [
    "evaluator, percentage_profit, percentage_profit_bh = print_test_results(best_individual, ticker_name='NKE', start='2015-04-01', end='2015-07-30')\n",
    "results['NKE'].append([percentage_profit, percentage_profit_bh])"
   ]
  },
  {
   "cell_type": "code",
   "execution_count": null,
   "metadata": {},
   "outputs": [],
   "source": [
    "plot_strategy(evaluator, ticker_name='NKE', start='2015-04-01', end='2015-07-30')"
   ]
  },
  {
   "cell_type": "code",
   "execution_count": null,
   "metadata": {},
   "outputs": [],
   "source": [
    "%%time\n",
    "best_individual = find_best_strategy(ticker_name='NKE', start='2015-05-07', end='2015-09-27', ngen=5)"
   ]
  },
  {
   "cell_type": "code",
   "execution_count": null,
   "metadata": {
    "scrolled": true
   },
   "outputs": [],
   "source": [
    "evaluator, percentage_profit, percentage_profit_bh = print_test_results(best_individual, ticker_name='NKE', start='2015-09-28', end='2016-01-26')\n",
    "results['NKE'].append([percentage_profit, percentage_profit_bh])"
   ]
  },
  {
   "cell_type": "code",
   "execution_count": null,
   "metadata": {},
   "outputs": [],
   "source": [
    "plot_strategy(evaluator, ticker_name='NKE', start='2015-09-28', end='2016-01-26')"
   ]
  },
  {
   "cell_type": "code",
   "execution_count": null,
   "metadata": {},
   "outputs": [],
   "source": [
    "%%time\n",
    "best_individual = find_best_strategy(ticker_name='NKE', start='2015-10-31', end='2016-03-25', ngen=5)"
   ]
  },
  {
   "cell_type": "code",
   "execution_count": null,
   "metadata": {
    "scrolled": true
   },
   "outputs": [],
   "source": [
    "evaluator, percentage_profit, percentage_profit_bh = print_test_results(best_individual, ticker_name='NKE', start='2016-03-26', end='2016-07-24')\n",
    "results['NKE'].append([percentage_profit, percentage_profit_bh])"
   ]
  },
  {
   "cell_type": "code",
   "execution_count": null,
   "metadata": {},
   "outputs": [],
   "source": [
    "plot_strategy(evaluator, ticker_name='NKE', start='2016-03-26', end='2016-07-24')"
   ]
  },
  {
   "cell_type": "code",
   "execution_count": null,
   "metadata": {},
   "outputs": [],
   "source": [
    "%%time\n",
    "best_individual = find_best_strategy(ticker_name='NKE', start='2016-04-30', end='2016-09-21', ngen=5)"
   ]
  },
  {
   "cell_type": "code",
   "execution_count": null,
   "metadata": {
    "scrolled": true
   },
   "outputs": [],
   "source": [
    "evaluator, percentage_profit, percentage_profit_bh = print_test_results(best_individual, ticker_name='NKE', start='2016-09-22', end='2017-01-20')\n",
    "results['NKE'].append([percentage_profit, percentage_profit_bh])"
   ]
  },
  {
   "cell_type": "code",
   "execution_count": null,
   "metadata": {},
   "outputs": [],
   "source": [
    "plot_strategy(evaluator, ticker_name='NKE', start='2016-09-22', end='2017-01-20')"
   ]
  },
  {
   "cell_type": "code",
   "execution_count": null,
   "metadata": {},
   "outputs": [],
   "source": [
    "%%time\n",
    "best_individual = find_best_strategy(ticker_name='NKE', start='2016-10-25', end='2017-03-20', ngen=5)"
   ]
  },
  {
   "cell_type": "code",
   "execution_count": null,
   "metadata": {
    "scrolled": true
   },
   "outputs": [],
   "source": [
    "evaluator, percentage_profit, percentage_profit_bh = print_test_results(best_individual, ticker_name='NKE', start='2017-03-21', end='2017-07-19')\n",
    "results['NKE'].append([percentage_profit, percentage_profit_bh])"
   ]
  },
  {
   "cell_type": "code",
   "execution_count": null,
   "metadata": {},
   "outputs": [],
   "source": [
    "plot_strategy(evaluator, ticker_name='NKE', start='2017-03-21', end='2017-07-19')"
   ]
  },
  {
   "cell_type": "markdown",
   "metadata": {},
   "source": [
    "## UnitedHealth"
   ]
  },
  {
   "cell_type": "code",
   "execution_count": 18,
   "metadata": {},
   "outputs": [
    {
     "name": "stderr",
     "output_type": "stream",
     "text": [
      "C:\\Users\\Jonathan\\Anaconda3\\lib\\site-packages\\deap-1.3.1-py3.7-win-amd64.egg\\deap\\creator.py:141: RuntimeWarning: A class named 'FitnessMax' has already been created and it will be overwritten. Consider deleting previous creation of that class or rename it.\n",
      "  RuntimeWarning)\n",
      "C:\\Users\\Jonathan\\Anaconda3\\lib\\site-packages\\deap-1.3.1-py3.7-win-amd64.egg\\deap\\creator.py:141: RuntimeWarning: A class named 'Individual' has already been created and it will be overwritten. Consider deleting previous creation of that class or rename it.\n",
      "  RuntimeWarning)\n"
     ]
    },
    {
     "name": "stdout",
     "output_type": "stream",
     "text": [
      "Running genetic algorithm ...\n",
      "gen\tnevals\tmin     \tmax    \tmean    \tstd    \n",
      "0  \t1000  \t-119.661\t29.1084\t-6.48983\t41.4597\n",
      "1  \t583   \t-119.831\t29.1084\t10.9038 \t23.4614\n",
      "2  \t589   \t-122.823\t31.589 \t16.9294 \t20.0234\n",
      "3  \t596   \t-113.997\t31.589 \t19.5047 \t18.2909\n",
      "4  \t600   \t-119.803\t31.589 \t21.5079 \t17.1257\n",
      "5  \t624   \t-120.051\t32.5916\t23.8932 \t12.2873\n",
      "Net profit of buy and hold: 23.957075000000003\n",
      "Running backtesting ...\n",
      "Best individual: [1, 0, 0, 0, 1, 1, 1, 1, 0, 1, 0, 0, 1, 0, 0, 1, 0, 1, 0, 1, 0, 1, 0, 1, 0, 1, 1, 0, 0, 0, 0, 1, 1, 1, 1, 0, 0, 1, 0, 0, 1, 0, 0, 1, 0, 0, 0, 0, 0, 1, 1, 1, 1, 1, 1, 0, 1, 1, 1, 0, 1, 1, 1, 1, 0, 0, 1, 1, 1, 0, 0, 1, 1, 1, 0, 1]\n",
      "Best average net profit: 17.049636161361594\n",
      "Wall time: 7min 52s\n"
     ]
    }
   ],
   "source": [
    "%%time\n",
    "best_individual = find_best_strategy(ticker_name='UNH', start='2014-11-05', end='2015-03-31', ngen=5)"
   ]
  },
  {
   "cell_type": "code",
   "execution_count": null,
   "metadata": {
    "scrolled": true
   },
   "outputs": [],
   "source": [
    "evaluator, percentage_profit, percentage_profit_bh = print_test_results(best_individual, ticker_name='UNH', start='2015-04-01', end='2015-07-30')\n",
    "results['UNH'].append([percentage_profit, percentage_profit_bh])"
   ]
  },
  {
   "cell_type": "code",
   "execution_count": null,
   "metadata": {},
   "outputs": [],
   "source": [
    "plot_strategy(evaluator, ticker_name='UNH', start='2015-04-01', end='2015-07-30')"
   ]
  },
  {
   "cell_type": "code",
   "execution_count": null,
   "metadata": {},
   "outputs": [],
   "source": [
    "%%time\n",
    "best_individual = find_best_strategy(ticker_name='UNH', start='2015-05-07', end='2015-09-27', ngen=5)"
   ]
  },
  {
   "cell_type": "code",
   "execution_count": null,
   "metadata": {
    "scrolled": true
   },
   "outputs": [],
   "source": [
    "evaluator, percentage_profit, percentage_profit_bh = print_test_results(best_individual, ticker_name='UNH', start='2015-09-28', end='2016-01-26')\n",
    "results['UNH'].append([percentage_profit, percentage_profit_bh])"
   ]
  },
  {
   "cell_type": "code",
   "execution_count": null,
   "metadata": {},
   "outputs": [],
   "source": [
    "plot_strategy(evaluator, ticker_name='UNH', start='2015-09-28', end='2016-01-26')"
   ]
  },
  {
   "cell_type": "code",
   "execution_count": null,
   "metadata": {},
   "outputs": [],
   "source": [
    "%%time\n",
    "best_individual = find_best_strategy(ticker_name='UNH', start='2015-10-31', end='2016-03-25', ngen=5)"
   ]
  },
  {
   "cell_type": "code",
   "execution_count": null,
   "metadata": {
    "scrolled": true
   },
   "outputs": [],
   "source": [
    "evaluator, percentage_profit, percentage_profit_bh = print_test_results(best_individual, ticker_name='UNH', start='2016-03-26', end='2016-07-24')\n",
    "results['UNH'].append([percentage_profit, percentage_profit_bh])"
   ]
  },
  {
   "cell_type": "code",
   "execution_count": null,
   "metadata": {},
   "outputs": [],
   "source": [
    "plot_strategy(evaluator, ticker_name='UNH', start='2016-03-26', end='2016-07-24')"
   ]
  },
  {
   "cell_type": "code",
   "execution_count": null,
   "metadata": {},
   "outputs": [],
   "source": [
    "%%time\n",
    "best_individual = find_best_strategy(ticker_name='UNH', start='2016-04-30', end='2016-09-21', ngen=5)"
   ]
  },
  {
   "cell_type": "code",
   "execution_count": null,
   "metadata": {
    "scrolled": true
   },
   "outputs": [],
   "source": [
    "evaluator, percentage_profit, percentage_profit_bh = print_test_results(best_individual, ticker_name='UNH', start='2016-09-22', end='2017-01-20')\n",
    "results['UNH'].append([percentage_profit, percentage_profit_bh])"
   ]
  },
  {
   "cell_type": "code",
   "execution_count": null,
   "metadata": {},
   "outputs": [],
   "source": [
    "plot_strategy(evaluator, ticker_name='UNH', start='2016-09-22', end='2017-01-20')"
   ]
  },
  {
   "cell_type": "code",
   "execution_count": null,
   "metadata": {},
   "outputs": [],
   "source": [
    "%%time\n",
    "best_individual = find_best_strategy(ticker_name='UNH', start='2016-10-25', end='2017-03-20', ngen=5)"
   ]
  },
  {
   "cell_type": "code",
   "execution_count": null,
   "metadata": {
    "scrolled": true
   },
   "outputs": [],
   "source": [
    "evaluator, percentage_profit, percentage_profit_bh = print_test_results(best_individual, ticker_name='UNH', start='2017-03-21', end='2017-07-19')\n",
    "results['UNH'].append([percentage_profit, percentage_profit_bh])"
   ]
  },
  {
   "cell_type": "code",
   "execution_count": null,
   "metadata": {},
   "outputs": [],
   "source": [
    "plot_strategy(evaluator, ticker_name='UNH', start='2017-03-21', end='2017-07-19')"
   ]
  }
 ],
 "metadata": {
  "kernelspec": {
   "display_name": "Python 3",
   "language": "python",
   "name": "python3"
  },
  "language_info": {
   "codemirror_mode": {
    "name": "ipython",
    "version": 3
   },
   "file_extension": ".py",
   "mimetype": "text/x-python",
   "name": "python",
   "nbconvert_exporter": "python",
   "pygments_lexer": "ipython3",
   "version": "3.7.3"
  },
  "toc": {
   "base_numbering": 1,
   "nav_menu": {},
   "number_sections": true,
   "sideBar": true,
   "skip_h1_title": false,
   "title_cell": "Table of Contents",
   "title_sidebar": "Contents",
   "toc_cell": false,
   "toc_position": {},
   "toc_section_display": true,
   "toc_window_display": false
  }
 },
 "nbformat": 4,
 "nbformat_minor": 4
}

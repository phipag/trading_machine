{
 "cells": [
  {
   "cell_type": "markdown",
   "metadata": {},
   "source": [
    "# Prerequisites"
   ]
  },
  {
   "cell_type": "code",
   "execution_count": null,
   "metadata": {},
   "outputs": [],
   "source": [
    "import numpy as np\n",
    "import pandas as pd\n",
    "from tm import StockDataProvider\n",
    "from tm.trading_rules import SimpleMovingAverage, ExponentialMovingAverage, STO, MACD, RSI, ROC\n",
    "from tm.optimizers import GeneticOptimizer, StrategyPerformanceEvaluator, map_chromosome_to_trading_rule_parameters, filter_for_active_rules, calculate_absolute_buy_and_hold_returns\n",
    "from tm.backtesting import GeometricBrownianMotion, MonteCarloCrossValidation\n",
    "import matplotlib.pyplot as plt\n",
    "%matplotlib inline\n",
    "%config InlineBackend.figure_format='retina'"
   ]
  },
  {
   "cell_type": "markdown",
   "metadata": {},
   "source": [
    "Define the trading rule basis for the strategy."
   ]
  },
  {
   "cell_type": "code",
   "execution_count": null,
   "metadata": {},
   "outputs": [],
   "source": [
    "trading_rules = [SimpleMovingAverage, ExponentialMovingAverage, STO, MACD, RSI, ROC]"
   ]
  },
  {
   "cell_type": "markdown",
   "metadata": {},
   "source": [
    "Define a function which finds the best strategy by running the genetic algorithm and applying backtesting."
   ]
  },
  {
   "cell_type": "code",
   "execution_count": null,
   "metadata": {},
   "outputs": [],
   "source": [
    "# Returns best strategy as bitvector\n",
    "def find_best_strategy(ticker_name, start, end, ngen=5):\n",
    "    data = StockDataProvider(ticker_name, start=start, end=end)\n",
    "    optimizer = GeneticOptimizer(data, trading_rules, random_seed=42)\n",
    "    print('Running genetic algorithm ...')\n",
    "    hof = optimizer.run(pop_size=1000, ngen=ngen, hof_size=100)\n",
    "    print('Net profit of buy and hold:', calculate_absolute_buy_and_hold_returns(data))\n",
    "    gbm = GeometricBrownianMotion(data)\n",
    "    crossvalidator = MonteCarloCrossValidation(hof, gbm, trading_rules)\n",
    "    print('Running backtesting ...')\n",
    "    best_individual = crossvalidator.run(num_iterations=100, time_steps=85)\n",
    "    del optimizer\n",
    "    return best_individual"
   ]
  },
  {
   "cell_type": "markdown",
   "metadata": {},
   "source": [
    "Define a function which prints the results for the testing period."
   ]
  },
  {
   "cell_type": "code",
   "execution_count": null,
   "metadata": {},
   "outputs": [],
   "source": [
    "def print_test_results(individual, ticker_name, start, end):\n",
    "    real_data = StockDataProvider(ticker_name, start=start, end=end)\n",
    "    rule_instances = list(map(lambda Rule, params: Rule(real_data, *params), trading_rules, map_chromosome_to_trading_rule_parameters(individual, trading_rules)))\n",
    "    active_rule_instances = filter_for_active_rules(individual, rule_instances)\n",
    "    evaluator = StrategyPerformanceEvaluator(active_rule_instances)\n",
    "    net_profit = evaluator.calculate_net_profit()\n",
    "    net_profit_bh = calculate_absolute_buy_and_hold_returns(real_data)\n",
    "    percentage_profit = net_profit / real_data.history['Close'].iloc[0] * 100\n",
    "    percentage_profit_bh = net_profit_bh / real_data.history['Close'].iloc[0] * 100\n",
    "    print('Active rules:', list(map(lambda rule: rule.__class__.__name__, active_rule_instances)))\n",
    "    print('Active rules\\' parameters:', list(map(lambda param: param[1], filter(lambda param: trading_rules[param[0]] in map(lambda rule: rule.__class__, active_rule_instances), enumerate(map_chromosome_to_trading_rule_parameters(individual, trading_rules))))))\n",
    "    print('Net profit of strategy: {:f}'.format(net_profit))\n",
    "    print('Net profit of buy and hold: {:f}'.format(net_profit_bh))\n",
    "    print('Percentage profit of strategy: {:f}%'.format(percentage_profit))\n",
    "    print('Percentage profit of buy and hold: {:f}%'.format(percentage_profit_bh))\n",
    "    print('Number of buy signals:', len(evaluator.buy_signals[evaluator.buy_signals == True]))\n",
    "    print('Number of sell signals:', len(evaluator.sell_signals[evaluator.sell_signals == True]))\n",
    "    return evaluator, percentage_profit, percentage_profit_bh"
   ]
  },
  {
   "cell_type": "markdown",
   "metadata": {},
   "source": [
    "Define a function which can plot a strategy."
   ]
  },
  {
   "cell_type": "code",
   "execution_count": null,
   "metadata": {},
   "outputs": [],
   "source": [
    "def plot_strategy(evaluator, ticker_name, start, end):\n",
    "    data = StockDataProvider(ticker_name, start=start, end=end)\n",
    "    \n",
    "    fig, ax = plt.subplots(figsize=(16, 8))\n",
    "    \n",
    "    ax.plot(data.history['Close'], label='Stock prices')\n",
    "\n",
    "    if len(evaluator.buy_signals[evaluator.buy_signals == True]) > 0:\n",
    "        buy_points = pd.Series(data=map(lambda index, price: price if evaluator.buy_signals.loc[index] == True else np.nan, data.history['Close'].index, data.history['Close']),\n",
    "                               index=data.history['Close'].index)\n",
    "        ax.scatter(x=buy_points.index, y=buy_points, color='green', marker='^', label='Buy signal')\n",
    "    \n",
    "    if len(evaluator.sell_signals[evaluator.sell_signals == True]) > 0:\n",
    "        sell_points = pd.Series(data=map(lambda index, price: price if evaluator.sell_signals.loc[index] == True else np.nan, data.history['Close'].index, data.history['Close']),\n",
    "                               index=data.history['Close'].index)\n",
    "        ax.scatter(x=sell_points.index, y=sell_points, color='red', marker='v', label='Sell signal')\n",
    "\n",
    "    ax.set_xlabel('Date')\n",
    "    ax.set_ylabel('Stock price')\n",
    "    ax.legend()\n",
    "    fig.tight_layout()"
   ]
  },
  {
   "cell_type": "markdown",
   "metadata": {},
   "source": [
    "# Experiments"
   ]
  },
  {
   "cell_type": "code",
   "execution_count": null,
   "metadata": {},
   "outputs": [],
   "source": [
    "results = {'EXS1.DE': [],\n",
    "           'ADS.DE': [],\n",
    "           'ALV.DE': [],\n",
    "           'BAS.DE': [],\n",
    "           'DBK.DE': [],\n",
    "           'DTE.DE': [],\n",
    "           'SAP.DE': [],\n",
    "           'DJI': [],\n",
    "           'CSCO': [],\n",
    "           'DD': [],\n",
    "           'JPM': [],\n",
    "           'MSFT': [],\n",
    "           'NKE': [],\n",
    "           'UNH': []}"
   ]
  },
  {
   "cell_type": "markdown",
   "metadata": {},
   "source": [
    "## DAX"
   ]
  },
  {
   "cell_type": "code",
   "execution_count": null,
   "metadata": {},
   "outputs": [],
   "source": [
    "%%time\n",
    "best_individual = find_best_strategy(ticker_name='EXS1.DE', start='2014-11-05', end='2015-03-31', ngen=5)"
   ]
  },
  {
   "cell_type": "code",
   "execution_count": null,
   "metadata": {
    "scrolled": true
   },
   "outputs": [],
   "source": [
    "evaluator, percentage_profit, percentage_profit_bh = print_test_results(best_individual, ticker_name='EXS1.DE', start='2015-04-01', end='2015-07-30')\n",
    "results['EXS1.DE'].append([percentage_profit, percentage_profit_bh])"
   ]
  },
  {
   "cell_type": "code",
   "execution_count": null,
   "metadata": {},
   "outputs": [],
   "source": [
    "plot_strategy(evaluator, ticker_name='EXS1.DE', start='2015-04-01', end='2015-07-30')"
   ]
  },
  {
   "cell_type": "code",
   "execution_count": null,
   "metadata": {},
   "outputs": [],
   "source": [
    "%%time\n",
    "best_individual = find_best_strategy(ticker_name='EXS1.DE', start='2015-05-07', end='2015-09-27', ngen=5)"
   ]
  },
  {
   "cell_type": "code",
   "execution_count": null,
   "metadata": {
    "scrolled": true
   },
   "outputs": [],
   "source": [
    "evaluator, percentage_profit, percentage_profit_bh = print_test_results(best_individual, ticker_name='EXS1.DE', start='2015-09-28', end='2016-01-26')\n",
    "results['EXS1.DE'].append([percentage_profit, percentage_profit_bh])"
   ]
  },
  {
   "cell_type": "code",
   "execution_count": null,
   "metadata": {},
   "outputs": [],
   "source": [
    "plot_strategy(evaluator, ticker_name='EXS1.DE', start='2015-09-28', end='2016-01-26')"
   ]
  },
  {
   "cell_type": "code",
   "execution_count": null,
   "metadata": {},
   "outputs": [],
   "source": [
    "%%time\n",
    "best_individual = find_best_strategy(ticker_name='EXS1.DE', start='2015-10-31', end='2016-03-25', ngen=5)"
   ]
  },
  {
   "cell_type": "code",
   "execution_count": null,
   "metadata": {
    "scrolled": true
   },
   "outputs": [],
   "source": [
    "evaluator, percentage_profit, percentage_profit_bh = print_test_results(best_individual, ticker_name='EXS1.DE', start='2016-03-26', end='2016-07-24')\n",
    "results['EXS1.DE'].append([percentage_profit, percentage_profit_bh])"
   ]
  },
  {
   "cell_type": "code",
   "execution_count": null,
   "metadata": {},
   "outputs": [],
   "source": [
    "plot_strategy(evaluator, ticker_name='EXS1.DE', start='2016-03-26', end='2016-07-24')"
   ]
  },
  {
   "cell_type": "code",
   "execution_count": null,
   "metadata": {},
   "outputs": [],
   "source": [
    "%%time\n",
    "best_individual = find_best_strategy(ticker_name='EXS1.DE', start='2016-04-30', end='2016-09-21', ngen=5)"
   ]
  },
  {
   "cell_type": "code",
   "execution_count": null,
   "metadata": {
    "scrolled": true
   },
   "outputs": [],
   "source": [
    "evaluator, percentage_profit, percentage_profit_bh = print_test_results(best_individual, ticker_name='EXS1.DE', start='2016-09-22', end='2017-01-20')\n",
    "results['EXS1.DE'].append([percentage_profit, percentage_profit_bh])"
   ]
  },
  {
   "cell_type": "code",
   "execution_count": null,
   "metadata": {},
   "outputs": [],
   "source": [
    "plot_strategy(evaluator, ticker_name='EXS1.DE', start='2016-09-22', end='2017-01-20')"
   ]
  },
  {
   "cell_type": "code",
   "execution_count": null,
   "metadata": {},
   "outputs": [],
   "source": [
    "%%time\n",
    "best_individual = find_best_strategy(ticker_name='EXS1.DE', start='2016-10-25', end='2017-03-20', ngen=5)"
   ]
  },
  {
   "cell_type": "code",
   "execution_count": null,
   "metadata": {
    "scrolled": true
   },
   "outputs": [],
   "source": [
    "evaluator, percentage_profit, percentage_profit_bh = print_test_results(best_individual, ticker_name='EXS1.DE', start='2017-03-21', end='2017-07-19')\n",
    "results['EXS1.DE'].append([percentage_profit, percentage_profit_bh])"
   ]
  },
  {
   "cell_type": "code",
   "execution_count": null,
   "metadata": {},
   "outputs": [],
   "source": [
    "plot_strategy(evaluator, ticker_name='EXS1.DE', start='2017-03-21', end='2017-07-19')"
   ]
  },
  {
   "cell_type": "markdown",
   "metadata": {},
   "source": [
    "## Adidas"
   ]
  },
  {
   "cell_type": "code",
   "execution_count": null,
   "metadata": {},
   "outputs": [],
   "source": [
    "%%time\n",
    "best_individual = find_best_strategy(ticker_name='ADS.DE', start='2014-11-05', end='2015-03-31', ngen=5)"
   ]
  },
  {
   "cell_type": "code",
   "execution_count": null,
   "metadata": {
    "scrolled": true
   },
   "outputs": [],
   "source": [
    "evaluator, percentage_profit, percentage_profit_bh = print_test_results(best_individual, ticker_name='ADS.DE', start='2015-04-01', end='2015-07-30')\n",
    "results['ADS.DE'].append([percentage_profit, percentage_profit_bh])"
   ]
  },
  {
   "cell_type": "code",
   "execution_count": null,
   "metadata": {},
   "outputs": [],
   "source": [
    "plot_strategy(evaluator, ticker_name='ADS.DE', start='2015-04-01', end='2015-07-30')"
   ]
  },
  {
   "cell_type": "code",
   "execution_count": null,
   "metadata": {},
   "outputs": [],
   "source": [
    "%%time\n",
    "best_individual = find_best_strategy(ticker_name='ADS.DE', start='2015-05-07', end='2015-09-27', ngen=5)"
   ]
  },
  {
   "cell_type": "code",
   "execution_count": null,
   "metadata": {
    "scrolled": true
   },
   "outputs": [],
   "source": [
    "evaluator, percentage_profit, percentage_profit_bh = print_test_results(best_individual, ticker_name='ADS.DE', start='2015-09-28', end='2016-01-26')\n",
    "results['ADS.DE'].append([percentage_profit, percentage_profit_bh])"
   ]
  },
  {
   "cell_type": "code",
   "execution_count": null,
   "metadata": {},
   "outputs": [],
   "source": [
    "plot_strategy(evaluator, ticker_name='ADS.DE', start='2015-09-28', end='2016-01-26')"
   ]
  },
  {
   "cell_type": "code",
   "execution_count": null,
   "metadata": {},
   "outputs": [],
   "source": [
    "%%time\n",
    "best_individual = find_best_strategy(ticker_name='ADS.DE', start='2015-10-31', end='2016-03-25', ngen=5)"
   ]
  },
  {
   "cell_type": "code",
   "execution_count": null,
   "metadata": {
    "scrolled": true
   },
   "outputs": [],
   "source": [
    "evaluator, percentage_profit, percentage_profit_bh = print_test_results(best_individual, ticker_name='ADS.DE', start='2016-03-26', end='2016-07-24')\n",
    "results['ADS.DE'].append([percentage_profit, percentage_profit_bh])"
   ]
  },
  {
   "cell_type": "code",
   "execution_count": null,
   "metadata": {},
   "outputs": [],
   "source": [
    "plot_strategy(evaluator, ticker_name='ADS.DE', start='2016-03-26', end='2016-07-24')"
   ]
  },
  {
   "cell_type": "code",
   "execution_count": null,
   "metadata": {},
   "outputs": [],
   "source": [
    "%%time\n",
    "best_individual = find_best_strategy(ticker_name='ADS.DE', start='2016-04-30', end='2016-09-21', ngen=5)"
   ]
  },
  {
   "cell_type": "code",
   "execution_count": null,
   "metadata": {
    "scrolled": true
   },
   "outputs": [],
   "source": [
    "evaluator, percentage_profit, percentage_profit_bh = print_test_results(best_individual, ticker_name='ADS.DE', start='2016-09-22', end='2017-01-20')\n",
    "results['ADS.DE'].append([percentage_profit, percentage_profit_bh])"
   ]
  },
  {
   "cell_type": "code",
   "execution_count": null,
   "metadata": {},
   "outputs": [],
   "source": [
    "plot_strategy(evaluator, ticker_name='ADS.DE', start='2016-09-22', end='2017-01-20')"
   ]
  },
  {
   "cell_type": "code",
   "execution_count": null,
   "metadata": {},
   "outputs": [],
   "source": [
    "%%time\n",
    "best_individual = find_best_strategy(ticker_name='ADS.DE', start='2016-10-25', end='2017-03-20', ngen=5)"
   ]
  },
  {
   "cell_type": "code",
   "execution_count": null,
   "metadata": {
    "scrolled": true
   },
   "outputs": [],
   "source": [
    "evaluator, percentage_profit, percentage_profit_bh = print_test_results(best_individual, ticker_name='ADS.DE', start='2017-03-21', end='2017-07-19')\n",
    "results['ADS.DE'].append([percentage_profit, percentage_profit_bh])"
   ]
  },
  {
   "cell_type": "code",
   "execution_count": null,
   "metadata": {},
   "outputs": [],
   "source": [
    "plot_strategy(evaluator, ticker_name='ADS.DE', start='2017-03-21', end='2017-07-19')"
   ]
  },
  {
   "cell_type": "markdown",
   "metadata": {},
   "source": [
    "## Allianz"
   ]
  },
  {
   "cell_type": "code",
   "execution_count": null,
   "metadata": {},
   "outputs": [],
   "source": [
    "%%time\n",
    "best_individual = find_best_strategy(ticker_name='ALV.DE', start='2014-11-05', end='2015-03-31', ngen=5)"
   ]
  },
  {
   "cell_type": "code",
   "execution_count": null,
   "metadata": {
    "scrolled": true
   },
   "outputs": [],
   "source": [
    "evaluator, percentage_profit, percentage_profit_bh = print_test_results(best_individual, ticker_name='ALV.DE', start='2015-04-01', end='2015-07-30')\n",
    "results['ALV.DE'].append([percentage_profit, percentage_profit_bh])"
   ]
  },
  {
   "cell_type": "code",
   "execution_count": null,
   "metadata": {},
   "outputs": [],
   "source": [
    "plot_strategy(evaluator, ticker_name='ALV.DE', start='2015-04-01', end='2015-07-30')"
   ]
  },
  {
   "cell_type": "code",
   "execution_count": null,
   "metadata": {},
   "outputs": [],
   "source": [
    "%%time\n",
    "best_individual = find_best_strategy(ticker_name='ALV.DE', start='2015-05-07', end='2015-09-27', ngen=5)"
   ]
  },
  {
   "cell_type": "code",
   "execution_count": null,
   "metadata": {
    "scrolled": true
   },
   "outputs": [],
   "source": [
    "evaluator, percentage_profit, percentage_profit_bh = print_test_results(best_individual, ticker_name='ALV.DE', start='2015-09-28', end='2016-01-26')\n",
    "results['ALV.DE'].append([percentage_profit, percentage_profit_bh])"
   ]
  },
  {
   "cell_type": "code",
   "execution_count": null,
   "metadata": {},
   "outputs": [],
   "source": [
    "plot_strategy(evaluator, ticker_name='ALV.DE', start='2015-09-28', end='2016-01-26')"
   ]
  },
  {
   "cell_type": "code",
   "execution_count": null,
   "metadata": {},
   "outputs": [],
   "source": [
    "%%time\n",
    "best_individual = find_best_strategy(ticker_name='ALV.DE', start='2015-10-31', end='2016-03-25', ngen=5)"
   ]
  },
  {
   "cell_type": "code",
   "execution_count": null,
   "metadata": {
    "scrolled": true
   },
   "outputs": [],
   "source": [
    "evaluator, percentage_profit, percentage_profit_bh = print_test_results(best_individual, ticker_name='ALV.DE', start='2016-03-26', end='2016-07-24')\n",
    "results['ALV.DE'].append([percentage_profit, percentage_profit_bh])"
   ]
  },
  {
   "cell_type": "code",
   "execution_count": null,
   "metadata": {},
   "outputs": [],
   "source": [
    "plot_strategy(evaluator, ticker_name='ALV.DE', start='2016-03-26', end='2016-07-24')"
   ]
  },
  {
   "cell_type": "code",
   "execution_count": null,
   "metadata": {},
   "outputs": [],
   "source": [
    "%%time\n",
    "best_individual = find_best_strategy(ticker_name='ALV.DE', start='2016-04-30', end='2016-09-21', ngen=5)"
   ]
  },
  {
   "cell_type": "code",
   "execution_count": null,
   "metadata": {
    "scrolled": true
   },
   "outputs": [],
   "source": [
    "evaluator, percentage_profit, percentage_profit_bh = print_test_results(best_individual, ticker_name='ALV.DE', start='2016-09-22', end='2017-01-20')\n",
    "results['ALV.DE'].append([percentage_profit, percentage_profit_bh])"
   ]
  },
  {
   "cell_type": "code",
   "execution_count": null,
   "metadata": {},
   "outputs": [],
   "source": [
    "plot_strategy(evaluator, ticker_name='ALV.DE', start='2016-09-22', end='2017-01-20')"
   ]
  },
  {
   "cell_type": "code",
   "execution_count": null,
   "metadata": {},
   "outputs": [],
   "source": [
    "%%time\n",
    "best_individual = find_best_strategy(ticker_name='ALV.DE', start='2016-10-25', end='2017-03-20', ngen=5)"
   ]
  },
  {
   "cell_type": "code",
   "execution_count": null,
   "metadata": {
    "scrolled": true
   },
   "outputs": [],
   "source": [
    "evaluator, percentage_profit, percentage_profit_bh = print_test_results(best_individual, ticker_name='ALV.DE', start='2017-03-21', end='2017-07-19')\n",
    "results['ALV.DE'].append([percentage_profit, percentage_profit_bh])"
   ]
  },
  {
   "cell_type": "code",
   "execution_count": null,
   "metadata": {},
   "outputs": [],
   "source": [
    "plot_strategy(evaluator, ticker_name='ALV.DE', start='2017-03-21', end='2017-07-19')"
   ]
  },
  {
   "cell_type": "markdown",
   "metadata": {},
   "source": [
    "## BASF"
   ]
  },
  {
   "cell_type": "code",
   "execution_count": null,
   "metadata": {},
   "outputs": [],
   "source": [
    "%%time\n",
    "best_individual = find_best_strategy(ticker_name='BAS.DE', start='2014-11-05', end='2015-03-31', ngen=5)"
   ]
  },
  {
   "cell_type": "code",
   "execution_count": null,
   "metadata": {
    "scrolled": true
   },
   "outputs": [],
   "source": [
    "evaluator, percentage_profit, percentage_profit_bh = print_test_results(best_individual, ticker_name='BAS.DE', start='2015-04-01', end='2015-07-30')\n",
    "results['BAS.DE'].append([percentage_profit, percentage_profit_bh])"
   ]
  },
  {
   "cell_type": "code",
   "execution_count": null,
   "metadata": {},
   "outputs": [],
   "source": [
    "plot_strategy(evaluator, ticker_name='BAS.DE', start='2015-04-01', end='2015-07-30')"
   ]
  },
  {
   "cell_type": "code",
   "execution_count": null,
   "metadata": {},
   "outputs": [],
   "source": [
    "%%time\n",
    "best_individual = find_best_strategy(ticker_name='BAS.DE', start='2015-05-07', end='2015-09-27', ngen=5)"
   ]
  },
  {
   "cell_type": "code",
   "execution_count": null,
   "metadata": {
    "scrolled": true
   },
   "outputs": [],
   "source": [
    "evaluator, percentage_profit, percentage_profit_bh = print_test_results(best_individual, ticker_name='BAS.DE', start='2015-09-28', end='2016-01-26')\n",
    "results['BAS.DE'].append([percentage_profit, percentage_profit_bh])"
   ]
  },
  {
   "cell_type": "code",
   "execution_count": null,
   "metadata": {},
   "outputs": [],
   "source": [
    "plot_strategy(evaluator, ticker_name='BAS.DE', start='2015-09-28', end='2016-01-26')"
   ]
  },
  {
   "cell_type": "code",
   "execution_count": null,
   "metadata": {},
   "outputs": [],
   "source": [
    "%%time\n",
    "best_individual = find_best_strategy(ticker_name='BAS.DE', start='2015-10-31', end='2016-03-25', ngen=5)"
   ]
  },
  {
   "cell_type": "code",
   "execution_count": null,
   "metadata": {
    "scrolled": true
   },
   "outputs": [],
   "source": [
    "evaluator, percentage_profit, percentage_profit_bh = print_test_results(best_individual, ticker_name='BAS.DE', start='2016-03-26', end='2016-07-24')\n",
    "results['BAS.DE'].append([percentage_profit, percentage_profit_bh])"
   ]
  },
  {
   "cell_type": "code",
   "execution_count": null,
   "metadata": {},
   "outputs": [],
   "source": [
    "plot_strategy(evaluator, ticker_name='BAS.DE', start='2016-03-26', end='2016-07-24')"
   ]
  },
  {
   "cell_type": "code",
   "execution_count": null,
   "metadata": {},
   "outputs": [],
   "source": [
    "%%time\n",
    "best_individual = find_best_strategy(ticker_name='BAS.DE', start='2016-04-30', end='2016-09-21', ngen=5)"
   ]
  },
  {
   "cell_type": "code",
   "execution_count": null,
   "metadata": {
    "scrolled": true
   },
   "outputs": [],
   "source": [
    "evaluator, percentage_profit, percentage_profit_bh = print_test_results(best_individual, ticker_name='BAS.DE', start='2016-09-22', end='2017-01-20')\n",
    "results['BAS.DE'].append([percentage_profit, percentage_profit_bh])"
   ]
  },
  {
   "cell_type": "code",
   "execution_count": null,
   "metadata": {},
   "outputs": [],
   "source": [
    "plot_strategy(evaluator, ticker_name='BAS.DE', start='2016-09-22', end='2017-01-20')"
   ]
  },
  {
   "cell_type": "code",
   "execution_count": null,
   "metadata": {},
   "outputs": [],
   "source": [
    "%%time\n",
    "best_individual = find_best_strategy(ticker_name='BAS.DE', start='2016-10-25', end='2017-03-20', ngen=5)"
   ]
  },
  {
   "cell_type": "code",
   "execution_count": null,
   "metadata": {
    "scrolled": true
   },
   "outputs": [],
   "source": [
    "evaluator, percentage_profit, percentage_profit_bh = print_test_results(best_individual, ticker_name='BAS.DE', start='2017-03-21', end='2017-07-19')\n",
    "results['BAS.DE'].append([percentage_profit, percentage_profit_bh])"
   ]
  },
  {
   "cell_type": "code",
   "execution_count": null,
   "metadata": {},
   "outputs": [],
   "source": [
    "plot_strategy(evaluator, ticker_name='BAS.DE', start='2017-03-21', end='2017-07-19')"
   ]
  },
  {
   "cell_type": "markdown",
   "metadata": {},
   "source": [
    "## Deutsche Bank"
   ]
  },
  {
   "cell_type": "code",
   "execution_count": null,
   "metadata": {},
   "outputs": [],
   "source": [
    "%%time\n",
    "best_individual = find_best_strategy(ticker_name='DBK.DE', start='2014-11-05', end='2015-03-31', ngen=5)"
   ]
  },
  {
   "cell_type": "code",
   "execution_count": null,
   "metadata": {
    "scrolled": true
   },
   "outputs": [],
   "source": [
    "evaluator, percentage_profit, percentage_profit_bh = print_test_results(best_individual, ticker_name='DBK.DE', start='2015-04-01', end='2015-07-30')\n",
    "results['DBK.DE'].append([percentage_profit, percentage_profit_bh])"
   ]
  },
  {
   "cell_type": "code",
   "execution_count": null,
   "metadata": {},
   "outputs": [],
   "source": [
    "plot_strategy(evaluator, ticker_name='DBK.DE', start='2015-04-01', end='2015-07-30')"
   ]
  },
  {
   "cell_type": "code",
   "execution_count": null,
   "metadata": {},
   "outputs": [],
   "source": [
    "%%time\n",
    "best_individual = find_best_strategy(ticker_name='DBK.DE', start='2015-05-07', end='2015-09-27', ngen=5)"
   ]
  },
  {
   "cell_type": "code",
   "execution_count": null,
   "metadata": {
    "scrolled": true
   },
   "outputs": [],
   "source": [
    "evaluator, percentage_profit, percentage_profit_bh = print_test_results(best_individual, ticker_name='DBK.DE', start='2015-09-28', end='2016-01-26')\n",
    "results['DBK.DE'].append([percentage_profit, percentage_profit_bh])"
   ]
  },
  {
   "cell_type": "code",
   "execution_count": null,
   "metadata": {},
   "outputs": [],
   "source": [
    "plot_strategy(evaluator, ticker_name='DBK.DE', start='2015-09-28', end='2016-01-26')"
   ]
  },
  {
   "cell_type": "code",
   "execution_count": null,
   "metadata": {},
   "outputs": [],
   "source": [
    "%%time\n",
    "best_individual = find_best_strategy(ticker_name='DBK.DE', start='2015-10-31', end='2016-03-25', ngen=5)"
   ]
  },
  {
   "cell_type": "code",
   "execution_count": null,
   "metadata": {
    "scrolled": true
   },
   "outputs": [],
   "source": [
    "evaluator, percentage_profit, percentage_profit_bh = print_test_results(best_individual, ticker_name='DBK.DE', start='2016-03-26', end='2016-07-24')\n",
    "results['DBK.DE'].append([percentage_profit, percentage_profit_bh])"
   ]
  },
  {
   "cell_type": "code",
   "execution_count": null,
   "metadata": {},
   "outputs": [],
   "source": [
    "plot_strategy(evaluator, ticker_name='DBK.DE', start='2016-03-26', end='2016-07-24')"
   ]
  },
  {
   "cell_type": "code",
   "execution_count": null,
   "metadata": {},
   "outputs": [],
   "source": [
    "%%time\n",
    "best_individual = find_best_strategy(ticker_name='DBK.DE', start='2016-04-30', end='2016-09-21', ngen=5)"
   ]
  },
  {
   "cell_type": "code",
   "execution_count": null,
   "metadata": {
    "scrolled": true
   },
   "outputs": [],
   "source": [
    "evaluator, percentage_profit, percentage_profit_bh = print_test_results(best_individual, ticker_name='DBK.DE', start='2016-09-22', end='2017-01-20')\n",
    "results['DBK.DE'].append([percentage_profit, percentage_profit_bh])"
   ]
  },
  {
   "cell_type": "code",
   "execution_count": null,
   "metadata": {},
   "outputs": [],
   "source": [
    "plot_strategy(evaluator, ticker_name='DBK.DE', start='2016-09-22', end='2017-01-20')"
   ]
  },
  {
   "cell_type": "code",
   "execution_count": null,
   "metadata": {},
   "outputs": [],
   "source": [
    "%%time\n",
    "best_individual = find_best_strategy(ticker_name='DBK.DE', start='2016-10-25', end='2017-03-20', ngen=5)"
   ]
  },
  {
   "cell_type": "code",
   "execution_count": null,
   "metadata": {
    "scrolled": true
   },
   "outputs": [],
   "source": [
    "evaluator, percentage_profit, percentage_profit_bh = print_test_results(best_individual, ticker_name='DBK.DE', start='2017-03-21', end='2017-07-19')\n",
    "results['DBK.DE'].append([percentage_profit, percentage_profit_bh])"
   ]
  },
  {
   "cell_type": "code",
   "execution_count": null,
   "metadata": {},
   "outputs": [],
   "source": [
    "plot_strategy(evaluator, ticker_name='DBK.DE', start='2017-03-21', end='2017-07-19')"
   ]
  },
  {
   "cell_type": "markdown",
   "metadata": {},
   "source": [
    "## Deutsche Telekom"
   ]
  },
  {
   "cell_type": "code",
   "execution_count": null,
   "metadata": {},
   "outputs": [],
   "source": [
    "%%time\n",
    "best_individual = find_best_strategy(ticker_name='DTE.DE', start='2014-11-05', end='2015-03-31', ngen=5)"
   ]
  },
  {
   "cell_type": "code",
   "execution_count": null,
   "metadata": {
    "scrolled": true
   },
   "outputs": [],
   "source": [
    "evaluator, percentage_profit, percentage_profit_bh = print_test_results(best_individual, ticker_name='DTE.DE', start='2015-04-01', end='2015-07-30')\n",
    "results['DTE.DE'].append([percentage_profit, percentage_profit_bh])"
   ]
  },
  {
   "cell_type": "code",
   "execution_count": null,
   "metadata": {},
   "outputs": [],
   "source": [
    "plot_strategy(evaluator, ticker_name='DTE.DE', start='2015-04-01', end='2015-07-30')"
   ]
  },
  {
   "cell_type": "code",
   "execution_count": null,
   "metadata": {},
   "outputs": [],
   "source": [
    "%%time\n",
    "best_individual = find_best_strategy(ticker_name='DTE.DE', start='2015-05-07', end='2015-09-27', ngen=5)"
   ]
  },
  {
   "cell_type": "code",
   "execution_count": null,
   "metadata": {
    "scrolled": true
   },
   "outputs": [],
   "source": [
    "evaluator, percentage_profit, percentage_profit_bh = print_test_results(best_individual, ticker_name='DTE.DE', start='2015-09-28', end='2016-01-26')\n",
    "results['DTE.DE'].append([percentage_profit, percentage_profit_bh])"
   ]
  },
  {
   "cell_type": "code",
   "execution_count": null,
   "metadata": {},
   "outputs": [],
   "source": [
    "plot_strategy(evaluator, ticker_name='DTE.DE', start='2015-09-28', end='2016-01-26')"
   ]
  },
  {
   "cell_type": "code",
   "execution_count": null,
   "metadata": {},
   "outputs": [],
   "source": [
    "%%time\n",
    "best_individual = find_best_strategy(ticker_name='DTE.DE', start='2015-10-31', end='2016-03-25', ngen=5)"
   ]
  },
  {
   "cell_type": "code",
   "execution_count": null,
   "metadata": {
    "scrolled": true
   },
   "outputs": [],
   "source": [
    "evaluator, percentage_profit, percentage_profit_bh = print_test_results(best_individual, ticker_name='DTE.DE', start='2016-03-26', end='2016-07-24')\n",
    "results['DTE.DE'].append([percentage_profit, percentage_profit_bh])"
   ]
  },
  {
   "cell_type": "code",
   "execution_count": null,
   "metadata": {},
   "outputs": [],
   "source": [
    "plot_strategy(evaluator, ticker_name='DTE.DE', start='2016-03-26', end='2016-07-24')"
   ]
  },
  {
   "cell_type": "code",
   "execution_count": null,
   "metadata": {},
   "outputs": [],
   "source": [
    "%%time\n",
    "best_individual = find_best_strategy(ticker_name='DTE.DE', start='2016-04-30', end='2016-09-21', ngen=5)"
   ]
  },
  {
   "cell_type": "code",
   "execution_count": null,
   "metadata": {
    "scrolled": true
   },
   "outputs": [],
   "source": [
    "evaluator, percentage_profit, percentage_profit_bh = print_test_results(best_individual, ticker_name='DTE.DE', start='2016-09-22', end='2017-01-20')\n",
    "results['DTE.DE'].append([percentage_profit, percentage_profit_bh])"
   ]
  },
  {
   "cell_type": "code",
   "execution_count": null,
   "metadata": {},
   "outputs": [],
   "source": [
    "plot_strategy(evaluator, ticker_name='DTE.DE', start='2016-09-22', end='2017-01-20')"
   ]
  },
  {
   "cell_type": "code",
   "execution_count": null,
   "metadata": {},
   "outputs": [],
   "source": [
    "%%time\n",
    "best_individual = find_best_strategy(ticker_name='DTE.DE', start='2016-10-25', end='2017-03-20', ngen=5)"
   ]
  },
  {
   "cell_type": "code",
   "execution_count": null,
   "metadata": {
    "scrolled": true
   },
   "outputs": [],
   "source": [
    "evaluator, percentage_profit, percentage_profit_bh = print_test_results(best_individual, ticker_name='DTE.DE', start='2017-03-21', end='2017-07-19')\n",
    "results['DTE.DE'].append([percentage_profit, percentage_profit_bh])"
   ]
  },
  {
   "cell_type": "code",
   "execution_count": null,
   "metadata": {},
   "outputs": [],
   "source": [
    "plot_strategy(evaluator, ticker_name='DTE.DE', start='2017-03-21', end='2017-07-19')"
   ]
  },
  {
   "cell_type": "markdown",
   "metadata": {},
   "source": [
    "## SAP"
   ]
  },
  {
   "cell_type": "code",
   "execution_count": null,
   "metadata": {},
   "outputs": [],
   "source": [
    "%%time\n",
    "best_individual = find_best_strategy(ticker_name='SAP.DE', start='2014-11-05', end='2015-03-31', ngen=5)"
   ]
  },
  {
   "cell_type": "code",
   "execution_count": null,
   "metadata": {
    "scrolled": true
   },
   "outputs": [],
   "source": [
    "evaluator, percentage_profit, percentage_profit_bh = print_test_results(best_individual, ticker_name='SAP.DE', start='2015-04-01', end='2015-07-30')\n",
    "results['SAP.DE'].append([percentage_profit, percentage_profit_bh])"
   ]
  },
  {
   "cell_type": "code",
   "execution_count": null,
   "metadata": {},
   "outputs": [],
   "source": [
    "plot_strategy(evaluator, ticker_name='SAP.DE', start='2015-04-01', end='2015-07-30')"
   ]
  },
  {
   "cell_type": "code",
   "execution_count": null,
   "metadata": {},
   "outputs": [],
   "source": [
    "%%time\n",
    "best_individual = find_best_strategy(ticker_name='SAP.DE', start='2015-05-07', end='2015-09-27', ngen=5)"
   ]
  },
  {
   "cell_type": "code",
   "execution_count": null,
   "metadata": {
    "scrolled": true
   },
   "outputs": [],
   "source": [
    "evaluator, percentage_profit, percentage_profit_bh = print_test_results(best_individual, ticker_name='SAP.DE', start='2015-09-28', end='2016-01-26')\n",
    "results['SAP.DE'].append([percentage_profit, percentage_profit_bh])"
   ]
  },
  {
   "cell_type": "code",
   "execution_count": null,
   "metadata": {},
   "outputs": [],
   "source": [
    "plot_strategy(evaluator, ticker_name='SAP.DE', start='2015-09-28', end='2016-01-26')"
   ]
  },
  {
   "cell_type": "code",
   "execution_count": null,
   "metadata": {},
   "outputs": [],
   "source": [
    "%%time\n",
    "best_individual = find_best_strategy(ticker_name='SAP.DE', start='2015-10-31', end='2016-03-25', ngen=5)"
   ]
  },
  {
   "cell_type": "code",
   "execution_count": null,
   "metadata": {
    "scrolled": true
   },
   "outputs": [],
   "source": [
    "evaluator, percentage_profit, percentage_profit_bh = print_test_results(best_individual, ticker_name='SAP.DE', start='2016-03-26', end='2016-07-24')\n",
    "results['SAP.DE'].append([percentage_profit, percentage_profit_bh])"
   ]
  },
  {
   "cell_type": "code",
   "execution_count": null,
   "metadata": {},
   "outputs": [],
   "source": [
    "plot_strategy(evaluator, ticker_name='SAP.DE', start='2016-03-26', end='2016-07-24')"
   ]
  },
  {
   "cell_type": "code",
   "execution_count": null,
   "metadata": {},
   "outputs": [],
   "source": [
    "%%time\n",
    "best_individual = find_best_strategy(ticker_name='SAP.DE', start='2016-04-30', end='2016-09-21', ngen=5)"
   ]
  },
  {
   "cell_type": "code",
   "execution_count": null,
   "metadata": {
    "scrolled": true
   },
   "outputs": [],
   "source": [
    "evaluator, percentage_profit, percentage_profit_bh = print_test_results(best_individual, ticker_name='SAP.DE', start='2016-09-22', end='2017-01-20')\n",
    "results['SAP.DE'].append([percentage_profit, percentage_profit_bh])"
   ]
  },
  {
   "cell_type": "code",
   "execution_count": null,
   "metadata": {},
   "outputs": [],
   "source": [
    "plot_strategy(evaluator, ticker_name='SAP.DE', start='2016-09-22', end='2017-01-20')"
   ]
  },
  {
   "cell_type": "code",
   "execution_count": null,
   "metadata": {},
   "outputs": [],
   "source": [
    "%%time\n",
    "best_individual = find_best_strategy(ticker_name='SAP.DE', start='2016-10-25', end='2017-03-20', ngen=5)"
   ]
  },
  {
   "cell_type": "code",
   "execution_count": null,
   "metadata": {
    "scrolled": true
   },
   "outputs": [],
   "source": [
    "evaluator, percentage_profit, percentage_profit_bh = print_test_results(best_individual, ticker_name='SAP.DE', start='2017-03-21', end='2017-07-19')\n",
    "results['SAP.DE'].append([percentage_profit, percentage_profit_bh])"
   ]
  },
  {
   "cell_type": "code",
   "execution_count": null,
   "metadata": {},
   "outputs": [],
   "source": [
    "plot_strategy(evaluator, ticker_name='SAP.DE', start='2017-03-21', end='2017-07-19')"
   ]
  },
  {
   "cell_type": "markdown",
   "metadata": {},
   "source": [
    "## Dow Jones Index"
   ]
  },
  {
   "cell_type": "code",
   "execution_count": null,
   "metadata": {},
   "outputs": [],
   "source": [
    "%%time\n",
    "best_individual = find_best_strategy(ticker_name='DJI', start='2014-11-05', end='2015-03-31', ngen=5)"
   ]
  },
  {
   "cell_type": "code",
   "execution_count": null,
   "metadata": {
    "scrolled": true
   },
   "outputs": [],
   "source": [
    "evaluator, percentage_profit, percentage_profit_bh = print_test_results(best_individual, ticker_name='DJI', start='2015-04-01', end='2015-07-30')\n",
    "results['DJI'].append([percentage_profit, percentage_profit_bh])"
   ]
  },
  {
   "cell_type": "code",
   "execution_count": null,
   "metadata": {},
   "outputs": [],
   "source": [
    "plot_strategy(evaluator, ticker_name='DJI', start='2015-04-01', end='2015-07-30')"
   ]
  },
  {
   "cell_type": "code",
   "execution_count": null,
   "metadata": {},
   "outputs": [],
   "source": [
    "%%time\n",
    "best_individual = find_best_strategy(ticker_name='DJI', start='2015-05-07', end='2015-09-27', ngen=5)"
   ]
  },
  {
   "cell_type": "code",
   "execution_count": null,
   "metadata": {
    "scrolled": true
   },
   "outputs": [],
   "source": [
    "evaluator, percentage_profit, percentage_profit_bh = print_test_results(best_individual, ticker_name='DJI', start='2015-09-28', end='2016-01-26')\n",
    "results['DJI'].append([percentage_profit, percentage_profit_bh])"
   ]
  },
  {
   "cell_type": "code",
   "execution_count": null,
   "metadata": {},
   "outputs": [],
   "source": [
    "plot_strategy(evaluator, ticker_name='DJI', start='2015-09-28', end='2016-01-26')"
   ]
  },
  {
   "cell_type": "code",
   "execution_count": null,
   "metadata": {},
   "outputs": [],
   "source": [
    "%%time\n",
    "best_individual = find_best_strategy(ticker_name='DJI', start='2015-10-31', end='2016-03-25', ngen=5)"
   ]
  },
  {
   "cell_type": "code",
   "execution_count": null,
   "metadata": {
    "scrolled": true
   },
   "outputs": [],
   "source": [
    "evaluator, percentage_profit, percentage_profit_bh = print_test_results(best_individual, ticker_name='DJI', start='2016-03-26', end='2016-07-24')\n",
    "results['DJI'].append([percentage_profit, percentage_profit_bh])"
   ]
  },
  {
   "cell_type": "code",
   "execution_count": null,
   "metadata": {},
   "outputs": [],
   "source": [
    "plot_strategy(evaluator, ticker_name='DJI', start='2016-03-26', end='2016-07-24')"
   ]
  },
  {
   "cell_type": "code",
   "execution_count": null,
   "metadata": {},
   "outputs": [],
   "source": [
    "%%time\n",
    "best_individual = find_best_strategy(ticker_name='DJI', start='2016-04-30', end='2016-09-21', ngen=5)"
   ]
  },
  {
   "cell_type": "code",
   "execution_count": null,
   "metadata": {
    "scrolled": true
   },
   "outputs": [],
   "source": [
    "evaluator, percentage_profit, percentage_profit_bh = print_test_results(best_individual, ticker_name='DJI', start='2016-09-22', end='2017-01-20')\n",
    "results['DJI'].append([percentage_profit, percentage_profit_bh])"
   ]
  },
  {
   "cell_type": "code",
   "execution_count": null,
   "metadata": {},
   "outputs": [],
   "source": [
    "plot_strategy(evaluator, ticker_name='DJI', start='2016-09-22', end='2017-01-20')"
   ]
  },
  {
   "cell_type": "code",
   "execution_count": null,
   "metadata": {},
   "outputs": [],
   "source": [
    "%%time\n",
    "best_individual = find_best_strategy(ticker_name='DJI', start='2016-10-25', end='2017-03-20', ngen=5)"
   ]
  },
  {
   "cell_type": "code",
   "execution_count": null,
   "metadata": {
    "scrolled": true
   },
   "outputs": [],
   "source": [
    "evaluator, percentage_profit, percentage_profit_bh = print_test_results(best_individual, ticker_name='DJI', start='2017-03-21', end='2017-07-19')\n",
    "results['DJI'].append([percentage_profit, percentage_profit_bh])"
   ]
  },
  {
   "cell_type": "code",
   "execution_count": null,
   "metadata": {},
   "outputs": [],
   "source": [
    "plot_strategy(evaluator, ticker_name='DJI', start='2017-03-21', end='2017-07-19')"
   ]
  },
  {
   "cell_type": "markdown",
   "metadata": {},
   "source": [
    "## Cisco"
   ]
  },
  {
   "cell_type": "code",
   "execution_count": null,
   "metadata": {},
   "outputs": [],
   "source": [
    "%%time\n",
    "best_individual = find_best_strategy(ticker_name='CSCO', start='2014-11-05', end='2015-03-31', ngen=5)"
   ]
  },
  {
   "cell_type": "code",
   "execution_count": null,
   "metadata": {
    "scrolled": true
   },
   "outputs": [],
   "source": [
    "evaluator, percentage_profit, percentage_profit_bh = print_test_results(best_individual, ticker_name='CSCO', start='2015-04-01', end='2015-07-30')\n",
    "results['CSCO'].append([percentage_profit, percentage_profit_bh])"
   ]
  },
  {
   "cell_type": "code",
   "execution_count": null,
   "metadata": {},
   "outputs": [],
   "source": [
    "plot_strategy(evaluator, ticker_name='CSCO', start='2015-04-01', end='2015-07-30')"
   ]
  },
  {
   "cell_type": "code",
   "execution_count": null,
   "metadata": {},
   "outputs": [],
   "source": [
    "%%time\n",
    "best_individual = find_best_strategy(ticker_name='CSCO', start='2015-05-07', end='2015-09-27', ngen=5)"
   ]
  },
  {
   "cell_type": "code",
   "execution_count": null,
   "metadata": {
    "scrolled": true
   },
   "outputs": [],
   "source": [
    "evaluator, percentage_profit, percentage_profit_bh = print_test_results(best_individual, ticker_name='CSCO', start='2015-09-28', end='2016-01-26')\n",
    "results['CSCO'].append([percentage_profit, percentage_profit_bh])"
   ]
  },
  {
   "cell_type": "code",
   "execution_count": null,
   "metadata": {},
   "outputs": [],
   "source": [
    "plot_strategy(evaluator, ticker_name='CSCO', start='2015-09-28', end='2016-01-26')"
   ]
  },
  {
   "cell_type": "code",
   "execution_count": null,
   "metadata": {},
   "outputs": [],
   "source": [
    "%%time\n",
    "best_individual = find_best_strategy(ticker_name='CSCO', start='2015-10-31', end='2016-03-25', ngen=5)"
   ]
  },
  {
   "cell_type": "code",
   "execution_count": null,
   "metadata": {
    "scrolled": true
   },
   "outputs": [],
   "source": [
    "evaluator, percentage_profit, percentage_profit_bh = print_test_results(best_individual, ticker_name='CSCO', start='2016-03-26', end='2016-07-24')\n",
    "results['CSCO'].append([percentage_profit, percentage_profit_bh])"
   ]
  },
  {
   "cell_type": "code",
   "execution_count": null,
   "metadata": {},
   "outputs": [],
   "source": [
    "plot_strategy(evaluator, ticker_name='CSCO', start='2016-03-26', end='2016-07-24')"
   ]
  },
  {
   "cell_type": "code",
   "execution_count": null,
   "metadata": {},
   "outputs": [],
   "source": [
    "%%time\n",
    "best_individual = find_best_strategy(ticker_name='CSCO', start='2016-04-30', end='2016-09-21', ngen=5)"
   ]
  },
  {
   "cell_type": "code",
   "execution_count": null,
   "metadata": {
    "scrolled": true
   },
   "outputs": [],
   "source": [
    "evaluator, percentage_profit, percentage_profit_bh = print_test_results(best_individual, ticker_name='CSCO', start='2016-09-22', end='2017-01-20')\n",
    "results['CSCO'].append([percentage_profit, percentage_profit_bh])"
   ]
  },
  {
   "cell_type": "code",
   "execution_count": null,
   "metadata": {},
   "outputs": [],
   "source": [
    "plot_strategy(evaluator, ticker_name='CSCO', start='2016-09-22', end='2017-01-20')"
   ]
  },
  {
   "cell_type": "code",
   "execution_count": null,
   "metadata": {},
   "outputs": [],
   "source": [
    "%%time\n",
    "best_individual = find_best_strategy(ticker_name='CSCO', start='2016-10-25', end='2017-03-20', ngen=5)"
   ]
  },
  {
   "cell_type": "code",
   "execution_count": null,
   "metadata": {
    "scrolled": true
   },
   "outputs": [],
   "source": [
    "evaluator, percentage_profit, percentage_profit_bh = print_test_results(best_individual, ticker_name='CSCO', start='2017-03-21', end='2017-07-19')\n",
    "results['CSCO'].append([percentage_profit, percentage_profit_bh])"
   ]
  },
  {
   "cell_type": "code",
   "execution_count": null,
   "metadata": {},
   "outputs": [],
   "source": [
    "plot_strategy(evaluator, ticker_name='CSCO', start='2017-03-21', end='2017-07-19')"
   ]
  },
  {
   "cell_type": "markdown",
   "metadata": {},
   "source": [
    "## DowDuPont"
   ]
  },
  {
   "cell_type": "code",
   "execution_count": null,
   "metadata": {},
   "outputs": [],
   "source": [
    "%%time\n",
    "best_individual = find_best_strategy(ticker_name='DD', start='2014-11-05', end='2015-03-31', ngen=5)"
   ]
  },
  {
   "cell_type": "code",
   "execution_count": null,
   "metadata": {
    "scrolled": true
   },
   "outputs": [],
   "source": [
    "evaluator, percentage_profit, percentage_profit_bh = print_test_results(best_individual, ticker_name='DD', start='2015-04-01', end='2015-07-30')\n",
    "results['DD'].append([percentage_profit, percentage_profit_bh])"
   ]
  },
  {
   "cell_type": "code",
   "execution_count": null,
   "metadata": {},
   "outputs": [],
   "source": [
    "plot_strategy(evaluator, ticker_name='DD', start='2015-04-01', end='2015-07-30')"
   ]
  },
  {
   "cell_type": "code",
   "execution_count": null,
   "metadata": {},
   "outputs": [],
   "source": [
    "%%time\n",
    "best_individual = find_best_strategy(ticker_name='DD', start='2015-05-07', end='2015-09-27', ngen=5)"
   ]
  },
  {
   "cell_type": "code",
   "execution_count": null,
   "metadata": {
    "scrolled": true
   },
   "outputs": [],
   "source": [
    "evaluator, percentage_profit, percentage_profit_bh = print_test_results(best_individual, ticker_name='DD', start='2015-09-28', end='2016-01-26')\n",
    "results['DD'].append([percentage_profit, percentage_profit_bh])"
   ]
  },
  {
   "cell_type": "code",
   "execution_count": null,
   "metadata": {},
   "outputs": [],
   "source": [
    "plot_strategy(evaluator, ticker_name='DD', start='2015-09-28', end='2016-01-26')"
   ]
  },
  {
   "cell_type": "code",
   "execution_count": null,
   "metadata": {},
   "outputs": [],
   "source": [
    "%%time\n",
    "best_individual = find_best_strategy(ticker_name='DD', start='2015-10-31', end='2016-03-25', ngen=5)"
   ]
  },
  {
   "cell_type": "code",
   "execution_count": null,
   "metadata": {
    "scrolled": true
   },
   "outputs": [],
   "source": [
    "evaluator, percentage_profit, percentage_profit_bh = print_test_results(best_individual, ticker_name='DD', start='2016-03-26', end='2016-07-24')\n",
    "results['DD'].append([percentage_profit, percentage_profit_bh])"
   ]
  },
  {
   "cell_type": "code",
   "execution_count": null,
   "metadata": {},
   "outputs": [],
   "source": [
    "plot_strategy(evaluator, ticker_name='DD', start='2016-03-26', end='2016-07-24')"
   ]
  },
  {
   "cell_type": "code",
   "execution_count": null,
   "metadata": {},
   "outputs": [],
   "source": [
    "%%time\n",
    "best_individual = find_best_strategy(ticker_name='DD', start='2016-04-30', end='2016-09-21', ngen=5)"
   ]
  },
  {
   "cell_type": "code",
   "execution_count": null,
   "metadata": {
    "scrolled": true
   },
   "outputs": [],
   "source": [
    "evaluator, percentage_profit, percentage_profit_bh = print_test_results(best_individual, ticker_name='DD', start='2016-09-22', end='2017-01-20')\n",
    "results['DD'].append([percentage_profit, percentage_profit_bh])"
   ]
  },
  {
   "cell_type": "code",
   "execution_count": null,
   "metadata": {},
   "outputs": [],
   "source": [
    "plot_strategy(evaluator, ticker_name='DD', start='2016-09-22', end='2017-01-20')"
   ]
  },
  {
   "cell_type": "code",
   "execution_count": null,
   "metadata": {},
   "outputs": [],
   "source": [
    "%%time\n",
    "best_individual = find_best_strategy(ticker_name='DD', start='2016-10-25', end='2017-03-20', ngen=5)"
   ]
  },
  {
   "cell_type": "code",
   "execution_count": null,
   "metadata": {
    "scrolled": true
   },
   "outputs": [],
   "source": [
    "evaluator, percentage_profit, percentage_profit_bh = print_test_results(best_individual, ticker_name='DD', start='2017-03-21', end='2017-07-19')\n",
    "results['DD'].append([percentage_profit, percentage_profit_bh])"
   ]
  },
  {
   "cell_type": "code",
   "execution_count": null,
   "metadata": {},
   "outputs": [],
   "source": [
    "plot_strategy(evaluator, ticker_name='DD', start='2017-03-21', end='2017-07-19')"
   ]
  },
  {
   "cell_type": "markdown",
   "metadata": {},
   "source": [
    "## JPMorgan Chase"
   ]
  },
  {
   "cell_type": "code",
   "execution_count": null,
   "metadata": {},
   "outputs": [],
   "source": [
    "%%time\n",
    "best_individual = find_best_strategy(ticker_name='JPM', start='2014-11-05', end='2015-03-31', ngen=5)"
   ]
  },
  {
   "cell_type": "code",
   "execution_count": null,
   "metadata": {
    "scrolled": true
   },
   "outputs": [],
   "source": [
    "evaluator, percentage_profit, percentage_profit_bh = print_test_results(best_individual, ticker_name='JPM', start='2015-04-01', end='2015-07-30')\n",
    "results['JPM'].append([percentage_profit, percentage_profit_bh])"
   ]
  },
  {
   "cell_type": "code",
   "execution_count": null,
   "metadata": {},
   "outputs": [],
   "source": [
    "plot_strategy(evaluator, ticker_name='JPM', start='2015-04-01', end='2015-07-30')"
   ]
  },
  {
   "cell_type": "code",
   "execution_count": null,
   "metadata": {},
   "outputs": [],
   "source": [
    "%%time\n",
    "best_individual = find_best_strategy(ticker_name='JPM', start='2015-05-07', end='2015-09-27', ngen=5)"
   ]
  },
  {
   "cell_type": "code",
   "execution_count": null,
   "metadata": {
    "scrolled": true
   },
   "outputs": [],
   "source": [
    "evaluator, percentage_profit, percentage_profit_bh = print_test_results(best_individual, ticker_name='JPM', start='2015-09-28', end='2016-01-26')\n",
    "results['JPM'].append([percentage_profit, percentage_profit_bh])"
   ]
  },
  {
   "cell_type": "code",
   "execution_count": null,
   "metadata": {},
   "outputs": [],
   "source": [
    "plot_strategy(evaluator, ticker_name='JPM', start='2015-09-28', end='2016-01-26')"
   ]
  },
  {
   "cell_type": "code",
   "execution_count": null,
   "metadata": {},
   "outputs": [],
   "source": [
    "%%time\n",
    "best_individual = find_best_strategy(ticker_name='JPM', start='2015-10-31', end='2016-03-25', ngen=5)"
   ]
  },
  {
   "cell_type": "code",
   "execution_count": null,
   "metadata": {
    "scrolled": true
   },
   "outputs": [],
   "source": [
    "evaluator, percentage_profit, percentage_profit_bh = print_test_results(best_individual, ticker_name='JPM', start='2016-03-26', end='2016-07-24')\n",
    "results['JPM'].append([percentage_profit, percentage_profit_bh])"
   ]
  },
  {
   "cell_type": "code",
   "execution_count": null,
   "metadata": {},
   "outputs": [],
   "source": [
    "plot_strategy(evaluator, ticker_name='JPM', start='2016-03-26', end='2016-07-24')"
   ]
  },
  {
   "cell_type": "code",
   "execution_count": null,
   "metadata": {},
   "outputs": [],
   "source": [
    "%%time\n",
    "best_individual = find_best_strategy(ticker_name='JPM', start='2016-04-30', end='2016-09-21', ngen=5)"
   ]
  },
  {
   "cell_type": "code",
   "execution_count": null,
   "metadata": {
    "scrolled": true
   },
   "outputs": [],
   "source": [
    "evaluator, percentage_profit, percentage_profit_bh = print_test_results(best_individual, ticker_name='JPM', start='2016-09-22', end='2017-01-20')\n",
    "results['JPM'].append([percentage_profit, percentage_profit_bh])"
   ]
  },
  {
   "cell_type": "code",
   "execution_count": null,
   "metadata": {},
   "outputs": [],
   "source": [
    "plot_strategy(evaluator, ticker_name='JPM', start='2016-09-22', end='2017-01-20')"
   ]
  },
  {
   "cell_type": "code",
   "execution_count": null,
   "metadata": {},
   "outputs": [],
   "source": [
    "%%time\n",
    "best_individual = find_best_strategy(ticker_name='JPM', start='2016-10-25', end='2017-03-20', ngen=5)"
   ]
  },
  {
   "cell_type": "code",
   "execution_count": null,
   "metadata": {
    "scrolled": true
   },
   "outputs": [],
   "source": [
    "evaluator, percentage_profit, percentage_profit_bh = print_test_results(best_individual, ticker_name='JPM', start='2017-03-21', end='2017-07-19')\n",
    "results['JPM'].append([percentage_profit, percentage_profit_bh])"
   ]
  },
  {
   "cell_type": "code",
   "execution_count": null,
   "metadata": {},
   "outputs": [],
   "source": [
    "plot_strategy(evaluator, ticker_name='JPM', start='2017-03-21', end='2017-07-19')"
   ]
  },
  {
   "cell_type": "markdown",
   "metadata": {},
   "source": [
    "## Microsoft"
   ]
  },
  {
   "cell_type": "code",
   "execution_count": null,
   "metadata": {},
   "outputs": [],
   "source": [
    "%%time\n",
    "best_individual = find_best_strategy(ticker_name='MSFT', start='2014-11-05', end='2015-03-31', ngen=5)"
   ]
  },
  {
   "cell_type": "code",
   "execution_count": null,
   "metadata": {
    "scrolled": true
   },
   "outputs": [],
   "source": [
    "evaluator, percentage_profit, percentage_profit_bh = print_test_results(best_individual, ticker_name='MSFT', start='2015-04-01', end='2015-07-30')\n",
    "results['MSFT'].append([percentage_profit, percentage_profit_bh])"
   ]
  },
  {
   "cell_type": "code",
   "execution_count": null,
   "metadata": {},
   "outputs": [],
   "source": [
    "plot_strategy(evaluator, ticker_name='MSFT', start='2015-04-01', end='2015-07-30')"
   ]
  },
  {
   "cell_type": "code",
   "execution_count": null,
   "metadata": {},
   "outputs": [],
   "source": [
    "%%time\n",
    "best_individual = find_best_strategy(ticker_name='MSFT', start='2015-05-07', end='2015-09-27', ngen=5)"
   ]
  },
  {
   "cell_type": "code",
   "execution_count": null,
   "metadata": {
    "scrolled": true
   },
   "outputs": [],
   "source": [
    "evaluator, percentage_profit, percentage_profit_bh = print_test_results(best_individual, ticker_name='MSFT', start='2015-09-28', end='2016-01-26')\n",
    "results['MSFT'].append([percentage_profit, percentage_profit_bh])"
   ]
  },
  {
   "cell_type": "code",
   "execution_count": null,
   "metadata": {},
   "outputs": [],
   "source": [
    "plot_strategy(evaluator, ticker_name='MSFT', start='2015-09-28', end='2016-01-26')"
   ]
  },
  {
   "cell_type": "code",
   "execution_count": null,
   "metadata": {},
   "outputs": [],
   "source": [
    "%%time\n",
    "best_individual = find_best_strategy(ticker_name='MSFT', start='2015-10-31', end='2016-03-25', ngen=5)"
   ]
  },
  {
   "cell_type": "code",
   "execution_count": null,
   "metadata": {
    "scrolled": true
   },
   "outputs": [],
   "source": [
    "evaluator, percentage_profit, percentage_profit_bh = print_test_results(best_individual, ticker_name='MSFT', start='2016-03-26', end='2016-07-24')\n",
    "results['MSFT'].append([percentage_profit, percentage_profit_bh])"
   ]
  },
  {
   "cell_type": "code",
   "execution_count": null,
   "metadata": {},
   "outputs": [],
   "source": [
    "plot_strategy(evaluator, ticker_name='MSFT', start='2016-03-26', end='2016-07-24')"
   ]
  },
  {
   "cell_type": "code",
   "execution_count": null,
   "metadata": {},
   "outputs": [],
   "source": [
    "%%time\n",
    "best_individual = find_best_strategy(ticker_name='MSFT', start='2016-04-30', end='2016-09-21', ngen=5)"
   ]
  },
  {
   "cell_type": "code",
   "execution_count": null,
   "metadata": {
    "scrolled": true
   },
   "outputs": [],
   "source": [
    "evaluator, percentage_profit, percentage_profit_bh = print_test_results(best_individual, ticker_name='MSFT', start='2016-09-22', end='2017-01-20')\n",
    "results['MSFT'].append([percentage_profit, percentage_profit_bh])"
   ]
  },
  {
   "cell_type": "code",
   "execution_count": null,
   "metadata": {},
   "outputs": [],
   "source": [
    "plot_strategy(evaluator, ticker_name='MSFT', start='2016-09-22', end='2017-01-20')"
   ]
  },
  {
   "cell_type": "code",
   "execution_count": null,
   "metadata": {},
   "outputs": [],
   "source": [
    "%%time\n",
    "best_individual = find_best_strategy(ticker_name='MSFT', start='2016-10-25', end='2017-03-20', ngen=5)"
   ]
  },
  {
   "cell_type": "code",
   "execution_count": null,
   "metadata": {
    "scrolled": true
   },
   "outputs": [],
   "source": [
    "evaluator, percentage_profit, percentage_profit_bh = print_test_results(best_individual, ticker_name='MSFT', start='2017-03-21', end='2017-07-19')\n",
    "results['MSFT'].append([percentage_profit, percentage_profit_bh])"
   ]
  },
  {
   "cell_type": "code",
   "execution_count": null,
   "metadata": {},
   "outputs": [],
   "source": [
    "plot_strategy(evaluator, ticker_name='MSFT', start='2017-03-21', end='2017-07-19')"
   ]
  },
  {
   "cell_type": "markdown",
   "metadata": {},
   "source": [
    "## Nike"
   ]
  },
  {
   "cell_type": "code",
   "execution_count": null,
   "metadata": {},
   "outputs": [],
   "source": [
    "%%time\n",
    "best_individual = find_best_strategy(ticker_name='NKE', start='2014-11-05', end='2015-03-31', ngen=5)"
   ]
  },
  {
   "cell_type": "code",
   "execution_count": null,
   "metadata": {
    "scrolled": true
   },
   "outputs": [],
   "source": [
    "evaluator, percentage_profit, percentage_profit_bh = print_test_results(best_individual, ticker_name='NKE', start='2015-04-01', end='2015-07-30')\n",
    "results['NKE'].append([percentage_profit, percentage_profit_bh])"
   ]
  },
  {
   "cell_type": "code",
   "execution_count": null,
   "metadata": {},
   "outputs": [],
   "source": [
    "plot_strategy(evaluator, ticker_name='NKE', start='2015-04-01', end='2015-07-30')"
   ]
  },
  {
   "cell_type": "code",
   "execution_count": null,
   "metadata": {},
   "outputs": [],
   "source": [
    "%%time\n",
    "best_individual = find_best_strategy(ticker_name='NKE', start='2015-05-07', end='2015-09-27', ngen=5)"
   ]
  },
  {
   "cell_type": "code",
   "execution_count": null,
   "metadata": {
    "scrolled": true
   },
   "outputs": [],
   "source": [
    "evaluator, percentage_profit, percentage_profit_bh = print_test_results(best_individual, ticker_name='NKE', start='2015-09-28', end='2016-01-26')\n",
    "results['NKE'].append([percentage_profit, percentage_profit_bh])"
   ]
  },
  {
   "cell_type": "code",
   "execution_count": null,
   "metadata": {},
   "outputs": [],
   "source": [
    "plot_strategy(evaluator, ticker_name='NKE', start='2015-09-28', end='2016-01-26')"
   ]
  },
  {
   "cell_type": "code",
   "execution_count": null,
   "metadata": {},
   "outputs": [],
   "source": [
    "%%time\n",
    "best_individual = find_best_strategy(ticker_name='NKE', start='2015-10-31', end='2016-03-25', ngen=5)"
   ]
  },
  {
   "cell_type": "code",
   "execution_count": null,
   "metadata": {
    "scrolled": true
   },
   "outputs": [],
   "source": [
    "evaluator, percentage_profit, percentage_profit_bh = print_test_results(best_individual, ticker_name='NKE', start='2016-03-26', end='2016-07-24')\n",
    "results['NKE'].append([percentage_profit, percentage_profit_bh])"
   ]
  },
  {
   "cell_type": "code",
   "execution_count": null,
   "metadata": {},
   "outputs": [],
   "source": [
    "plot_strategy(evaluator, ticker_name='NKE', start='2016-03-26', end='2016-07-24')"
   ]
  },
  {
   "cell_type": "code",
   "execution_count": null,
   "metadata": {},
   "outputs": [],
   "source": [
    "%%time\n",
    "best_individual = find_best_strategy(ticker_name='NKE', start='2016-04-30', end='2016-09-21', ngen=5)"
   ]
  },
  {
   "cell_type": "code",
   "execution_count": null,
   "metadata": {
    "scrolled": true
   },
   "outputs": [],
   "source": [
    "evaluator, percentage_profit, percentage_profit_bh = print_test_results(best_individual, ticker_name='NKE', start='2016-09-22', end='2017-01-20')\n",
    "results['NKE'].append([percentage_profit, percentage_profit_bh])"
   ]
  },
  {
   "cell_type": "code",
   "execution_count": null,
   "metadata": {},
   "outputs": [],
   "source": [
    "plot_strategy(evaluator, ticker_name='NKE', start='2016-09-22', end='2017-01-20')"
   ]
  },
  {
   "cell_type": "code",
   "execution_count": null,
   "metadata": {},
   "outputs": [],
   "source": [
    "%%time\n",
    "best_individual = find_best_strategy(ticker_name='NKE', start='2016-10-25', end='2017-03-20', ngen=5)"
   ]
  },
  {
   "cell_type": "code",
   "execution_count": null,
   "metadata": {
    "scrolled": true
   },
   "outputs": [],
   "source": [
    "evaluator, percentage_profit, percentage_profit_bh = print_test_results(best_individual, ticker_name='NKE', start='2017-03-21', end='2017-07-19')\n",
    "results['NKE'].append([percentage_profit, percentage_profit_bh])"
   ]
  },
  {
   "cell_type": "code",
   "execution_count": null,
   "metadata": {},
   "outputs": [],
   "source": [
    "plot_strategy(evaluator, ticker_name='NKE', start='2017-03-21', end='2017-07-19')"
   ]
  },
  {
   "cell_type": "markdown",
   "metadata": {},
   "source": [
    "## UnitedHealth"
   ]
  },
  {
   "cell_type": "code",
   "execution_count": null,
   "metadata": {},
   "outputs": [],
   "source": [
    "%%time\n",
    "best_individual = find_best_strategy(ticker_name='UNH', start='2014-11-05', end='2015-03-31', ngen=5)"
   ]
  },
  {
   "cell_type": "code",
   "execution_count": null,
   "metadata": {
    "scrolled": true
   },
   "outputs": [],
   "source": [
    "evaluator, percentage_profit, percentage_profit_bh = print_test_results(best_individual, ticker_name='UNH', start='2015-04-01', end='2015-07-30')\n",
    "results['UNH'].append([percentage_profit, percentage_profit_bh])"
   ]
  },
  {
   "cell_type": "code",
   "execution_count": null,
   "metadata": {},
   "outputs": [],
   "source": [
    "plot_strategy(evaluator, ticker_name='UNH', start='2015-04-01', end='2015-07-30')"
   ]
  },
  {
   "cell_type": "code",
   "execution_count": null,
   "metadata": {},
   "outputs": [],
   "source": [
    "%%time\n",
    "best_individual = find_best_strategy(ticker_name='UNH', start='2015-05-07', end='2015-09-27', ngen=5)"
   ]
  },
  {
   "cell_type": "code",
   "execution_count": null,
   "metadata": {
    "scrolled": true
   },
   "outputs": [],
   "source": [
    "evaluator, percentage_profit, percentage_profit_bh = print_test_results(best_individual, ticker_name='UNH', start='2015-09-28', end='2016-01-26')\n",
    "results['UNH'].append([percentage_profit, percentage_profit_bh])"
   ]
  },
  {
   "cell_type": "code",
   "execution_count": null,
   "metadata": {},
   "outputs": [],
   "source": [
    "plot_strategy(evaluator, ticker_name='UNH', start='2015-09-28', end='2016-01-26')"
   ]
  },
  {
   "cell_type": "code",
   "execution_count": null,
   "metadata": {},
   "outputs": [],
   "source": [
    "%%time\n",
    "best_individual = find_best_strategy(ticker_name='UNH', start='2015-10-31', end='2016-03-25', ngen=5)"
   ]
  },
  {
   "cell_type": "code",
   "execution_count": null,
   "metadata": {
    "scrolled": true
   },
   "outputs": [],
   "source": [
    "evaluator, percentage_profit, percentage_profit_bh = print_test_results(best_individual, ticker_name='UNH', start='2016-03-26', end='2016-07-24')\n",
    "results['UNH'].append([percentage_profit, percentage_profit_bh])"
   ]
  },
  {
   "cell_type": "code",
   "execution_count": null,
   "metadata": {},
   "outputs": [],
   "source": [
    "plot_strategy(evaluator, ticker_name='UNH', start='2016-03-26', end='2016-07-24')"
   ]
  },
  {
   "cell_type": "code",
   "execution_count": null,
   "metadata": {},
   "outputs": [],
   "source": [
    "%%time\n",
    "best_individual = find_best_strategy(ticker_name='UNH', start='2016-04-30', end='2016-09-21', ngen=5)"
   ]
  },
  {
   "cell_type": "code",
   "execution_count": null,
   "metadata": {
    "scrolled": true
   },
   "outputs": [],
   "source": [
    "evaluator, percentage_profit, percentage_profit_bh = print_test_results(best_individual, ticker_name='UNH', start='2016-09-22', end='2017-01-20')\n",
    "results['UNH'].append([percentage_profit, percentage_profit_bh])"
   ]
  },
  {
   "cell_type": "code",
   "execution_count": null,
   "metadata": {},
   "outputs": [],
   "source": [
    "plot_strategy(evaluator, ticker_name='UNH', start='2016-09-22', end='2017-01-20')"
   ]
  },
  {
   "cell_type": "code",
   "execution_count": null,
   "metadata": {},
   "outputs": [],
   "source": [
    "%%time\n",
    "best_individual = find_best_strategy(ticker_name='UNH', start='2016-10-25', end='2017-03-20', ngen=5)"
   ]
  },
  {
   "cell_type": "code",
   "execution_count": null,
   "metadata": {
    "scrolled": true
   },
   "outputs": [],
   "source": [
    "evaluator, percentage_profit, percentage_profit_bh = print_test_results(best_individual, ticker_name='UNH', start='2017-03-21', end='2017-07-19')\n",
    "results['UNH'].append([percentage_profit, percentage_profit_bh])"
   ]
  },
  {
   "cell_type": "code",
   "execution_count": null,
   "metadata": {},
   "outputs": [],
   "source": [
    "plot_strategy(evaluator, ticker_name='UNH', start='2017-03-21', end='2017-07-19')"
   ]
  }
 ],
 "metadata": {
  "kernelspec": {
   "display_name": "Python 3",
   "language": "python",
   "name": "python3"
  },
  "language_info": {
   "codemirror_mode": {
    "name": "ipython",
    "version": 3
   },
   "file_extension": ".py",
   "mimetype": "text/x-python",
   "name": "python",
   "nbconvert_exporter": "python",
   "pygments_lexer": "ipython3",
   "version": "3.7.3"
  },
  "toc": {
   "base_numbering": 1,
   "nav_menu": {},
   "number_sections": true,
   "sideBar": true,
   "skip_h1_title": false,
   "title_cell": "Table of Contents",
   "title_sidebar": "Contents",
   "toc_cell": false,
   "toc_position": {},
   "toc_section_display": true,
   "toc_window_display": false
  }
 },
 "nbformat": 4,
 "nbformat_minor": 4
}
